{
 "cells": [
  {
   "cell_type": "code",
   "execution_count": 164,
   "id": "fa3ef8a0",
   "metadata": {
    "ExecuteTime": {
     "end_time": "2021-11-29T08:13:48.051292Z",
     "start_time": "2021-11-29T08:13:48.042303Z"
    }
   },
   "outputs": [],
   "source": [
    "import pandas as pd\n",
    "import numpy as np\n",
    "import datetime"
   ]
  },
  {
   "cell_type": "code",
   "execution_count": 259,
   "id": "bc102a45",
   "metadata": {
    "ExecuteTime": {
     "end_time": "2021-11-29T08:22:34.692504Z",
     "start_time": "2021-11-29T08:22:32.233760Z"
    }
   },
   "outputs": [
    {
     "name": "stderr",
     "output_type": "stream",
     "text": [
      "C:\\ProgramData\\Anaconda3\\lib\\site-packages\\IPython\\core\\interactiveshell.py:3165: DtypeWarning: Columns (4,8) have mixed types.Specify dtype option on import or set low_memory=False.\n",
      "  has_raised = await self.run_ast_nodes(code_ast.body, cell_name,\n"
     ]
    }
   ],
   "source": [
    "df6 = pd.read_csv(\"./data/6.범죄발생원표.csv\")\n",
    "df7 = pd.read_csv(\"./data/7.범죄검거원표.csv\")\n",
    "base = pd.read_csv(\"./data/base_df.csv\")"
   ]
  },
  {
   "cell_type": "markdown",
   "id": "c69de6e8",
   "metadata": {},
   "source": [
    "# 6. 범죄발생"
   ]
  },
  {
   "cell_type": "code",
   "execution_count": 260,
   "id": "25625ba5",
   "metadata": {
    "ExecuteTime": {
     "end_time": "2021-11-29T08:22:35.315551Z",
     "start_time": "2021-11-29T08:22:34.789025Z"
    }
   },
   "outputs": [],
   "source": [
    "# 경찰서명 공백제거\n",
    "df6[\"jur_stn\"] = df6[\"jur_stn\"].str.replace(\" \", \"\")"
   ]
  },
  {
   "cell_type": "code",
   "execution_count": 261,
   "id": "81324b6b",
   "metadata": {
    "ExecuteTime": {
     "end_time": "2021-11-29T08:22:37.373487Z",
     "start_time": "2021-11-29T08:22:35.411420Z"
    }
   },
   "outputs": [],
   "source": [
    "# 도명 제거\n",
    "df6[\"jur_stn\"] = df6[\"jur_stn\"].str.replace(\"경기\", \"\")\n",
    "df6[\"jur_stn\"] = df6[\"jur_stn\"].str.replace(\"충남\", \"\")\n",
    "df6[\"jur_stn\"] = df6[\"jur_stn\"].str.replace(\"경남\", \"\")"
   ]
  },
  {
   "cell_type": "code",
   "execution_count": 262,
   "id": "4e602217",
   "metadata": {
    "ExecuteTime": {
     "end_time": "2021-11-29T08:22:37.624030Z",
     "start_time": "2021-11-29T08:22:37.455274Z"
    }
   },
   "outputs": [
    {
     "data": {
      "text/plain": [
       "set()"
      ]
     },
     "execution_count": 262,
     "metadata": {},
     "output_type": "execute_result"
    }
   ],
   "source": [
    "# base set과 data set이 다른 이름이 있는지 확인\n",
    "df6_list = set(df6[\"jur_stn\"].unique())\n",
    "police_list = list(base[\"jur_stn\"].unique())\n",
    "plist_set = set(police_list)\n",
    "df6_list - plist_set"
   ]
  },
  {
   "cell_type": "code",
   "execution_count": 263,
   "id": "6aca8df7",
   "metadata": {
    "ExecuteTime": {
     "end_time": "2021-11-29T08:22:37.810278Z",
     "start_time": "2021-11-29T08:22:37.704057Z"
    }
   },
   "outputs": [
    {
     "data": {
      "text/plain": [
       "41"
      ]
     },
     "execution_count": 263,
     "metadata": {},
     "output_type": "execute_result"
    }
   ],
   "source": [
    "len(df6[\"jur_stn\"].unique())"
   ]
  },
  {
   "cell_type": "code",
   "execution_count": 264,
   "id": "76fbb519",
   "metadata": {
    "ExecuteTime": {
     "end_time": "2021-11-29T08:22:37.980248Z",
     "start_time": "2021-11-29T08:22:37.906359Z"
    }
   },
   "outputs": [],
   "source": [
    "# 범죄발생날씨, 범죄단서정보, 피해자 연령, 범죄발생시간 column drop\n",
    "df6.drop([\"crm_wthr\", \"crm_clue\", \"vic_sx\", \"vic_age\", \"crm_tm\"], axis=1, inplace=True)"
   ]
  },
  {
   "cell_type": "code",
   "execution_count": 265,
   "id": "0a7c320b",
   "metadata": {
    "ExecuteTime": {
     "end_time": "2021-11-29T08:22:38.400831Z",
     "start_time": "2021-11-29T08:22:38.058991Z"
    }
   },
   "outputs": [],
   "source": [
    "# date 컬럼 type 변경\n",
    "df6[\"crm_date\"] = df6[\"crm_date\"].astype(\"str\")"
   ]
  },
  {
   "cell_type": "code",
   "execution_count": 266,
   "id": "33b4f1e9",
   "metadata": {
    "ExecuteTime": {
     "end_time": "2021-11-29T08:22:51.582966Z",
     "start_time": "2021-11-29T08:22:38.480620Z"
    }
   },
   "outputs": [],
   "source": [
    "# 연도, 월, 일 구분하여 datetime 적용\n",
    "def _str_to_date(x) :\n",
    "    try :\n",
    "        x = datetime.datetime.strptime(x, '%Y%m%d')\n",
    "    except ValueError :\n",
    "        x = datetime.datetime.strptime(x, '%m/%d/%Y')\n",
    "    return x \n",
    "\n",
    "df6['year'] = df6['crm_date'].map( lambda x : _str_to_date(x))\n",
    "\n",
    "df6['year'] = pd.to_datetime(df6[\"year\"])"
   ]
  },
  {
   "cell_type": "code",
   "execution_count": 267,
   "id": "89b95c5d",
   "metadata": {
    "ExecuteTime": {
     "end_time": "2021-11-29T08:22:57.158794Z",
     "start_time": "2021-11-29T08:22:51.662765Z"
    }
   },
   "outputs": [],
   "source": [
    "# 상/하반기 나누는 함수\n",
    "def _date_to_year(x) :\n",
    "    if x < datetime.date(2017,1,1):\n",
    "        return '2016(이전)'\n",
    "    if x < datetime.date(2017, 7, 1) :\n",
    "        return \"2017(상반기)\"\n",
    "    if x < datetime.date(2018,1,1) :\n",
    "        return \"2017(하반기)\"\n",
    "    if x < datetime.date(2018,7,1) :\n",
    "        return \"2018(상반기)\"\n",
    "    if x < datetime.date(2019,1,1) :\n",
    "        return \"2018(하반기)\"\n",
    "    if x < datetime.date(2019,7,1) :\n",
    "        return \"2019(상반기)\"\n",
    "    return \"2019(하반기)\"\n",
    "\n",
    "df6[\"year\"] = df6[\"year\"].map(lambda x : _date_to_year(x))"
   ]
  },
  {
   "cell_type": "code",
   "execution_count": 268,
   "id": "7c5082d3",
   "metadata": {
    "ExecuteTime": {
     "end_time": "2021-11-29T08:22:57.360315Z",
     "start_time": "2021-11-29T08:22:57.254314Z"
    }
   },
   "outputs": [
    {
     "data": {
      "text/plain": [
       "{'2016(이전)'}"
      ]
     },
     "execution_count": 268,
     "metadata": {},
     "output_type": "execute_result"
    }
   ],
   "source": [
    "# base_df와 비교 했을때 새로운 2016(이전) 생성\n",
    "set(df6[\"year\"]) - set(base[\"date\"])"
   ]
  },
  {
   "cell_type": "code",
   "execution_count": 269,
   "id": "ffd19500",
   "metadata": {
    "ExecuteTime": {
     "end_time": "2021-11-29T08:22:57.562663Z",
     "start_time": "2021-11-29T08:22:57.459017Z"
    },
    "scrolled": true
   },
   "outputs": [
    {
     "data": {
      "text/plain": [
       "2017(상반기)    199451\n",
       "2017(하반기)    194428\n",
       "2018(하반기)    185864\n",
       "2018(상반기)    181755\n",
       "2019(상반기)    174138\n",
       "2019(하반기)    132604\n",
       "2016(이전)       4982\n",
       "Name: year, dtype: int64"
      ]
     },
     "execution_count": 269,
     "metadata": {},
     "output_type": "execute_result"
    }
   ],
   "source": [
    "# 연도별 범죄 발생 건 수\n",
    "df6[\"year\"].value_counts()"
   ]
  },
  {
   "cell_type": "code",
   "execution_count": 271,
   "id": "030bd4a2",
   "metadata": {
    "ExecuteTime": {
     "end_time": "2021-11-29T08:23:22.160048Z",
     "start_time": "2021-11-29T08:23:21.924251Z"
    }
   },
   "outputs": [],
   "source": [
    "# 기존 위치, date 컬럼 삭제\n",
    "df6.drop([\"crm_loc\", \"crm_date\"], axis = 1, inplace = True)"
   ]
  },
  {
   "cell_type": "code",
   "execution_count": 272,
   "id": "07eb457c",
   "metadata": {
    "ExecuteTime": {
     "end_time": "2021-11-29T08:23:23.964592Z",
     "start_time": "2021-11-29T08:23:23.941645Z"
    }
   },
   "outputs": [
    {
     "data": {
      "text/html": [
       "<div>\n",
       "<style scoped>\n",
       "    .dataframe tbody tr th:only-of-type {\n",
       "        vertical-align: middle;\n",
       "    }\n",
       "\n",
       "    .dataframe tbody tr th {\n",
       "        vertical-align: top;\n",
       "    }\n",
       "\n",
       "    .dataframe thead th {\n",
       "        text-align: right;\n",
       "    }\n",
       "</style>\n",
       "<table border=\"1\" class=\"dataframe\">\n",
       "  <thead>\n",
       "    <tr style=\"text-align: right;\">\n",
       "      <th></th>\n",
       "      <th>jur_stn</th>\n",
       "      <th>crm</th>\n",
       "      <th>5m_crm_yn</th>\n",
       "      <th>year</th>\n",
       "    </tr>\n",
       "  </thead>\n",
       "  <tbody>\n",
       "    <tr>\n",
       "      <th>0</th>\n",
       "      <td>서울수서경찰서</td>\n",
       "      <td>위조외국통화행사</td>\n",
       "      <td></td>\n",
       "      <td>2017(상반기)</td>\n",
       "    </tr>\n",
       "    <tr>\n",
       "      <th>1</th>\n",
       "      <td>서울영등포경찰서</td>\n",
       "      <td>도로교통법위반</td>\n",
       "      <td></td>\n",
       "      <td>2017(상반기)</td>\n",
       "    </tr>\n",
       "    <tr>\n",
       "      <th>2</th>\n",
       "      <td>서울양천경찰서</td>\n",
       "      <td>209015100</td>\n",
       "      <td></td>\n",
       "      <td>2017(상반기)</td>\n",
       "    </tr>\n",
       "    <tr>\n",
       "      <th>3</th>\n",
       "      <td>서울서초경찰서</td>\n",
       "      <td>폭행</td>\n",
       "      <td>폭력</td>\n",
       "      <td>2017(상반기)</td>\n",
       "    </tr>\n",
       "    <tr>\n",
       "      <th>4</th>\n",
       "      <td>서울동대문경찰서</td>\n",
       "      <td>사기</td>\n",
       "      <td></td>\n",
       "      <td>2017(상반기)</td>\n",
       "    </tr>\n",
       "    <tr>\n",
       "      <th>...</th>\n",
       "      <td>...</td>\n",
       "      <td>...</td>\n",
       "      <td>...</td>\n",
       "      <td>...</td>\n",
       "    </tr>\n",
       "    <tr>\n",
       "      <th>1073217</th>\n",
       "      <td>진해경찰서</td>\n",
       "      <td>사기</td>\n",
       "      <td></td>\n",
       "      <td>2019(하반기)</td>\n",
       "    </tr>\n",
       "    <tr>\n",
       "      <th>1073218</th>\n",
       "      <td>진해경찰서</td>\n",
       "      <td>폭행</td>\n",
       "      <td>폭력</td>\n",
       "      <td>2019(하반기)</td>\n",
       "    </tr>\n",
       "    <tr>\n",
       "      <th>1073219</th>\n",
       "      <td>마산동부경찰서</td>\n",
       "      <td>재물손괴</td>\n",
       "      <td>폭력</td>\n",
       "      <td>2019(하반기)</td>\n",
       "    </tr>\n",
       "    <tr>\n",
       "      <th>1073220</th>\n",
       "      <td>마산중부경찰서</td>\n",
       "      <td>사기</td>\n",
       "      <td></td>\n",
       "      <td>2019(하반기)</td>\n",
       "    </tr>\n",
       "    <tr>\n",
       "      <th>1073221</th>\n",
       "      <td>마산동부경찰서</td>\n",
       "      <td>강제추행</td>\n",
       "      <td>강간 및 강제추행</td>\n",
       "      <td>2019(상반기)</td>\n",
       "    </tr>\n",
       "  </tbody>\n",
       "</table>\n",
       "<p>1073222 rows × 4 columns</p>\n",
       "</div>"
      ],
      "text/plain": [
       "          jur_stn        crm  5m_crm_yn       year\n",
       "0         서울수서경찰서   위조외국통화행사             2017(상반기)\n",
       "1        서울영등포경찰서    도로교통법위반             2017(상반기)\n",
       "2         서울양천경찰서  209015100             2017(상반기)\n",
       "3         서울서초경찰서         폭행         폭력  2017(상반기)\n",
       "4        서울동대문경찰서         사기             2017(상반기)\n",
       "...           ...        ...        ...        ...\n",
       "1073217     진해경찰서         사기             2019(하반기)\n",
       "1073218     진해경찰서         폭행         폭력  2019(하반기)\n",
       "1073219   마산동부경찰서       재물손괴         폭력  2019(하반기)\n",
       "1073220   마산중부경찰서         사기             2019(하반기)\n",
       "1073221   마산동부경찰서       강제추행  강간 및 강제추행  2019(상반기)\n",
       "\n",
       "[1073222 rows x 4 columns]"
      ]
     },
     "execution_count": 272,
     "metadata": {},
     "output_type": "execute_result"
    }
   ],
   "source": [
    "df6"
   ]
  },
  {
   "cell_type": "code",
   "execution_count": 273,
   "id": "5343a7bb",
   "metadata": {
    "ExecuteTime": {
     "end_time": "2021-11-29T08:23:30.079878Z",
     "start_time": "2021-11-29T08:23:29.971036Z"
    }
   },
   "outputs": [],
   "source": [
    "# 기존 공백 값 nan으로 변경 후 미분류로 변경\n",
    "df6[\"5m_crm_yn\"] = df6[\"5m_crm_yn\"].replace(\" \", np.NaN)\n",
    "df6[\"5m_crm_yn\"] = df6[\"5m_crm_yn\"].fillna(\"미분류\")"
   ]
  },
  {
   "cell_type": "code",
   "execution_count": 277,
   "id": "b38bae3c",
   "metadata": {
    "ExecuteTime": {
     "end_time": "2021-11-29T08:25:02.095615Z",
     "start_time": "2021-11-29T08:25:01.729546Z"
    }
   },
   "outputs": [],
   "source": [
    "df6_tt = df6.groupby([\"jur_stn\", \"year\"], as_index=False).count()\n",
    "df6_tt.drop(\"5m_crm_yn\", axis = 1, inplace=True)"
   ]
  },
  {
   "cell_type": "code",
   "execution_count": 279,
   "id": "a79df117",
   "metadata": {
    "ExecuteTime": {
     "end_time": "2021-11-29T08:25:52.497758Z",
     "start_time": "2021-11-29T08:25:52.476812Z"
    }
   },
   "outputs": [],
   "source": [
    "df6_tt.to_csv(\"./data/6번.범죄발생_proccessed.csv\", index=False)"
   ]
  },
  {
   "cell_type": "code",
   "execution_count": 179,
   "id": "eda66ae8",
   "metadata": {
    "ExecuteTime": {
     "end_time": "2021-11-29T08:14:19.508689Z",
     "start_time": "2021-11-29T08:14:15.090260Z"
    }
   },
   "outputs": [],
   "source": [
    "df6.loc[df6['crm'].str.contains('절도'), ['theft_violence']] = 1\n",
    "df6.loc[df6['crm'].str.contains('폭력'), ['theft_violence']] = 1\n",
    "\n",
    "df6.loc[df6['crm'].str.contains('강도'), ['robber_murder']] = 1\n",
    "df6.loc[df6['crm'].str.contains('살인'), ['robber_murder']] = 1\n",
    "\n",
    "df6.loc[df6['crm'].str.contains('교통'), ['traffic']] = 1\n",
    "\n",
    "df6.loc[df6['crm'].str.contains('집회'), ['public']] = 1\n",
    "df6.loc[df6['crm'].str.contains('광고물'), ['public']] = 1\n",
    "df6.loc[df6['crm'].str.contains('국민기초'), ['public']] = 1"
   ]
  },
  {
   "cell_type": "code",
   "execution_count": 180,
   "id": "e466c8b0",
   "metadata": {
    "ExecuteTime": {
     "end_time": "2021-11-29T08:14:22.017870Z",
     "start_time": "2021-11-29T08:14:21.662492Z"
    }
   },
   "outputs": [],
   "source": [
    "df6_test = df6.groupby([\"jur_stn\", \"year\"], as_index=False).count()"
   ]
  },
  {
   "cell_type": "code",
   "execution_count": 182,
   "id": "0ddf634f",
   "metadata": {
    "ExecuteTime": {
     "end_time": "2021-11-29T08:14:32.769333Z",
     "start_time": "2021-11-29T08:14:32.745827Z"
    }
   },
   "outputs": [],
   "source": [
    "df6_test.to_csv(\"./data/6번.범죄발생_total.csv\", index=False)"
   ]
  }
 ],
 "metadata": {
  "kernelspec": {
   "display_name": "Python 3",
   "language": "python",
   "name": "python3"
  },
  "language_info": {
   "codemirror_mode": {
    "name": "ipython",
    "version": 3
   },
   "file_extension": ".py",
   "mimetype": "text/x-python",
   "name": "python",
   "nbconvert_exporter": "python",
   "pygments_lexer": "ipython3",
   "version": "3.8.8"
  },
  "toc": {
   "base_numbering": 1,
   "nav_menu": {},
   "number_sections": true,
   "sideBar": true,
   "skip_h1_title": false,
   "title_cell": "Table of Contents",
   "title_sidebar": "Contents",
   "toc_cell": false,
   "toc_position": {},
   "toc_section_display": true,
   "toc_window_display": false
  },
  "varInspector": {
   "cols": {
    "lenName": 16,
    "lenType": 16,
    "lenVar": 40
   },
   "kernels_config": {
    "python": {
     "delete_cmd_postfix": "",
     "delete_cmd_prefix": "del ",
     "library": "var_list.py",
     "varRefreshCmd": "print(var_dic_list())"
    },
    "r": {
     "delete_cmd_postfix": ") ",
     "delete_cmd_prefix": "rm(",
     "library": "var_list.r",
     "varRefreshCmd": "cat(var_dic_list()) "
    }
   },
   "types_to_exclude": [
    "module",
    "function",
    "builtin_function_or_method",
    "instance",
    "_Feature"
   ],
   "window_display": false
  }
 },
 "nbformat": 4,
 "nbformat_minor": 5
}
