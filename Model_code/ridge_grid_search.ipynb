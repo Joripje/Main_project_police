{
 "cells": [
  {
   "cell_type": "code",
   "execution_count": 1,
   "metadata": {
    "ExecuteTime": {
     "end_time": "2021-12-03T05:30:33.861075Z",
     "start_time": "2021-12-03T05:30:33.856087Z"
    }
   },
   "outputs": [],
   "source": [
    "import pandas as pd\n",
    "import numpy as np\n",
    "#import matplotlib.pyplot as plt\n",
    "#import seaborn as sns"
   ]
  },
  {
   "cell_type": "code",
   "execution_count": 3,
   "metadata": {},
   "outputs": [],
   "source": [
    "df = pd.read_csv('total_data(학력포함) (1).csv')"
   ]
  },
  {
   "cell_type": "markdown",
   "metadata": {},
   "source": [
    "### xdata로 상관계수가 높은 column을 넣어서 Ridge\n",
    "- elasticnet으로 상관계수가 높은 feature를 넣어 모델생성"
   ]
  },
  {
   "cell_type": "code",
   "execution_count": 6,
   "metadata": {},
   "outputs": [],
   "source": [
    "from sklearn.metrics import mean_squared_error"
   ]
  },
  {
   "cell_type": "code",
   "execution_count": 7,
   "metadata": {},
   "outputs": [],
   "source": [
    "from sklearn.preprocessing import LabelEncoder"
   ]
  },
  {
   "cell_type": "code",
   "execution_count": 8,
   "metadata": {
    "ExecuteTime": {
     "end_time": "2021-12-03T05:30:34.867622Z",
     "start_time": "2021-12-03T05:30:34.858611Z"
    }
   },
   "outputs": [],
   "source": [
    "# 필요 패키지 로드\n",
    "#from sklearn.preprocessing import MinMaxScaler\n",
    "from sklearn.preprocessing import StandardScaler, MinMaxScaler\n",
    "from sklearn.linear_model import Ridge\n",
    "from sklearn.metrics import mean_absolute_error, mean_squared_error"
   ]
  },
  {
   "cell_type": "code",
   "execution_count": 9,
   "metadata": {},
   "outputs": [
    {
     "data": {
      "text/html": [
       "<div>\n",
       "<style scoped>\n",
       "    .dataframe tbody tr th:only-of-type {\n",
       "        vertical-align: middle;\n",
       "    }\n",
       "\n",
       "    .dataframe tbody tr th {\n",
       "        vertical-align: top;\n",
       "    }\n",
       "\n",
       "    .dataframe thead th {\n",
       "        text-align: right;\n",
       "    }\n",
       "</style>\n",
       "<table border=\"1\" class=\"dataframe\">\n",
       "  <thead>\n",
       "    <tr style=\"text-align: right;\">\n",
       "      <th></th>\n",
       "      <th>jur_stn</th>\n",
       "      <th>year</th>\n",
       "      <th>sgg_nm</th>\n",
       "      <th>child</th>\n",
       "      <th>house</th>\n",
       "      <th>report_sx_total</th>\n",
       "      <th>vio_cnt</th>\n",
       "      <th>mur_rob_cnt</th>\n",
       "      <th>car_cnt</th>\n",
       "      <th>popu_합계</th>\n",
       "      <th>...</th>\n",
       "      <th>인구대비고학력자</th>\n",
       "      <th>popu_u20</th>\n",
       "      <th>popu_o60</th>\n",
       "      <th>for_u20</th>\n",
       "      <th>for_2030</th>\n",
       "      <th>q1</th>\n",
       "      <th>q2</th>\n",
       "      <th>q3</th>\n",
       "      <th>q4</th>\n",
       "      <th>q5</th>\n",
       "    </tr>\n",
       "  </thead>\n",
       "  <tbody>\n",
       "    <tr>\n",
       "      <th>0</th>\n",
       "      <td>서울중부경찰서</td>\n",
       "      <td>2017(상반기)</td>\n",
       "      <td>중구</td>\n",
       "      <td>39</td>\n",
       "      <td>97</td>\n",
       "      <td>22574</td>\n",
       "      <td>1324</td>\n",
       "      <td>0</td>\n",
       "      <td>1412</td>\n",
       "      <td>63948.0</td>\n",
       "      <td>...</td>\n",
       "      <td>0.817</td>\n",
       "      <td>8387.00000</td>\n",
       "      <td>14108.00000</td>\n",
       "      <td>446.500000</td>\n",
       "      <td>2436.000000</td>\n",
       "      <td>75.2</td>\n",
       "      <td>76.5</td>\n",
       "      <td>69.9</td>\n",
       "      <td>65.9</td>\n",
       "      <td>72.6</td>\n",
       "    </tr>\n",
       "    <tr>\n",
       "      <th>1</th>\n",
       "      <td>서울종로경찰서</td>\n",
       "      <td>2017(상반기)</td>\n",
       "      <td>종로구</td>\n",
       "      <td>46</td>\n",
       "      <td>98</td>\n",
       "      <td>19674</td>\n",
       "      <td>1102</td>\n",
       "      <td>0</td>\n",
       "      <td>867</td>\n",
       "      <td>78638.5</td>\n",
       "      <td>...</td>\n",
       "      <td>0.926</td>\n",
       "      <td>11965.50000</td>\n",
       "      <td>16858.00000</td>\n",
       "      <td>558.000000</td>\n",
       "      <td>3031.500000</td>\n",
       "      <td>81.6</td>\n",
       "      <td>82.4</td>\n",
       "      <td>69.1</td>\n",
       "      <td>62.7</td>\n",
       "      <td>72.2</td>\n",
       "    </tr>\n",
       "    <tr>\n",
       "      <th>2</th>\n",
       "      <td>서울남대문경찰서</td>\n",
       "      <td>2017(상반기)</td>\n",
       "      <td>중구</td>\n",
       "      <td>39</td>\n",
       "      <td>97</td>\n",
       "      <td>14499</td>\n",
       "      <td>949</td>\n",
       "      <td>0</td>\n",
       "      <td>736</td>\n",
       "      <td>63948.0</td>\n",
       "      <td>...</td>\n",
       "      <td>0.817</td>\n",
       "      <td>8387.00000</td>\n",
       "      <td>14108.00000</td>\n",
       "      <td>446.500000</td>\n",
       "      <td>2436.000000</td>\n",
       "      <td>77.3</td>\n",
       "      <td>79.3</td>\n",
       "      <td>68.8</td>\n",
       "      <td>61.0</td>\n",
       "      <td>71.7</td>\n",
       "    </tr>\n",
       "    <tr>\n",
       "      <th>3</th>\n",
       "      <td>서울서대문경찰서</td>\n",
       "      <td>2017(상반기)</td>\n",
       "      <td>서대문구</td>\n",
       "      <td>39</td>\n",
       "      <td>98</td>\n",
       "      <td>38769</td>\n",
       "      <td>1924</td>\n",
       "      <td>0</td>\n",
       "      <td>1788</td>\n",
       "      <td>321345.0</td>\n",
       "      <td>...</td>\n",
       "      <td>0.451</td>\n",
       "      <td>49895.00000</td>\n",
       "      <td>65887.00000</td>\n",
       "      <td>1370.000000</td>\n",
       "      <td>8272.000000</td>\n",
       "      <td>78.0</td>\n",
       "      <td>80.0</td>\n",
       "      <td>67.0</td>\n",
       "      <td>66.3</td>\n",
       "      <td>71.4</td>\n",
       "    </tr>\n",
       "    <tr>\n",
       "      <th>4</th>\n",
       "      <td>서울혜화경찰서</td>\n",
       "      <td>2017(상반기)</td>\n",
       "      <td>종로구</td>\n",
       "      <td>46</td>\n",
       "      <td>98</td>\n",
       "      <td>18857</td>\n",
       "      <td>1127</td>\n",
       "      <td>0</td>\n",
       "      <td>899</td>\n",
       "      <td>78638.5</td>\n",
       "      <td>...</td>\n",
       "      <td>1.911</td>\n",
       "      <td>11965.50000</td>\n",
       "      <td>16858.00000</td>\n",
       "      <td>558.000000</td>\n",
       "      <td>3031.500000</td>\n",
       "      <td>78.6</td>\n",
       "      <td>80.6</td>\n",
       "      <td>70.7</td>\n",
       "      <td>65.2</td>\n",
       "      <td>75.4</td>\n",
       "    </tr>\n",
       "    <tr>\n",
       "      <th>...</th>\n",
       "      <td>...</td>\n",
       "      <td>...</td>\n",
       "      <td>...</td>\n",
       "      <td>...</td>\n",
       "      <td>...</td>\n",
       "      <td>...</td>\n",
       "      <td>...</td>\n",
       "      <td>...</td>\n",
       "      <td>...</td>\n",
       "      <td>...</td>\n",
       "      <td>...</td>\n",
       "      <td>...</td>\n",
       "      <td>...</td>\n",
       "      <td>...</td>\n",
       "      <td>...</td>\n",
       "      <td>...</td>\n",
       "      <td>...</td>\n",
       "      <td>...</td>\n",
       "      <td>...</td>\n",
       "      <td>...</td>\n",
       "      <td>...</td>\n",
       "    </tr>\n",
       "    <tr>\n",
       "      <th>323</th>\n",
       "      <td>창원서부경찰서</td>\n",
       "      <td>2020(하반기)</td>\n",
       "      <td>창원시의창구</td>\n",
       "      <td>44</td>\n",
       "      <td>95</td>\n",
       "      <td>21563</td>\n",
       "      <td>1282</td>\n",
       "      <td>1</td>\n",
       "      <td>1984</td>\n",
       "      <td>262241.0</td>\n",
       "      <td>...</td>\n",
       "      <td>0.320</td>\n",
       "      <td>45880.72761</td>\n",
       "      <td>50217.93096</td>\n",
       "      <td>142.079412</td>\n",
       "      <td>2112.812745</td>\n",
       "      <td>NaN</td>\n",
       "      <td>NaN</td>\n",
       "      <td>NaN</td>\n",
       "      <td>NaN</td>\n",
       "      <td>NaN</td>\n",
       "    </tr>\n",
       "    <tr>\n",
       "      <th>324</th>\n",
       "      <td>마산중부경찰서</td>\n",
       "      <td>2020(하반기)</td>\n",
       "      <td>창원시마산합포구</td>\n",
       "      <td>37</td>\n",
       "      <td>88</td>\n",
       "      <td>17412</td>\n",
       "      <td>1107</td>\n",
       "      <td>1</td>\n",
       "      <td>1301</td>\n",
       "      <td>175504.0</td>\n",
       "      <td>...</td>\n",
       "      <td>0.223</td>\n",
       "      <td>27766.71160</td>\n",
       "      <td>50395.17321</td>\n",
       "      <td>117.334817</td>\n",
       "      <td>1325.677583</td>\n",
       "      <td>NaN</td>\n",
       "      <td>NaN</td>\n",
       "      <td>NaN</td>\n",
       "      <td>NaN</td>\n",
       "      <td>NaN</td>\n",
       "    </tr>\n",
       "    <tr>\n",
       "      <th>325</th>\n",
       "      <td>마산동부경찰서</td>\n",
       "      <td>2020(하반기)</td>\n",
       "      <td>창원시마산회원구</td>\n",
       "      <td>44</td>\n",
       "      <td>86</td>\n",
       "      <td>24025</td>\n",
       "      <td>1430</td>\n",
       "      <td>4</td>\n",
       "      <td>1919</td>\n",
       "      <td>193101.0</td>\n",
       "      <td>...</td>\n",
       "      <td>0.371</td>\n",
       "      <td>32967.82711</td>\n",
       "      <td>47652.63810</td>\n",
       "      <td>86.381052</td>\n",
       "      <td>1196.795542</td>\n",
       "      <td>NaN</td>\n",
       "      <td>NaN</td>\n",
       "      <td>NaN</td>\n",
       "      <td>NaN</td>\n",
       "      <td>NaN</td>\n",
       "    </tr>\n",
       "    <tr>\n",
       "      <th>326</th>\n",
       "      <td>진주경찰서</td>\n",
       "      <td>2020(하반기)</td>\n",
       "      <td>진주시</td>\n",
       "      <td>64</td>\n",
       "      <td>92</td>\n",
       "      <td>34627</td>\n",
       "      <td>2347</td>\n",
       "      <td>2</td>\n",
       "      <td>3169</td>\n",
       "      <td>353236.0</td>\n",
       "      <td>...</td>\n",
       "      <td>0.289</td>\n",
       "      <td>66534.82706</td>\n",
       "      <td>79519.64063</td>\n",
       "      <td>381.038777</td>\n",
       "      <td>4410.703579</td>\n",
       "      <td>NaN</td>\n",
       "      <td>NaN</td>\n",
       "      <td>NaN</td>\n",
       "      <td>NaN</td>\n",
       "      <td>NaN</td>\n",
       "    </tr>\n",
       "    <tr>\n",
       "      <th>327</th>\n",
       "      <td>진해경찰서</td>\n",
       "      <td>2020(하반기)</td>\n",
       "      <td>창원시진해구</td>\n",
       "      <td>37</td>\n",
       "      <td>90</td>\n",
       "      <td>16772</td>\n",
       "      <td>1116</td>\n",
       "      <td>1</td>\n",
       "      <td>1537</td>\n",
       "      <td>192759.0</td>\n",
       "      <td>...</td>\n",
       "      <td>0.278</td>\n",
       "      <td>40904.67461</td>\n",
       "      <td>38672.97809</td>\n",
       "      <td>144.998170</td>\n",
       "      <td>1938.324588</td>\n",
       "      <td>NaN</td>\n",
       "      <td>NaN</td>\n",
       "      <td>NaN</td>\n",
       "      <td>NaN</td>\n",
       "      <td>NaN</td>\n",
       "    </tr>\n",
       "  </tbody>\n",
       "</table>\n",
       "<p>328 rows × 92 columns</p>\n",
       "</div>"
      ],
      "text/plain": [
       "      jur_stn       year    sgg_nm  child  house  report_sx_total  vio_cnt  \\\n",
       "0     서울중부경찰서  2017(상반기)        중구     39     97            22574     1324   \n",
       "1     서울종로경찰서  2017(상반기)       종로구     46     98            19674     1102   \n",
       "2    서울남대문경찰서  2017(상반기)        중구     39     97            14499      949   \n",
       "3    서울서대문경찰서  2017(상반기)      서대문구     39     98            38769     1924   \n",
       "4     서울혜화경찰서  2017(상반기)       종로구     46     98            18857     1127   \n",
       "..        ...        ...       ...    ...    ...              ...      ...   \n",
       "323   창원서부경찰서  2020(하반기)    창원시의창구     44     95            21563     1282   \n",
       "324   마산중부경찰서  2020(하반기)  창원시마산합포구     37     88            17412     1107   \n",
       "325   마산동부경찰서  2020(하반기)  창원시마산회원구     44     86            24025     1430   \n",
       "326     진주경찰서  2020(하반기)       진주시     64     92            34627     2347   \n",
       "327     진해경찰서  2020(하반기)    창원시진해구     37     90            16772     1116   \n",
       "\n",
       "     mur_rob_cnt  car_cnt   popu_합계  ...  인구대비고학력자     popu_u20     popu_o60  \\\n",
       "0              0     1412   63948.0  ...     0.817   8387.00000  14108.00000   \n",
       "1              0      867   78638.5  ...     0.926  11965.50000  16858.00000   \n",
       "2              0      736   63948.0  ...     0.817   8387.00000  14108.00000   \n",
       "3              0     1788  321345.0  ...     0.451  49895.00000  65887.00000   \n",
       "4              0      899   78638.5  ...     1.911  11965.50000  16858.00000   \n",
       "..           ...      ...       ...  ...       ...          ...          ...   \n",
       "323            1     1984  262241.0  ...     0.320  45880.72761  50217.93096   \n",
       "324            1     1301  175504.0  ...     0.223  27766.71160  50395.17321   \n",
       "325            4     1919  193101.0  ...     0.371  32967.82711  47652.63810   \n",
       "326            2     3169  353236.0  ...     0.289  66534.82706  79519.64063   \n",
       "327            1     1537  192759.0  ...     0.278  40904.67461  38672.97809   \n",
       "\n",
       "         for_u20     for_2030    q1    q2    q3    q4    q5  \n",
       "0     446.500000  2436.000000  75.2  76.5  69.9  65.9  72.6  \n",
       "1     558.000000  3031.500000  81.6  82.4  69.1  62.7  72.2  \n",
       "2     446.500000  2436.000000  77.3  79.3  68.8  61.0  71.7  \n",
       "3    1370.000000  8272.000000  78.0  80.0  67.0  66.3  71.4  \n",
       "4     558.000000  3031.500000  78.6  80.6  70.7  65.2  75.4  \n",
       "..           ...          ...   ...   ...   ...   ...   ...  \n",
       "323   142.079412  2112.812745   NaN   NaN   NaN   NaN   NaN  \n",
       "324   117.334817  1325.677583   NaN   NaN   NaN   NaN   NaN  \n",
       "325    86.381052  1196.795542   NaN   NaN   NaN   NaN   NaN  \n",
       "326   381.038777  4410.703579   NaN   NaN   NaN   NaN   NaN  \n",
       "327   144.998170  1938.324588   NaN   NaN   NaN   NaN   NaN  \n",
       "\n",
       "[328 rows x 92 columns]"
      ]
     },
     "execution_count": 9,
     "metadata": {},
     "output_type": "execute_result"
    }
   ],
   "source": [
    "df"
   ]
  },
  {
   "cell_type": "code",
   "execution_count": 10,
   "metadata": {
    "ExecuteTime": {
     "end_time": "2021-12-03T05:30:35.392057Z",
     "start_time": "2021-12-03T05:30:35.350155Z"
    }
   },
   "outputs": [
    {
     "data": {
      "text/html": [
       "<div>\n",
       "<style scoped>\n",
       "    .dataframe tbody tr th:only-of-type {\n",
       "        vertical-align: middle;\n",
       "    }\n",
       "\n",
       "    .dataframe tbody tr th {\n",
       "        vertical-align: top;\n",
       "    }\n",
       "\n",
       "    .dataframe thead th {\n",
       "        text-align: right;\n",
       "    }\n",
       "</style>\n",
       "<table border=\"1\" class=\"dataframe\">\n",
       "  <thead>\n",
       "    <tr style=\"text-align: right;\">\n",
       "      <th></th>\n",
       "      <th>jur_stn</th>\n",
       "      <th>year</th>\n",
       "      <th>sgg_nm</th>\n",
       "      <th>child</th>\n",
       "      <th>house</th>\n",
       "      <th>report_sx_total</th>\n",
       "      <th>vio_cnt</th>\n",
       "      <th>mur_rob_cnt</th>\n",
       "      <th>car_cnt</th>\n",
       "      <th>popu_합계</th>\n",
       "      <th>...</th>\n",
       "      <th>인구대비고학력자</th>\n",
       "      <th>popu_u20</th>\n",
       "      <th>popu_o60</th>\n",
       "      <th>for_u20</th>\n",
       "      <th>for_2030</th>\n",
       "      <th>q1</th>\n",
       "      <th>q2</th>\n",
       "      <th>q3</th>\n",
       "      <th>q4</th>\n",
       "      <th>q5</th>\n",
       "    </tr>\n",
       "  </thead>\n",
       "  <tbody>\n",
       "    <tr>\n",
       "      <th>0</th>\n",
       "      <td>서울중부경찰서</td>\n",
       "      <td>2017(상반기)</td>\n",
       "      <td>중구</td>\n",
       "      <td>39</td>\n",
       "      <td>97</td>\n",
       "      <td>22574</td>\n",
       "      <td>1324</td>\n",
       "      <td>0</td>\n",
       "      <td>1412</td>\n",
       "      <td>63948.0</td>\n",
       "      <td>...</td>\n",
       "      <td>0.817</td>\n",
       "      <td>8387.0</td>\n",
       "      <td>14108.0</td>\n",
       "      <td>446.5</td>\n",
       "      <td>2436.0</td>\n",
       "      <td>75.2</td>\n",
       "      <td>76.5</td>\n",
       "      <td>69.9</td>\n",
       "      <td>65.9</td>\n",
       "      <td>72.6</td>\n",
       "    </tr>\n",
       "    <tr>\n",
       "      <th>1</th>\n",
       "      <td>서울종로경찰서</td>\n",
       "      <td>2017(상반기)</td>\n",
       "      <td>종로구</td>\n",
       "      <td>46</td>\n",
       "      <td>98</td>\n",
       "      <td>19674</td>\n",
       "      <td>1102</td>\n",
       "      <td>0</td>\n",
       "      <td>867</td>\n",
       "      <td>78638.5</td>\n",
       "      <td>...</td>\n",
       "      <td>0.926</td>\n",
       "      <td>11965.5</td>\n",
       "      <td>16858.0</td>\n",
       "      <td>558.0</td>\n",
       "      <td>3031.5</td>\n",
       "      <td>81.6</td>\n",
       "      <td>82.4</td>\n",
       "      <td>69.1</td>\n",
       "      <td>62.7</td>\n",
       "      <td>72.2</td>\n",
       "    </tr>\n",
       "    <tr>\n",
       "      <th>2</th>\n",
       "      <td>서울남대문경찰서</td>\n",
       "      <td>2017(상반기)</td>\n",
       "      <td>중구</td>\n",
       "      <td>39</td>\n",
       "      <td>97</td>\n",
       "      <td>14499</td>\n",
       "      <td>949</td>\n",
       "      <td>0</td>\n",
       "      <td>736</td>\n",
       "      <td>63948.0</td>\n",
       "      <td>...</td>\n",
       "      <td>0.817</td>\n",
       "      <td>8387.0</td>\n",
       "      <td>14108.0</td>\n",
       "      <td>446.5</td>\n",
       "      <td>2436.0</td>\n",
       "      <td>77.3</td>\n",
       "      <td>79.3</td>\n",
       "      <td>68.8</td>\n",
       "      <td>61.0</td>\n",
       "      <td>71.7</td>\n",
       "    </tr>\n",
       "    <tr>\n",
       "      <th>3</th>\n",
       "      <td>서울서대문경찰서</td>\n",
       "      <td>2017(상반기)</td>\n",
       "      <td>서대문구</td>\n",
       "      <td>39</td>\n",
       "      <td>98</td>\n",
       "      <td>38769</td>\n",
       "      <td>1924</td>\n",
       "      <td>0</td>\n",
       "      <td>1788</td>\n",
       "      <td>321345.0</td>\n",
       "      <td>...</td>\n",
       "      <td>0.451</td>\n",
       "      <td>49895.0</td>\n",
       "      <td>65887.0</td>\n",
       "      <td>1370.0</td>\n",
       "      <td>8272.0</td>\n",
       "      <td>78.0</td>\n",
       "      <td>80.0</td>\n",
       "      <td>67.0</td>\n",
       "      <td>66.3</td>\n",
       "      <td>71.4</td>\n",
       "    </tr>\n",
       "    <tr>\n",
       "      <th>4</th>\n",
       "      <td>서울혜화경찰서</td>\n",
       "      <td>2017(상반기)</td>\n",
       "      <td>종로구</td>\n",
       "      <td>46</td>\n",
       "      <td>98</td>\n",
       "      <td>18857</td>\n",
       "      <td>1127</td>\n",
       "      <td>0</td>\n",
       "      <td>899</td>\n",
       "      <td>78638.5</td>\n",
       "      <td>...</td>\n",
       "      <td>1.911</td>\n",
       "      <td>11965.5</td>\n",
       "      <td>16858.0</td>\n",
       "      <td>558.0</td>\n",
       "      <td>3031.5</td>\n",
       "      <td>78.6</td>\n",
       "      <td>80.6</td>\n",
       "      <td>70.7</td>\n",
       "      <td>65.2</td>\n",
       "      <td>75.4</td>\n",
       "    </tr>\n",
       "    <tr>\n",
       "      <th>...</th>\n",
       "      <td>...</td>\n",
       "      <td>...</td>\n",
       "      <td>...</td>\n",
       "      <td>...</td>\n",
       "      <td>...</td>\n",
       "      <td>...</td>\n",
       "      <td>...</td>\n",
       "      <td>...</td>\n",
       "      <td>...</td>\n",
       "      <td>...</td>\n",
       "      <td>...</td>\n",
       "      <td>...</td>\n",
       "      <td>...</td>\n",
       "      <td>...</td>\n",
       "      <td>...</td>\n",
       "      <td>...</td>\n",
       "      <td>...</td>\n",
       "      <td>...</td>\n",
       "      <td>...</td>\n",
       "      <td>...</td>\n",
       "      <td>...</td>\n",
       "    </tr>\n",
       "    <tr>\n",
       "      <th>241</th>\n",
       "      <td>창원서부경찰서</td>\n",
       "      <td>2019(하반기)</td>\n",
       "      <td>창원시의창구</td>\n",
       "      <td>44</td>\n",
       "      <td>87</td>\n",
       "      <td>22771</td>\n",
       "      <td>1460</td>\n",
       "      <td>2</td>\n",
       "      <td>1964</td>\n",
       "      <td>256001.0</td>\n",
       "      <td>...</td>\n",
       "      <td>0.328</td>\n",
       "      <td>44789.0</td>\n",
       "      <td>49023.0</td>\n",
       "      <td>201.0</td>\n",
       "      <td>2989.0</td>\n",
       "      <td>79.1</td>\n",
       "      <td>79.5</td>\n",
       "      <td>68.5</td>\n",
       "      <td>71.2</td>\n",
       "      <td>76.0</td>\n",
       "    </tr>\n",
       "    <tr>\n",
       "      <th>242</th>\n",
       "      <td>마산중부경찰서</td>\n",
       "      <td>2019(하반기)</td>\n",
       "      <td>창원시마산합포구</td>\n",
       "      <td>37</td>\n",
       "      <td>88</td>\n",
       "      <td>21264</td>\n",
       "      <td>1265</td>\n",
       "      <td>5</td>\n",
       "      <td>1584</td>\n",
       "      <td>177579.0</td>\n",
       "      <td>...</td>\n",
       "      <td>0.220</td>\n",
       "      <td>28095.0</td>\n",
       "      <td>50991.0</td>\n",
       "      <td>171.0</td>\n",
       "      <td>1932.0</td>\n",
       "      <td>80.8</td>\n",
       "      <td>80.0</td>\n",
       "      <td>70.8</td>\n",
       "      <td>73.2</td>\n",
       "      <td>76.5</td>\n",
       "    </tr>\n",
       "    <tr>\n",
       "      <th>243</th>\n",
       "      <td>마산동부경찰서</td>\n",
       "      <td>2019(하반기)</td>\n",
       "      <td>창원시마산회원구</td>\n",
       "      <td>44</td>\n",
       "      <td>86</td>\n",
       "      <td>26014</td>\n",
       "      <td>1715</td>\n",
       "      <td>8</td>\n",
       "      <td>1910</td>\n",
       "      <td>192446.0</td>\n",
       "      <td>...</td>\n",
       "      <td>0.373</td>\n",
       "      <td>32856.0</td>\n",
       "      <td>47491.0</td>\n",
       "      <td>124.0</td>\n",
       "      <td>1718.0</td>\n",
       "      <td>75.0</td>\n",
       "      <td>76.5</td>\n",
       "      <td>69.4</td>\n",
       "      <td>68.9</td>\n",
       "      <td>73.1</td>\n",
       "    </tr>\n",
       "    <tr>\n",
       "      <th>244</th>\n",
       "      <td>진주경찰서</td>\n",
       "      <td>2019(하반기)</td>\n",
       "      <td>진주시</td>\n",
       "      <td>64</td>\n",
       "      <td>92</td>\n",
       "      <td>38557</td>\n",
       "      <td>2552</td>\n",
       "      <td>0</td>\n",
       "      <td>3570</td>\n",
       "      <td>354166.0</td>\n",
       "      <td>...</td>\n",
       "      <td>0.288</td>\n",
       "      <td>66710.0</td>\n",
       "      <td>79729.0</td>\n",
       "      <td>424.0</td>\n",
       "      <td>4908.0</td>\n",
       "      <td>78.7</td>\n",
       "      <td>79.6</td>\n",
       "      <td>70.3</td>\n",
       "      <td>74.6</td>\n",
       "      <td>75.6</td>\n",
       "    </tr>\n",
       "    <tr>\n",
       "      <th>245</th>\n",
       "      <td>진해경찰서</td>\n",
       "      <td>2019(하반기)</td>\n",
       "      <td>창원시진해구</td>\n",
       "      <td>37</td>\n",
       "      <td>89</td>\n",
       "      <td>20320</td>\n",
       "      <td>1444</td>\n",
       "      <td>0</td>\n",
       "      <td>1692</td>\n",
       "      <td>190885.0</td>\n",
       "      <td>...</td>\n",
       "      <td>0.281</td>\n",
       "      <td>40507.0</td>\n",
       "      <td>38297.0</td>\n",
       "      <td>212.0</td>\n",
       "      <td>2834.0</td>\n",
       "      <td>76.6</td>\n",
       "      <td>79.2</td>\n",
       "      <td>67.0</td>\n",
       "      <td>70.9</td>\n",
       "      <td>73.5</td>\n",
       "    </tr>\n",
       "  </tbody>\n",
       "</table>\n",
       "<p>246 rows × 92 columns</p>\n",
       "</div>"
      ],
      "text/plain": [
       "      jur_stn       year    sgg_nm  child  house  report_sx_total  vio_cnt  \\\n",
       "0     서울중부경찰서  2017(상반기)        중구     39     97            22574     1324   \n",
       "1     서울종로경찰서  2017(상반기)       종로구     46     98            19674     1102   \n",
       "2    서울남대문경찰서  2017(상반기)        중구     39     97            14499      949   \n",
       "3    서울서대문경찰서  2017(상반기)      서대문구     39     98            38769     1924   \n",
       "4     서울혜화경찰서  2017(상반기)       종로구     46     98            18857     1127   \n",
       "..        ...        ...       ...    ...    ...              ...      ...   \n",
       "241   창원서부경찰서  2019(하반기)    창원시의창구     44     87            22771     1460   \n",
       "242   마산중부경찰서  2019(하반기)  창원시마산합포구     37     88            21264     1265   \n",
       "243   마산동부경찰서  2019(하반기)  창원시마산회원구     44     86            26014     1715   \n",
       "244     진주경찰서  2019(하반기)       진주시     64     92            38557     2552   \n",
       "245     진해경찰서  2019(하반기)    창원시진해구     37     89            20320     1444   \n",
       "\n",
       "     mur_rob_cnt  car_cnt   popu_합계  ...  인구대비고학력자  popu_u20  popu_o60  \\\n",
       "0              0     1412   63948.0  ...     0.817    8387.0   14108.0   \n",
       "1              0      867   78638.5  ...     0.926   11965.5   16858.0   \n",
       "2              0      736   63948.0  ...     0.817    8387.0   14108.0   \n",
       "3              0     1788  321345.0  ...     0.451   49895.0   65887.0   \n",
       "4              0      899   78638.5  ...     1.911   11965.5   16858.0   \n",
       "..           ...      ...       ...  ...       ...       ...       ...   \n",
       "241            2     1964  256001.0  ...     0.328   44789.0   49023.0   \n",
       "242            5     1584  177579.0  ...     0.220   28095.0   50991.0   \n",
       "243            8     1910  192446.0  ...     0.373   32856.0   47491.0   \n",
       "244            0     3570  354166.0  ...     0.288   66710.0   79729.0   \n",
       "245            0     1692  190885.0  ...     0.281   40507.0   38297.0   \n",
       "\n",
       "     for_u20  for_2030    q1    q2    q3    q4    q5  \n",
       "0      446.5    2436.0  75.2  76.5  69.9  65.9  72.6  \n",
       "1      558.0    3031.5  81.6  82.4  69.1  62.7  72.2  \n",
       "2      446.5    2436.0  77.3  79.3  68.8  61.0  71.7  \n",
       "3     1370.0    8272.0  78.0  80.0  67.0  66.3  71.4  \n",
       "4      558.0    3031.5  78.6  80.6  70.7  65.2  75.4  \n",
       "..       ...       ...   ...   ...   ...   ...   ...  \n",
       "241    201.0    2989.0  79.1  79.5  68.5  71.2  76.0  \n",
       "242    171.0    1932.0  80.8  80.0  70.8  73.2  76.5  \n",
       "243    124.0    1718.0  75.0  76.5  69.4  68.9  73.1  \n",
       "244    424.0    4908.0  78.7  79.6  70.3  74.6  75.6  \n",
       "245    212.0    2834.0  76.6  79.2  67.0  70.9  73.5  \n",
       "\n",
       "[246 rows x 92 columns]"
      ]
     },
     "execution_count": 10,
     "metadata": {},
     "output_type": "execute_result"
    }
   ],
   "source": [
    "# y값인 q1-q5가 결측인 2020년 데이터 제거\n",
    "a = df[0:-82]\n",
    "a"
   ]
  },
  {
   "cell_type": "code",
   "execution_count": 11,
   "metadata": {
    "ExecuteTime": {
     "end_time": "2021-12-03T05:30:35.903816Z",
     "start_time": "2021-12-03T05:30:35.890560Z"
    }
   },
   "outputs": [
    {
     "name": "stderr",
     "output_type": "stream",
     "text": [
      "C:\\Anaconda3\\lib\\site-packages\\pandas\\core\\frame.py:3990: SettingWithCopyWarning: \n",
      "A value is trying to be set on a copy of a slice from a DataFrame\n",
      "\n",
      "See the caveats in the documentation: https://pandas.pydata.org/pandas-docs/stable/user_guide/indexing.html#returning-a-view-versus-a-copy\n",
      "  return super().drop(\n"
     ]
    }
   ],
   "source": [
    "# 경찰서와 연도 데이터 제거\n",
    "a.drop(columns = ['jur_stn'], inplace = True)"
   ]
  },
  {
   "cell_type": "code",
   "execution_count": 12,
   "metadata": {
    "ExecuteTime": {
     "end_time": "2021-12-03T05:30:36.474925Z",
     "start_time": "2021-12-03T05:30:36.462957Z"
    }
   },
   "outputs": [],
   "source": [
    "a_ = a.drop(columns = ['q1', 'q2', 'q3', 'q4', 'q5'])"
   ]
  },
  {
   "cell_type": "code",
   "execution_count": 13,
   "metadata": {
    "ExecuteTime": {
     "end_time": "2021-12-03T05:30:37.031825Z",
     "start_time": "2021-12-03T05:30:36.988291Z"
    }
   },
   "outputs": [
    {
     "data": {
      "text/html": [
       "<div>\n",
       "<style scoped>\n",
       "    .dataframe tbody tr th:only-of-type {\n",
       "        vertical-align: middle;\n",
       "    }\n",
       "\n",
       "    .dataframe tbody tr th {\n",
       "        vertical-align: top;\n",
       "    }\n",
       "\n",
       "    .dataframe thead th {\n",
       "        text-align: right;\n",
       "    }\n",
       "</style>\n",
       "<table border=\"1\" class=\"dataframe\">\n",
       "  <thead>\n",
       "    <tr style=\"text-align: right;\">\n",
       "      <th></th>\n",
       "      <th>year</th>\n",
       "      <th>sgg_nm</th>\n",
       "      <th>child</th>\n",
       "      <th>house</th>\n",
       "      <th>report_sx_total</th>\n",
       "      <th>vio_cnt</th>\n",
       "      <th>mur_rob_cnt</th>\n",
       "      <th>car_cnt</th>\n",
       "      <th>popu_합계</th>\n",
       "      <th>for_합계</th>\n",
       "      <th>...</th>\n",
       "      <th>before_q2</th>\n",
       "      <th>before_q3</th>\n",
       "      <th>before_q4</th>\n",
       "      <th>before_q5</th>\n",
       "      <th>edu</th>\n",
       "      <th>인구대비고학력자</th>\n",
       "      <th>popu_u20</th>\n",
       "      <th>popu_o60</th>\n",
       "      <th>for_u20</th>\n",
       "      <th>for_2030</th>\n",
       "    </tr>\n",
       "  </thead>\n",
       "  <tbody>\n",
       "    <tr>\n",
       "      <th>0</th>\n",
       "      <td>2017(상반기)</td>\n",
       "      <td>중구</td>\n",
       "      <td>39</td>\n",
       "      <td>97</td>\n",
       "      <td>22574</td>\n",
       "      <td>1324</td>\n",
       "      <td>0</td>\n",
       "      <td>1412</td>\n",
       "      <td>63948.0</td>\n",
       "      <td>5132.5</td>\n",
       "      <td>...</td>\n",
       "      <td>79.0</td>\n",
       "      <td>66.5</td>\n",
       "      <td>62.3</td>\n",
       "      <td>71.3</td>\n",
       "      <td>52223</td>\n",
       "      <td>0.817</td>\n",
       "      <td>8387.0</td>\n",
       "      <td>14108.0</td>\n",
       "      <td>446.5</td>\n",
       "      <td>2436.0</td>\n",
       "    </tr>\n",
       "    <tr>\n",
       "      <th>1</th>\n",
       "      <td>2017(상반기)</td>\n",
       "      <td>종로구</td>\n",
       "      <td>46</td>\n",
       "      <td>98</td>\n",
       "      <td>19674</td>\n",
       "      <td>1102</td>\n",
       "      <td>0</td>\n",
       "      <td>867</td>\n",
       "      <td>78638.5</td>\n",
       "      <td>5489.5</td>\n",
       "      <td>...</td>\n",
       "      <td>78.3</td>\n",
       "      <td>68.8</td>\n",
       "      <td>62.3</td>\n",
       "      <td>73.0</td>\n",
       "      <td>72785</td>\n",
       "      <td>0.926</td>\n",
       "      <td>11965.5</td>\n",
       "      <td>16858.0</td>\n",
       "      <td>558.0</td>\n",
       "      <td>3031.5</td>\n",
       "    </tr>\n",
       "    <tr>\n",
       "      <th>2</th>\n",
       "      <td>2017(상반기)</td>\n",
       "      <td>중구</td>\n",
       "      <td>39</td>\n",
       "      <td>97</td>\n",
       "      <td>14499</td>\n",
       "      <td>949</td>\n",
       "      <td>0</td>\n",
       "      <td>736</td>\n",
       "      <td>63948.0</td>\n",
       "      <td>5132.5</td>\n",
       "      <td>...</td>\n",
       "      <td>80.8</td>\n",
       "      <td>65.8</td>\n",
       "      <td>52.0</td>\n",
       "      <td>69.5</td>\n",
       "      <td>52223</td>\n",
       "      <td>0.817</td>\n",
       "      <td>8387.0</td>\n",
       "      <td>14108.0</td>\n",
       "      <td>446.5</td>\n",
       "      <td>2436.0</td>\n",
       "    </tr>\n",
       "    <tr>\n",
       "      <th>3</th>\n",
       "      <td>2017(상반기)</td>\n",
       "      <td>서대문구</td>\n",
       "      <td>39</td>\n",
       "      <td>98</td>\n",
       "      <td>38769</td>\n",
       "      <td>1924</td>\n",
       "      <td>0</td>\n",
       "      <td>1788</td>\n",
       "      <td>321345.0</td>\n",
       "      <td>13152.0</td>\n",
       "      <td>...</td>\n",
       "      <td>70.5</td>\n",
       "      <td>67.5</td>\n",
       "      <td>61.5</td>\n",
       "      <td>66.5</td>\n",
       "      <td>144943</td>\n",
       "      <td>0.451</td>\n",
       "      <td>49895.0</td>\n",
       "      <td>65887.0</td>\n",
       "      <td>1370.0</td>\n",
       "      <td>8272.0</td>\n",
       "    </tr>\n",
       "    <tr>\n",
       "      <th>4</th>\n",
       "      <td>2017(상반기)</td>\n",
       "      <td>종로구</td>\n",
       "      <td>46</td>\n",
       "      <td>98</td>\n",
       "      <td>18857</td>\n",
       "      <td>1127</td>\n",
       "      <td>0</td>\n",
       "      <td>899</td>\n",
       "      <td>78638.5</td>\n",
       "      <td>5489.5</td>\n",
       "      <td>...</td>\n",
       "      <td>75.0</td>\n",
       "      <td>66.0</td>\n",
       "      <td>61.0</td>\n",
       "      <td>69.5</td>\n",
       "      <td>150297</td>\n",
       "      <td>1.911</td>\n",
       "      <td>11965.5</td>\n",
       "      <td>16858.0</td>\n",
       "      <td>558.0</td>\n",
       "      <td>3031.5</td>\n",
       "    </tr>\n",
       "    <tr>\n",
       "      <th>...</th>\n",
       "      <td>...</td>\n",
       "      <td>...</td>\n",
       "      <td>...</td>\n",
       "      <td>...</td>\n",
       "      <td>...</td>\n",
       "      <td>...</td>\n",
       "      <td>...</td>\n",
       "      <td>...</td>\n",
       "      <td>...</td>\n",
       "      <td>...</td>\n",
       "      <td>...</td>\n",
       "      <td>...</td>\n",
       "      <td>...</td>\n",
       "      <td>...</td>\n",
       "      <td>...</td>\n",
       "      <td>...</td>\n",
       "      <td>...</td>\n",
       "      <td>...</td>\n",
       "      <td>...</td>\n",
       "      <td>...</td>\n",
       "      <td>...</td>\n",
       "    </tr>\n",
       "    <tr>\n",
       "      <th>241</th>\n",
       "      <td>2019(하반기)</td>\n",
       "      <td>창원시의창구</td>\n",
       "      <td>44</td>\n",
       "      <td>87</td>\n",
       "      <td>22771</td>\n",
       "      <td>1460</td>\n",
       "      <td>2</td>\n",
       "      <td>1964</td>\n",
       "      <td>256001.0</td>\n",
       "      <td>5100.0</td>\n",
       "      <td>...</td>\n",
       "      <td>77.3</td>\n",
       "      <td>64.9</td>\n",
       "      <td>68.6</td>\n",
       "      <td>72.2</td>\n",
       "      <td>84003</td>\n",
       "      <td>0.328</td>\n",
       "      <td>44789.0</td>\n",
       "      <td>49023.0</td>\n",
       "      <td>201.0</td>\n",
       "      <td>2989.0</td>\n",
       "    </tr>\n",
       "    <tr>\n",
       "      <th>242</th>\n",
       "      <td>2019(하반기)</td>\n",
       "      <td>창원시마산합포구</td>\n",
       "      <td>37</td>\n",
       "      <td>88</td>\n",
       "      <td>21264</td>\n",
       "      <td>1265</td>\n",
       "      <td>5</td>\n",
       "      <td>1584</td>\n",
       "      <td>177579.0</td>\n",
       "      <td>3145.0</td>\n",
       "      <td>...</td>\n",
       "      <td>77.4</td>\n",
       "      <td>68.5</td>\n",
       "      <td>71.2</td>\n",
       "      <td>72.6</td>\n",
       "      <td>39117</td>\n",
       "      <td>0.220</td>\n",
       "      <td>28095.0</td>\n",
       "      <td>50991.0</td>\n",
       "      <td>171.0</td>\n",
       "      <td>1932.0</td>\n",
       "    </tr>\n",
       "    <tr>\n",
       "      <th>243</th>\n",
       "      <td>2019(하반기)</td>\n",
       "      <td>창원시마산회원구</td>\n",
       "      <td>44</td>\n",
       "      <td>86</td>\n",
       "      <td>26014</td>\n",
       "      <td>1715</td>\n",
       "      <td>8</td>\n",
       "      <td>1910</td>\n",
       "      <td>192446.0</td>\n",
       "      <td>2871.0</td>\n",
       "      <td>...</td>\n",
       "      <td>75.6</td>\n",
       "      <td>67.9</td>\n",
       "      <td>70.7</td>\n",
       "      <td>71.8</td>\n",
       "      <td>71730</td>\n",
       "      <td>0.373</td>\n",
       "      <td>32856.0</td>\n",
       "      <td>47491.0</td>\n",
       "      <td>124.0</td>\n",
       "      <td>1718.0</td>\n",
       "    </tr>\n",
       "    <tr>\n",
       "      <th>244</th>\n",
       "      <td>2019(하반기)</td>\n",
       "      <td>진주시</td>\n",
       "      <td>64</td>\n",
       "      <td>92</td>\n",
       "      <td>38557</td>\n",
       "      <td>2552</td>\n",
       "      <td>0</td>\n",
       "      <td>3570</td>\n",
       "      <td>354166.0</td>\n",
       "      <td>7152.0</td>\n",
       "      <td>...</td>\n",
       "      <td>83.0</td>\n",
       "      <td>72.0</td>\n",
       "      <td>75.2</td>\n",
       "      <td>77.2</td>\n",
       "      <td>102010</td>\n",
       "      <td>0.288</td>\n",
       "      <td>66710.0</td>\n",
       "      <td>79729.0</td>\n",
       "      <td>424.0</td>\n",
       "      <td>4908.0</td>\n",
       "    </tr>\n",
       "    <tr>\n",
       "      <th>245</th>\n",
       "      <td>2019(하반기)</td>\n",
       "      <td>창원시진해구</td>\n",
       "      <td>37</td>\n",
       "      <td>89</td>\n",
       "      <td>20320</td>\n",
       "      <td>1444</td>\n",
       "      <td>0</td>\n",
       "      <td>1692</td>\n",
       "      <td>190885.0</td>\n",
       "      <td>4917.0</td>\n",
       "      <td>...</td>\n",
       "      <td>79.8</td>\n",
       "      <td>68.2</td>\n",
       "      <td>74.2</td>\n",
       "      <td>74.7</td>\n",
       "      <td>53585</td>\n",
       "      <td>0.281</td>\n",
       "      <td>40507.0</td>\n",
       "      <td>38297.0</td>\n",
       "      <td>212.0</td>\n",
       "      <td>2834.0</td>\n",
       "    </tr>\n",
       "  </tbody>\n",
       "</table>\n",
       "<p>246 rows × 86 columns</p>\n",
       "</div>"
      ],
      "text/plain": [
       "          year    sgg_nm  child  house  report_sx_total  vio_cnt  mur_rob_cnt  \\\n",
       "0    2017(상반기)        중구     39     97            22574     1324            0   \n",
       "1    2017(상반기)       종로구     46     98            19674     1102            0   \n",
       "2    2017(상반기)        중구     39     97            14499      949            0   \n",
       "3    2017(상반기)      서대문구     39     98            38769     1924            0   \n",
       "4    2017(상반기)       종로구     46     98            18857     1127            0   \n",
       "..         ...       ...    ...    ...              ...      ...          ...   \n",
       "241  2019(하반기)    창원시의창구     44     87            22771     1460            2   \n",
       "242  2019(하반기)  창원시마산합포구     37     88            21264     1265            5   \n",
       "243  2019(하반기)  창원시마산회원구     44     86            26014     1715            8   \n",
       "244  2019(하반기)       진주시     64     92            38557     2552            0   \n",
       "245  2019(하반기)    창원시진해구     37     89            20320     1444            0   \n",
       "\n",
       "     car_cnt   popu_합계   for_합계  ...  before_q2  before_q3  before_q4  \\\n",
       "0       1412   63948.0   5132.5  ...       79.0       66.5       62.3   \n",
       "1        867   78638.5   5489.5  ...       78.3       68.8       62.3   \n",
       "2        736   63948.0   5132.5  ...       80.8       65.8       52.0   \n",
       "3       1788  321345.0  13152.0  ...       70.5       67.5       61.5   \n",
       "4        899   78638.5   5489.5  ...       75.0       66.0       61.0   \n",
       "..       ...       ...      ...  ...        ...        ...        ...   \n",
       "241     1964  256001.0   5100.0  ...       77.3       64.9       68.6   \n",
       "242     1584  177579.0   3145.0  ...       77.4       68.5       71.2   \n",
       "243     1910  192446.0   2871.0  ...       75.6       67.9       70.7   \n",
       "244     3570  354166.0   7152.0  ...       83.0       72.0       75.2   \n",
       "245     1692  190885.0   4917.0  ...       79.8       68.2       74.2   \n",
       "\n",
       "     before_q5     edu  인구대비고학력자  popu_u20  popu_o60  for_u20  for_2030  \n",
       "0         71.3   52223     0.817    8387.0   14108.0    446.5    2436.0  \n",
       "1         73.0   72785     0.926   11965.5   16858.0    558.0    3031.5  \n",
       "2         69.5   52223     0.817    8387.0   14108.0    446.5    2436.0  \n",
       "3         66.5  144943     0.451   49895.0   65887.0   1370.0    8272.0  \n",
       "4         69.5  150297     1.911   11965.5   16858.0    558.0    3031.5  \n",
       "..         ...     ...       ...       ...       ...      ...       ...  \n",
       "241       72.2   84003     0.328   44789.0   49023.0    201.0    2989.0  \n",
       "242       72.6   39117     0.220   28095.0   50991.0    171.0    1932.0  \n",
       "243       71.8   71730     0.373   32856.0   47491.0    124.0    1718.0  \n",
       "244       77.2  102010     0.288   66710.0   79729.0    424.0    4908.0  \n",
       "245       74.7   53585     0.281   40507.0   38297.0    212.0    2834.0  \n",
       "\n",
       "[246 rows x 86 columns]"
      ]
     },
     "execution_count": 13,
     "metadata": {},
     "output_type": "execute_result"
    }
   ],
   "source": [
    "a_"
   ]
  },
  {
   "cell_type": "code",
   "execution_count": 14,
   "metadata": {},
   "outputs": [],
   "source": [
    "le = LabelEncoder()"
   ]
  },
  {
   "cell_type": "code",
   "execution_count": 15,
   "metadata": {},
   "outputs": [],
   "source": [
    "a_['sgg_nm'] = le.fit_transform(a_['sgg_nm'])"
   ]
  },
  {
   "cell_type": "code",
   "execution_count": 16,
   "metadata": {},
   "outputs": [],
   "source": [
    "a_['year'] = le.fit_transform(a_['year'])"
   ]
  },
  {
   "cell_type": "code",
   "execution_count": 17,
   "metadata": {},
   "outputs": [
    {
     "data": {
      "text/html": [
       "<div>\n",
       "<style scoped>\n",
       "    .dataframe tbody tr th:only-of-type {\n",
       "        vertical-align: middle;\n",
       "    }\n",
       "\n",
       "    .dataframe tbody tr th {\n",
       "        vertical-align: top;\n",
       "    }\n",
       "\n",
       "    .dataframe thead th {\n",
       "        text-align: right;\n",
       "    }\n",
       "</style>\n",
       "<table border=\"1\" class=\"dataframe\">\n",
       "  <thead>\n",
       "    <tr style=\"text-align: right;\">\n",
       "      <th></th>\n",
       "      <th>year</th>\n",
       "      <th>sgg_nm</th>\n",
       "      <th>child</th>\n",
       "      <th>house</th>\n",
       "      <th>report_sx_total</th>\n",
       "      <th>vio_cnt</th>\n",
       "      <th>mur_rob_cnt</th>\n",
       "      <th>car_cnt</th>\n",
       "      <th>popu_합계</th>\n",
       "      <th>for_합계</th>\n",
       "      <th>...</th>\n",
       "      <th>before_q2</th>\n",
       "      <th>before_q3</th>\n",
       "      <th>before_q4</th>\n",
       "      <th>before_q5</th>\n",
       "      <th>edu</th>\n",
       "      <th>인구대비고학력자</th>\n",
       "      <th>popu_u20</th>\n",
       "      <th>popu_o60</th>\n",
       "      <th>for_u20</th>\n",
       "      <th>for_2030</th>\n",
       "    </tr>\n",
       "  </thead>\n",
       "  <tbody>\n",
       "    <tr>\n",
       "      <th>0</th>\n",
       "      <td>0</td>\n",
       "      <td>27</td>\n",
       "      <td>39</td>\n",
       "      <td>97</td>\n",
       "      <td>22574</td>\n",
       "      <td>1324</td>\n",
       "      <td>0</td>\n",
       "      <td>1412</td>\n",
       "      <td>63948.0</td>\n",
       "      <td>5132.5</td>\n",
       "      <td>...</td>\n",
       "      <td>79.0</td>\n",
       "      <td>66.5</td>\n",
       "      <td>62.3</td>\n",
       "      <td>71.3</td>\n",
       "      <td>52223</td>\n",
       "      <td>0.817</td>\n",
       "      <td>8387.0</td>\n",
       "      <td>14108.0</td>\n",
       "      <td>446.5</td>\n",
       "      <td>2436.0</td>\n",
       "    </tr>\n",
       "    <tr>\n",
       "      <th>1</th>\n",
       "      <td>0</td>\n",
       "      <td>26</td>\n",
       "      <td>46</td>\n",
       "      <td>98</td>\n",
       "      <td>19674</td>\n",
       "      <td>1102</td>\n",
       "      <td>0</td>\n",
       "      <td>867</td>\n",
       "      <td>78638.5</td>\n",
       "      <td>5489.5</td>\n",
       "      <td>...</td>\n",
       "      <td>78.3</td>\n",
       "      <td>68.8</td>\n",
       "      <td>62.3</td>\n",
       "      <td>73.0</td>\n",
       "      <td>72785</td>\n",
       "      <td>0.926</td>\n",
       "      <td>11965.5</td>\n",
       "      <td>16858.0</td>\n",
       "      <td>558.0</td>\n",
       "      <td>3031.5</td>\n",
       "    </tr>\n",
       "    <tr>\n",
       "      <th>2</th>\n",
       "      <td>0</td>\n",
       "      <td>27</td>\n",
       "      <td>39</td>\n",
       "      <td>97</td>\n",
       "      <td>14499</td>\n",
       "      <td>949</td>\n",
       "      <td>0</td>\n",
       "      <td>736</td>\n",
       "      <td>63948.0</td>\n",
       "      <td>5132.5</td>\n",
       "      <td>...</td>\n",
       "      <td>80.8</td>\n",
       "      <td>65.8</td>\n",
       "      <td>52.0</td>\n",
       "      <td>69.5</td>\n",
       "      <td>52223</td>\n",
       "      <td>0.817</td>\n",
       "      <td>8387.0</td>\n",
       "      <td>14108.0</td>\n",
       "      <td>446.5</td>\n",
       "      <td>2436.0</td>\n",
       "    </tr>\n",
       "    <tr>\n",
       "      <th>3</th>\n",
       "      <td>0</td>\n",
       "      <td>13</td>\n",
       "      <td>39</td>\n",
       "      <td>98</td>\n",
       "      <td>38769</td>\n",
       "      <td>1924</td>\n",
       "      <td>0</td>\n",
       "      <td>1788</td>\n",
       "      <td>321345.0</td>\n",
       "      <td>13152.0</td>\n",
       "      <td>...</td>\n",
       "      <td>70.5</td>\n",
       "      <td>67.5</td>\n",
       "      <td>61.5</td>\n",
       "      <td>66.5</td>\n",
       "      <td>144943</td>\n",
       "      <td>0.451</td>\n",
       "      <td>49895.0</td>\n",
       "      <td>65887.0</td>\n",
       "      <td>1370.0</td>\n",
       "      <td>8272.0</td>\n",
       "    </tr>\n",
       "    <tr>\n",
       "      <th>4</th>\n",
       "      <td>0</td>\n",
       "      <td>26</td>\n",
       "      <td>46</td>\n",
       "      <td>98</td>\n",
       "      <td>18857</td>\n",
       "      <td>1127</td>\n",
       "      <td>0</td>\n",
       "      <td>899</td>\n",
       "      <td>78638.5</td>\n",
       "      <td>5489.5</td>\n",
       "      <td>...</td>\n",
       "      <td>75.0</td>\n",
       "      <td>66.0</td>\n",
       "      <td>61.0</td>\n",
       "      <td>69.5</td>\n",
       "      <td>150297</td>\n",
       "      <td>1.911</td>\n",
       "      <td>11965.5</td>\n",
       "      <td>16858.0</td>\n",
       "      <td>558.0</td>\n",
       "      <td>3031.5</td>\n",
       "    </tr>\n",
       "    <tr>\n",
       "      <th>...</th>\n",
       "      <td>...</td>\n",
       "      <td>...</td>\n",
       "      <td>...</td>\n",
       "      <td>...</td>\n",
       "      <td>...</td>\n",
       "      <td>...</td>\n",
       "      <td>...</td>\n",
       "      <td>...</td>\n",
       "      <td>...</td>\n",
       "      <td>...</td>\n",
       "      <td>...</td>\n",
       "      <td>...</td>\n",
       "      <td>...</td>\n",
       "      <td>...</td>\n",
       "      <td>...</td>\n",
       "      <td>...</td>\n",
       "      <td>...</td>\n",
       "      <td>...</td>\n",
       "      <td>...</td>\n",
       "      <td>...</td>\n",
       "      <td>...</td>\n",
       "    </tr>\n",
       "    <tr>\n",
       "      <th>241</th>\n",
       "      <td>5</td>\n",
       "      <td>33</td>\n",
       "      <td>44</td>\n",
       "      <td>87</td>\n",
       "      <td>22771</td>\n",
       "      <td>1460</td>\n",
       "      <td>2</td>\n",
       "      <td>1964</td>\n",
       "      <td>256001.0</td>\n",
       "      <td>5100.0</td>\n",
       "      <td>...</td>\n",
       "      <td>77.3</td>\n",
       "      <td>64.9</td>\n",
       "      <td>68.6</td>\n",
       "      <td>72.2</td>\n",
       "      <td>84003</td>\n",
       "      <td>0.328</td>\n",
       "      <td>44789.0</td>\n",
       "      <td>49023.0</td>\n",
       "      <td>201.0</td>\n",
       "      <td>2989.0</td>\n",
       "    </tr>\n",
       "    <tr>\n",
       "      <th>242</th>\n",
       "      <td>5</td>\n",
       "      <td>30</td>\n",
       "      <td>37</td>\n",
       "      <td>88</td>\n",
       "      <td>21264</td>\n",
       "      <td>1265</td>\n",
       "      <td>5</td>\n",
       "      <td>1584</td>\n",
       "      <td>177579.0</td>\n",
       "      <td>3145.0</td>\n",
       "      <td>...</td>\n",
       "      <td>77.4</td>\n",
       "      <td>68.5</td>\n",
       "      <td>71.2</td>\n",
       "      <td>72.6</td>\n",
       "      <td>39117</td>\n",
       "      <td>0.220</td>\n",
       "      <td>28095.0</td>\n",
       "      <td>50991.0</td>\n",
       "      <td>171.0</td>\n",
       "      <td>1932.0</td>\n",
       "    </tr>\n",
       "    <tr>\n",
       "      <th>243</th>\n",
       "      <td>5</td>\n",
       "      <td>31</td>\n",
       "      <td>44</td>\n",
       "      <td>86</td>\n",
       "      <td>26014</td>\n",
       "      <td>1715</td>\n",
       "      <td>8</td>\n",
       "      <td>1910</td>\n",
       "      <td>192446.0</td>\n",
       "      <td>2871.0</td>\n",
       "      <td>...</td>\n",
       "      <td>75.6</td>\n",
       "      <td>67.9</td>\n",
       "      <td>70.7</td>\n",
       "      <td>71.8</td>\n",
       "      <td>71730</td>\n",
       "      <td>0.373</td>\n",
       "      <td>32856.0</td>\n",
       "      <td>47491.0</td>\n",
       "      <td>124.0</td>\n",
       "      <td>1718.0</td>\n",
       "    </tr>\n",
       "    <tr>\n",
       "      <th>244</th>\n",
       "      <td>5</td>\n",
       "      <td>29</td>\n",
       "      <td>64</td>\n",
       "      <td>92</td>\n",
       "      <td>38557</td>\n",
       "      <td>2552</td>\n",
       "      <td>0</td>\n",
       "      <td>3570</td>\n",
       "      <td>354166.0</td>\n",
       "      <td>7152.0</td>\n",
       "      <td>...</td>\n",
       "      <td>83.0</td>\n",
       "      <td>72.0</td>\n",
       "      <td>75.2</td>\n",
       "      <td>77.2</td>\n",
       "      <td>102010</td>\n",
       "      <td>0.288</td>\n",
       "      <td>66710.0</td>\n",
       "      <td>79729.0</td>\n",
       "      <td>424.0</td>\n",
       "      <td>4908.0</td>\n",
       "    </tr>\n",
       "    <tr>\n",
       "      <th>245</th>\n",
       "      <td>5</td>\n",
       "      <td>34</td>\n",
       "      <td>37</td>\n",
       "      <td>89</td>\n",
       "      <td>20320</td>\n",
       "      <td>1444</td>\n",
       "      <td>0</td>\n",
       "      <td>1692</td>\n",
       "      <td>190885.0</td>\n",
       "      <td>4917.0</td>\n",
       "      <td>...</td>\n",
       "      <td>79.8</td>\n",
       "      <td>68.2</td>\n",
       "      <td>74.2</td>\n",
       "      <td>74.7</td>\n",
       "      <td>53585</td>\n",
       "      <td>0.281</td>\n",
       "      <td>40507.0</td>\n",
       "      <td>38297.0</td>\n",
       "      <td>212.0</td>\n",
       "      <td>2834.0</td>\n",
       "    </tr>\n",
       "  </tbody>\n",
       "</table>\n",
       "<p>246 rows × 86 columns</p>\n",
       "</div>"
      ],
      "text/plain": [
       "     year  sgg_nm  child  house  report_sx_total  vio_cnt  mur_rob_cnt  \\\n",
       "0       0      27     39     97            22574     1324            0   \n",
       "1       0      26     46     98            19674     1102            0   \n",
       "2       0      27     39     97            14499      949            0   \n",
       "3       0      13     39     98            38769     1924            0   \n",
       "4       0      26     46     98            18857     1127            0   \n",
       "..    ...     ...    ...    ...              ...      ...          ...   \n",
       "241     5      33     44     87            22771     1460            2   \n",
       "242     5      30     37     88            21264     1265            5   \n",
       "243     5      31     44     86            26014     1715            8   \n",
       "244     5      29     64     92            38557     2552            0   \n",
       "245     5      34     37     89            20320     1444            0   \n",
       "\n",
       "     car_cnt   popu_합계   for_합계  ...  before_q2  before_q3  before_q4  \\\n",
       "0       1412   63948.0   5132.5  ...       79.0       66.5       62.3   \n",
       "1        867   78638.5   5489.5  ...       78.3       68.8       62.3   \n",
       "2        736   63948.0   5132.5  ...       80.8       65.8       52.0   \n",
       "3       1788  321345.0  13152.0  ...       70.5       67.5       61.5   \n",
       "4        899   78638.5   5489.5  ...       75.0       66.0       61.0   \n",
       "..       ...       ...      ...  ...        ...        ...        ...   \n",
       "241     1964  256001.0   5100.0  ...       77.3       64.9       68.6   \n",
       "242     1584  177579.0   3145.0  ...       77.4       68.5       71.2   \n",
       "243     1910  192446.0   2871.0  ...       75.6       67.9       70.7   \n",
       "244     3570  354166.0   7152.0  ...       83.0       72.0       75.2   \n",
       "245     1692  190885.0   4917.0  ...       79.8       68.2       74.2   \n",
       "\n",
       "     before_q5     edu  인구대비고학력자  popu_u20  popu_o60  for_u20  for_2030  \n",
       "0         71.3   52223     0.817    8387.0   14108.0    446.5    2436.0  \n",
       "1         73.0   72785     0.926   11965.5   16858.0    558.0    3031.5  \n",
       "2         69.5   52223     0.817    8387.0   14108.0    446.5    2436.0  \n",
       "3         66.5  144943     0.451   49895.0   65887.0   1370.0    8272.0  \n",
       "4         69.5  150297     1.911   11965.5   16858.0    558.0    3031.5  \n",
       "..         ...     ...       ...       ...       ...      ...       ...  \n",
       "241       72.2   84003     0.328   44789.0   49023.0    201.0    2989.0  \n",
       "242       72.6   39117     0.220   28095.0   50991.0    171.0    1932.0  \n",
       "243       71.8   71730     0.373   32856.0   47491.0    124.0    1718.0  \n",
       "244       77.2  102010     0.288   66710.0   79729.0    424.0    4908.0  \n",
       "245       74.7   53585     0.281   40507.0   38297.0    212.0    2834.0  \n",
       "\n",
       "[246 rows x 86 columns]"
      ]
     },
     "execution_count": 17,
     "metadata": {},
     "output_type": "execute_result"
    }
   ],
   "source": [
    "a_"
   ]
  },
  {
   "cell_type": "code",
   "execution_count": 18,
   "metadata": {},
   "outputs": [
    {
     "data": {
      "text/plain": [
       "Index(['year', 'sgg_nm', 'child', 'house', 'report_sx_total', 'vio_cnt',\n",
       "       'mur_rob_cnt', 'car_cnt', 'popu_합계', 'for_합계', 'single_합계',\n",
       "       'single_u20', 'single_2030', 'single_4050', 'single_o60', 'single_f_합계',\n",
       "       'single_f_u20', 'single_f_2030', 'single_f_4050', 'single_f_o60',\n",
       "       'popu_female_합계', 'popu_female_u20', 'popu_female_2030',\n",
       "       'popu_female_4050', 'popu_female_o60', 'for_female_합계',\n",
       "       'for_female_u20', 'for_female_2030', 'for_female_4050',\n",
       "       'for_female_o60', 'popu_2030', 'popu_4050', 'for_4050', 'for_o60',\n",
       "       'sx_rate_합계', 'sx_rate_u20', 'sx_rate_2030', 'sx_rate_4050',\n",
       "       'sx_rate_o60', 'for_sx_rate_합계', 'for_sx_rate_u20', 'for_sx_rate_2030',\n",
       "       'for_sx_rate_4050', 'for_sx_rate_o60', '총범죄발생대비검거수', '절도폭력범죄발생대비검거수',\n",
       "       '강도살인범죄발생대비검거수', '교통사고범죄발생대비검거수', '기초질서범죄발생대비검거수', '인구수대비검거수',\n",
       "       '외국인인구수대비검거수', '인구수대비경찰수', 'light_cnt', 'cctv', 'adult', 'bell',\n",
       "       'ofn_10', 'ofn_20', 'ofn_340', 'ofn_5670', 'ofn_80ov', 'ofn_m', 'ofn_w',\n",
       "       'ofn_unknown', 'vic_10', 'vic_20', 'vic_340', 'vic_5670', 'vic_80ov',\n",
       "       'vic_m', 'vic_w', 'vic_unknown', 'case_car_man', 'case_car_car',\n",
       "       'case_car_only', 'before_q1', 'before_q2', 'before_q3', 'before_q4',\n",
       "       'before_q5', 'edu', '인구대비고학력자', 'popu_u20', 'popu_o60', 'for_u20',\n",
       "       'for_2030'],\n",
       "      dtype='object')"
      ]
     },
     "execution_count": 18,
     "metadata": {},
     "output_type": "execute_result"
    }
   ],
   "source": [
    "a_.columns"
   ]
  },
  {
   "cell_type": "code",
   "execution_count": 19,
   "metadata": {},
   "outputs": [
    {
     "data": {
      "text/html": [
       "<div>\n",
       "<style scoped>\n",
       "    .dataframe tbody tr th:only-of-type {\n",
       "        vertical-align: middle;\n",
       "    }\n",
       "\n",
       "    .dataframe tbody tr th {\n",
       "        vertical-align: top;\n",
       "    }\n",
       "\n",
       "    .dataframe thead th {\n",
       "        text-align: right;\n",
       "    }\n",
       "</style>\n",
       "<table border=\"1\" class=\"dataframe\">\n",
       "  <thead>\n",
       "    <tr style=\"text-align: right;\">\n",
       "      <th></th>\n",
       "      <th>year</th>\n",
       "      <th>sgg_nm</th>\n",
       "      <th>child</th>\n",
       "      <th>house</th>\n",
       "      <th>report_sx_total</th>\n",
       "      <th>vio_cnt</th>\n",
       "      <th>mur_rob_cnt</th>\n",
       "      <th>car_cnt</th>\n",
       "      <th>popu_합계</th>\n",
       "      <th>for_합계</th>\n",
       "      <th>...</th>\n",
       "      <th>before_q2</th>\n",
       "      <th>before_q3</th>\n",
       "      <th>before_q4</th>\n",
       "      <th>before_q5</th>\n",
       "      <th>edu</th>\n",
       "      <th>인구대비고학력자</th>\n",
       "      <th>popu_u20</th>\n",
       "      <th>popu_o60</th>\n",
       "      <th>for_u20</th>\n",
       "      <th>for_2030</th>\n",
       "    </tr>\n",
       "  </thead>\n",
       "  <tbody>\n",
       "    <tr>\n",
       "      <th>0</th>\n",
       "      <td>0</td>\n",
       "      <td>27</td>\n",
       "      <td>39</td>\n",
       "      <td>97</td>\n",
       "      <td>22574</td>\n",
       "      <td>1324</td>\n",
       "      <td>0</td>\n",
       "      <td>1412</td>\n",
       "      <td>63948.0</td>\n",
       "      <td>5132.5</td>\n",
       "      <td>...</td>\n",
       "      <td>79.0</td>\n",
       "      <td>66.5</td>\n",
       "      <td>62.3</td>\n",
       "      <td>71.3</td>\n",
       "      <td>52223</td>\n",
       "      <td>0.817</td>\n",
       "      <td>8387.0</td>\n",
       "      <td>14108.0</td>\n",
       "      <td>446.5</td>\n",
       "      <td>2436.0</td>\n",
       "    </tr>\n",
       "    <tr>\n",
       "      <th>1</th>\n",
       "      <td>0</td>\n",
       "      <td>26</td>\n",
       "      <td>46</td>\n",
       "      <td>98</td>\n",
       "      <td>19674</td>\n",
       "      <td>1102</td>\n",
       "      <td>0</td>\n",
       "      <td>867</td>\n",
       "      <td>78638.5</td>\n",
       "      <td>5489.5</td>\n",
       "      <td>...</td>\n",
       "      <td>78.3</td>\n",
       "      <td>68.8</td>\n",
       "      <td>62.3</td>\n",
       "      <td>73.0</td>\n",
       "      <td>72785</td>\n",
       "      <td>0.926</td>\n",
       "      <td>11965.5</td>\n",
       "      <td>16858.0</td>\n",
       "      <td>558.0</td>\n",
       "      <td>3031.5</td>\n",
       "    </tr>\n",
       "    <tr>\n",
       "      <th>2</th>\n",
       "      <td>0</td>\n",
       "      <td>27</td>\n",
       "      <td>39</td>\n",
       "      <td>97</td>\n",
       "      <td>14499</td>\n",
       "      <td>949</td>\n",
       "      <td>0</td>\n",
       "      <td>736</td>\n",
       "      <td>63948.0</td>\n",
       "      <td>5132.5</td>\n",
       "      <td>...</td>\n",
       "      <td>80.8</td>\n",
       "      <td>65.8</td>\n",
       "      <td>52.0</td>\n",
       "      <td>69.5</td>\n",
       "      <td>52223</td>\n",
       "      <td>0.817</td>\n",
       "      <td>8387.0</td>\n",
       "      <td>14108.0</td>\n",
       "      <td>446.5</td>\n",
       "      <td>2436.0</td>\n",
       "    </tr>\n",
       "    <tr>\n",
       "      <th>3</th>\n",
       "      <td>0</td>\n",
       "      <td>13</td>\n",
       "      <td>39</td>\n",
       "      <td>98</td>\n",
       "      <td>38769</td>\n",
       "      <td>1924</td>\n",
       "      <td>0</td>\n",
       "      <td>1788</td>\n",
       "      <td>321345.0</td>\n",
       "      <td>13152.0</td>\n",
       "      <td>...</td>\n",
       "      <td>70.5</td>\n",
       "      <td>67.5</td>\n",
       "      <td>61.5</td>\n",
       "      <td>66.5</td>\n",
       "      <td>144943</td>\n",
       "      <td>0.451</td>\n",
       "      <td>49895.0</td>\n",
       "      <td>65887.0</td>\n",
       "      <td>1370.0</td>\n",
       "      <td>8272.0</td>\n",
       "    </tr>\n",
       "    <tr>\n",
       "      <th>4</th>\n",
       "      <td>0</td>\n",
       "      <td>26</td>\n",
       "      <td>46</td>\n",
       "      <td>98</td>\n",
       "      <td>18857</td>\n",
       "      <td>1127</td>\n",
       "      <td>0</td>\n",
       "      <td>899</td>\n",
       "      <td>78638.5</td>\n",
       "      <td>5489.5</td>\n",
       "      <td>...</td>\n",
       "      <td>75.0</td>\n",
       "      <td>66.0</td>\n",
       "      <td>61.0</td>\n",
       "      <td>69.5</td>\n",
       "      <td>150297</td>\n",
       "      <td>1.911</td>\n",
       "      <td>11965.5</td>\n",
       "      <td>16858.0</td>\n",
       "      <td>558.0</td>\n",
       "      <td>3031.5</td>\n",
       "    </tr>\n",
       "    <tr>\n",
       "      <th>...</th>\n",
       "      <td>...</td>\n",
       "      <td>...</td>\n",
       "      <td>...</td>\n",
       "      <td>...</td>\n",
       "      <td>...</td>\n",
       "      <td>...</td>\n",
       "      <td>...</td>\n",
       "      <td>...</td>\n",
       "      <td>...</td>\n",
       "      <td>...</td>\n",
       "      <td>...</td>\n",
       "      <td>...</td>\n",
       "      <td>...</td>\n",
       "      <td>...</td>\n",
       "      <td>...</td>\n",
       "      <td>...</td>\n",
       "      <td>...</td>\n",
       "      <td>...</td>\n",
       "      <td>...</td>\n",
       "      <td>...</td>\n",
       "      <td>...</td>\n",
       "    </tr>\n",
       "    <tr>\n",
       "      <th>241</th>\n",
       "      <td>5</td>\n",
       "      <td>33</td>\n",
       "      <td>44</td>\n",
       "      <td>87</td>\n",
       "      <td>22771</td>\n",
       "      <td>1460</td>\n",
       "      <td>2</td>\n",
       "      <td>1964</td>\n",
       "      <td>256001.0</td>\n",
       "      <td>5100.0</td>\n",
       "      <td>...</td>\n",
       "      <td>77.3</td>\n",
       "      <td>64.9</td>\n",
       "      <td>68.6</td>\n",
       "      <td>72.2</td>\n",
       "      <td>84003</td>\n",
       "      <td>0.328</td>\n",
       "      <td>44789.0</td>\n",
       "      <td>49023.0</td>\n",
       "      <td>201.0</td>\n",
       "      <td>2989.0</td>\n",
       "    </tr>\n",
       "    <tr>\n",
       "      <th>242</th>\n",
       "      <td>5</td>\n",
       "      <td>30</td>\n",
       "      <td>37</td>\n",
       "      <td>88</td>\n",
       "      <td>21264</td>\n",
       "      <td>1265</td>\n",
       "      <td>5</td>\n",
       "      <td>1584</td>\n",
       "      <td>177579.0</td>\n",
       "      <td>3145.0</td>\n",
       "      <td>...</td>\n",
       "      <td>77.4</td>\n",
       "      <td>68.5</td>\n",
       "      <td>71.2</td>\n",
       "      <td>72.6</td>\n",
       "      <td>39117</td>\n",
       "      <td>0.220</td>\n",
       "      <td>28095.0</td>\n",
       "      <td>50991.0</td>\n",
       "      <td>171.0</td>\n",
       "      <td>1932.0</td>\n",
       "    </tr>\n",
       "    <tr>\n",
       "      <th>243</th>\n",
       "      <td>5</td>\n",
       "      <td>31</td>\n",
       "      <td>44</td>\n",
       "      <td>86</td>\n",
       "      <td>26014</td>\n",
       "      <td>1715</td>\n",
       "      <td>8</td>\n",
       "      <td>1910</td>\n",
       "      <td>192446.0</td>\n",
       "      <td>2871.0</td>\n",
       "      <td>...</td>\n",
       "      <td>75.6</td>\n",
       "      <td>67.9</td>\n",
       "      <td>70.7</td>\n",
       "      <td>71.8</td>\n",
       "      <td>71730</td>\n",
       "      <td>0.373</td>\n",
       "      <td>32856.0</td>\n",
       "      <td>47491.0</td>\n",
       "      <td>124.0</td>\n",
       "      <td>1718.0</td>\n",
       "    </tr>\n",
       "    <tr>\n",
       "      <th>244</th>\n",
       "      <td>5</td>\n",
       "      <td>29</td>\n",
       "      <td>64</td>\n",
       "      <td>92</td>\n",
       "      <td>38557</td>\n",
       "      <td>2552</td>\n",
       "      <td>0</td>\n",
       "      <td>3570</td>\n",
       "      <td>354166.0</td>\n",
       "      <td>7152.0</td>\n",
       "      <td>...</td>\n",
       "      <td>83.0</td>\n",
       "      <td>72.0</td>\n",
       "      <td>75.2</td>\n",
       "      <td>77.2</td>\n",
       "      <td>102010</td>\n",
       "      <td>0.288</td>\n",
       "      <td>66710.0</td>\n",
       "      <td>79729.0</td>\n",
       "      <td>424.0</td>\n",
       "      <td>4908.0</td>\n",
       "    </tr>\n",
       "    <tr>\n",
       "      <th>245</th>\n",
       "      <td>5</td>\n",
       "      <td>34</td>\n",
       "      <td>37</td>\n",
       "      <td>89</td>\n",
       "      <td>20320</td>\n",
       "      <td>1444</td>\n",
       "      <td>0</td>\n",
       "      <td>1692</td>\n",
       "      <td>190885.0</td>\n",
       "      <td>4917.0</td>\n",
       "      <td>...</td>\n",
       "      <td>79.8</td>\n",
       "      <td>68.2</td>\n",
       "      <td>74.2</td>\n",
       "      <td>74.7</td>\n",
       "      <td>53585</td>\n",
       "      <td>0.281</td>\n",
       "      <td>40507.0</td>\n",
       "      <td>38297.0</td>\n",
       "      <td>212.0</td>\n",
       "      <td>2834.0</td>\n",
       "    </tr>\n",
       "  </tbody>\n",
       "</table>\n",
       "<p>246 rows × 86 columns</p>\n",
       "</div>"
      ],
      "text/plain": [
       "     year  sgg_nm  child  house  report_sx_total  vio_cnt  mur_rob_cnt  \\\n",
       "0       0      27     39     97            22574     1324            0   \n",
       "1       0      26     46     98            19674     1102            0   \n",
       "2       0      27     39     97            14499      949            0   \n",
       "3       0      13     39     98            38769     1924            0   \n",
       "4       0      26     46     98            18857     1127            0   \n",
       "..    ...     ...    ...    ...              ...      ...          ...   \n",
       "241     5      33     44     87            22771     1460            2   \n",
       "242     5      30     37     88            21264     1265            5   \n",
       "243     5      31     44     86            26014     1715            8   \n",
       "244     5      29     64     92            38557     2552            0   \n",
       "245     5      34     37     89            20320     1444            0   \n",
       "\n",
       "     car_cnt   popu_합계   for_합계  ...  before_q2  before_q3  before_q4  \\\n",
       "0       1412   63948.0   5132.5  ...       79.0       66.5       62.3   \n",
       "1        867   78638.5   5489.5  ...       78.3       68.8       62.3   \n",
       "2        736   63948.0   5132.5  ...       80.8       65.8       52.0   \n",
       "3       1788  321345.0  13152.0  ...       70.5       67.5       61.5   \n",
       "4        899   78638.5   5489.5  ...       75.0       66.0       61.0   \n",
       "..       ...       ...      ...  ...        ...        ...        ...   \n",
       "241     1964  256001.0   5100.0  ...       77.3       64.9       68.6   \n",
       "242     1584  177579.0   3145.0  ...       77.4       68.5       71.2   \n",
       "243     1910  192446.0   2871.0  ...       75.6       67.9       70.7   \n",
       "244     3570  354166.0   7152.0  ...       83.0       72.0       75.2   \n",
       "245     1692  190885.0   4917.0  ...       79.8       68.2       74.2   \n",
       "\n",
       "     before_q5     edu  인구대비고학력자  popu_u20  popu_o60  for_u20  for_2030  \n",
       "0         71.3   52223     0.817    8387.0   14108.0    446.5    2436.0  \n",
       "1         73.0   72785     0.926   11965.5   16858.0    558.0    3031.5  \n",
       "2         69.5   52223     0.817    8387.0   14108.0    446.5    2436.0  \n",
       "3         66.5  144943     0.451   49895.0   65887.0   1370.0    8272.0  \n",
       "4         69.5  150297     1.911   11965.5   16858.0    558.0    3031.5  \n",
       "..         ...     ...       ...       ...       ...      ...       ...  \n",
       "241       72.2   84003     0.328   44789.0   49023.0    201.0    2989.0  \n",
       "242       72.6   39117     0.220   28095.0   50991.0    171.0    1932.0  \n",
       "243       71.8   71730     0.373   32856.0   47491.0    124.0    1718.0  \n",
       "244       77.2  102010     0.288   66710.0   79729.0    424.0    4908.0  \n",
       "245       74.7   53585     0.281   40507.0   38297.0    212.0    2834.0  \n",
       "\n",
       "[246 rows x 86 columns]"
      ]
     },
     "execution_count": 19,
     "metadata": {},
     "output_type": "execute_result"
    }
   ],
   "source": [
    "a_"
   ]
  },
  {
   "cell_type": "code",
   "execution_count": 62,
   "metadata": {},
   "outputs": [],
   "source": [
    "a_1 = a_[['vio_cnt', 'mur_rob_cnt', '인구수대비경찰수', 'bell', 'cctv', 'child', 'popu_o60', 'for_2030'\n",
    "          , 'single_2030', 'sx_rate_합계', 'for_o60', 'for_sx_rate_4050', 'single_4050', 'single_o60'\n",
    "          , 'single_f_u20','popu_2030', 'sx_rate_4050', 'single_u20', '인구대비고학력자']]"
   ]
  },
  {
   "cell_type": "code",
   "execution_count": 163,
   "metadata": {
    "ExecuteTime": {
     "end_time": "2021-12-03T05:30:38.112949Z",
     "start_time": "2021-12-03T05:30:38.099924Z"
    }
   },
   "outputs": [],
   "source": [
    "a_s2 = a_[['sx_rate_2030','cctv','for_female_o60','for_female_4050','for_o60','for_4050',\n",
    "'before_q4','bell', 'adult',\n",
    "'인구수대비경찰수','before_q2','외국인인구수대비검거수']]"
   ]
  },
  {
   "cell_type": "code",
   "execution_count": 87,
   "metadata": {
    "ExecuteTime": {
     "end_time": "2021-12-03T05:30:38.594104Z",
     "start_time": "2021-12-03T05:30:38.584506Z"
    }
   },
   "outputs": [],
   "source": [
    "a_s3 = a_[['인구수대비경찰수', '총범죄발생대비검거수', 'ofn_unknown', 'mur_rob_cnt'\n",
    "          , '인구수대비검거수', 'ofn_m', 'vic_10', 'case_car_car', 'case_car_man'\n",
    "          , 'sx_rate_4050', 'ofn_10', '교통사고범죄발생대비검거수', 'ofn_20', 'for_sx_rate_u20' ]]"
   ]
  },
  {
   "cell_type": "code",
   "execution_count": 140,
   "metadata": {
    "ExecuteTime": {
     "end_time": "2021-12-03T05:30:39.104252Z",
     "start_time": "2021-12-03T05:30:39.089624Z"
    }
   },
   "outputs": [],
   "source": [
    "a_4 = a_[['before_q4','ofn_m','sx_rate_합계','before_q2','car_cnt','인구수대비검거수','sx_rate_u20',\n",
    "\n",
    "'popu_female_2030','sx_rate_o60','bell','for_female_합계','single_f_합계','before_q5',\n",
    "\n",
    "'ofn_20','vio_cnt','case_car_car']]"
   ]
  },
  {
   "cell_type": "code",
   "execution_count": 66,
   "metadata": {
    "ExecuteTime": {
     "end_time": "2021-12-03T05:30:39.628642Z",
     "start_time": "2021-12-03T05:30:39.616308Z"
    }
   },
   "outputs": [],
   "source": [
    "a_5 = a_[['for_o60', 'ofn_m',  'sx_rate_4050', 'sx_rate_2030', 'single_2030',\n",
    "'sx_rate_합계', 'car_cnt', 'popu_female_2030', 'single_4050', 'before_q5',\n",
    "'before_q2', 'single_u20', 'for_female_o60', 'sx_rate_o60', 'mur_rob_cnt', 'child',\n",
    "'인구대비고학력자', 'single_o60', 'before_q4', 'case_car_car', 'single_f_합계', 'bell',\n",
    "'인구수대비경찰수', 'single_f_u20', 'for_female_4050', '외국인인구수대비검거수',\n",
    "'for_sx_rate_4050', '인구수대비검거수', 'adult', 'ofn_20',  'sx_rate_u20',\n",
    "'for_female_합계', 'cctv', 'vio_cnt']]"
   ]
  },
  {
   "cell_type": "code",
   "execution_count": 67,
   "metadata": {
    "ExecuteTime": {
     "end_time": "2021-12-03T05:30:40.153072Z",
     "start_time": "2021-12-03T05:30:40.138594Z"
    }
   },
   "outputs": [
    {
     "data": {
      "text/plain": [
       "array([[-1.08002514, -0.68019192,  3.2127031 , ...,  0.37255663,\n",
       "        -0.44630923,  0.48269414],\n",
       "       [-1.26140432, -0.68019192,  3.27879383, ..., -0.25211963,\n",
       "        -0.43504649,  0.78325985],\n",
       "       [-1.38640889, -0.68019192,  3.03049566, ...,  0.37255663,\n",
       "        -0.44630923,  0.48269414],\n",
       "       ...,\n",
       "       [-0.76056902,  1.90901058, -0.35901227, ...,  0.55103556,\n",
       "        -0.92075244, -0.74162857],\n",
       "       [-0.07672048, -0.68019192, -0.61300224, ...,  0.2610073 ,\n",
       "         0.73768702, -0.97601468],\n",
       "       [-0.98198234, -0.68019192, -0.64292327, ...,  2.42506431,\n",
       "        -1.01930148, -0.99531706]])"
      ]
     },
     "execution_count": 67,
     "metadata": {},
     "output_type": "execute_result"
    }
   ],
   "source": [
    "# StandardScaling\n",
    "scaler1 = StandardScaler()\n",
    "#scaler1 = MinMaxScaler()\n",
    "scaler1.fit(a_1) # scaler에 xdata 학습\n",
    "a_s1 = scaler1.transform(a_1)\n",
    "a_s1"
   ]
  },
  {
   "cell_type": "code",
   "execution_count": 32,
   "metadata": {
    "ExecuteTime": {
     "end_time": "2021-12-03T05:30:40.679915Z",
     "start_time": "2021-12-03T05:30:40.666519Z"
    }
   },
   "outputs": [
    {
     "data": {
      "text/plain": [
       "array([[-1.08002514, -0.68019192,  3.2127031 , ...,  0.37255663,\n",
       "        -0.44630923,  0.48269414],\n",
       "       [-1.26140432, -0.68019192,  3.27879383, ..., -0.25211963,\n",
       "        -0.43504649,  0.78325985],\n",
       "       [-1.38640889, -0.68019192,  3.03049566, ...,  0.37255663,\n",
       "        -0.44630923,  0.48269414],\n",
       "       ...,\n",
       "       [-0.76056902,  1.90901058, -0.35901227, ...,  0.55103556,\n",
       "        -0.92075244, -0.74162857],\n",
       "       [-0.07672048, -0.68019192, -0.61300224, ...,  0.2610073 ,\n",
       "         0.73768702, -0.97601468],\n",
       "       [-0.98198234, -0.68019192, -0.64292327, ...,  2.42506431,\n",
       "        -1.01930148, -0.99531706]])"
      ]
     },
     "execution_count": 32,
     "metadata": {},
     "output_type": "execute_result"
    }
   ],
   "source": [
    "# StandardScaling\n",
    "scaler2 = StandardScaler()\n",
    "scaler2.fit(a_2) # scaler에 xdata 학습\n",
    "a_s2 = scaler2.transform(a_2)\n",
    "a_s2"
   ]
  },
  {
   "cell_type": "code",
   "execution_count": 33,
   "metadata": {
    "ExecuteTime": {
     "end_time": "2021-12-03T05:30:41.235780Z",
     "start_time": "2021-12-03T05:30:41.222663Z"
    }
   },
   "outputs": [
    {
     "data": {
      "text/plain": [
       "array([[-1.46385011,  0.98379281, -1.16204451, ..., -1.66502188,\n",
       "        -0.48898838, -0.71525744],\n",
       "       [-1.46385011,  0.88395245, -0.81221223, ..., -1.56638857,\n",
       "        -0.33491247, -0.53631115],\n",
       "       [-1.46385011,  0.98379281, -1.16204451, ..., -1.66502188,\n",
       "        -0.48898838, -0.71525744],\n",
       "       ...,\n",
       "       [ 1.46385011,  1.38315425, -0.91216431, ..., -0.4676852 ,\n",
       "        -0.93463395, -0.93101467],\n",
       "       [ 1.46385011,  1.18347353,  0.08735649, ...,  0.68858416,\n",
       "        -0.52007993,  0.02757248],\n",
       "       [ 1.46385011,  1.68267532, -1.26199659, ..., -0.79744326,\n",
       "        -0.81303144, -0.59565942]])"
      ]
     },
     "execution_count": 33,
     "metadata": {},
     "output_type": "execute_result"
    }
   ],
   "source": [
    "# StandardScaling\n",
    "scaler3 = StandardScaler()\n",
    "scaler3.fit(a_3) # scaler에 xdata 학습\n",
    "a_s3 = scaler3.transform(a_3)\n",
    "a_s3"
   ]
  },
  {
   "cell_type": "code",
   "execution_count": 141,
   "metadata": {
    "ExecuteTime": {
     "end_time": "2021-12-03T05:30:41.790712Z",
     "start_time": "2021-12-03T05:30:41.776984Z"
    }
   },
   "outputs": [
    {
     "data": {
      "text/plain": [
       "array([[-0.49396049,  0.46338366, -0.45841478, ...,  1.22143226,\n",
       "        -1.08002514, -0.11566932],\n",
       "       [-0.49396049,  0.78530119, -0.37153493, ..., -1.03484844,\n",
       "        -1.26140432, -0.52850194],\n",
       "       [-2.31844604,  0.9851121 , -0.45841478, ..., -0.87394773,\n",
       "        -1.38640889,  0.07810924],\n",
       "       ...,\n",
       "       [ 0.99396947, -1.00436302,  0.75790301, ..., -0.55681979,\n",
       "        -0.76056902, -1.70708755],\n",
       "       [ 1.79107481, -1.45649767,  0.62758325, ...,  0.87893784,\n",
       "        -0.07672048, -2.35115781],\n",
       "       [ 1.61394029, -2.32875832,  1.93078088, ..., -0.81833691,\n",
       "        -0.98198234,  0.83430991]])"
      ]
     },
     "execution_count": 141,
     "metadata": {},
     "output_type": "execute_result"
    }
   ],
   "source": [
    "# StandardScaling\n",
    "scaler4 = StandardScaler()\n",
    "scaler4.fit(a_4) # scaler에 xdata 학습\n",
    "a_s4 = scaler4.transform(a_4)\n",
    "a_s4"
   ]
  },
  {
   "cell_type": "code",
   "execution_count": 68,
   "metadata": {
    "ExecuteTime": {
     "end_time": "2021-12-03T05:30:42.315244Z",
     "start_time": "2021-12-03T05:30:42.302017Z"
    }
   },
   "outputs": [
    {
     "data": {
      "text/plain": [
       "array([[-0.38911982,  0.46338366,  0.37255663, ..., -0.54416405,\n",
       "        -0.33726099, -1.08002514],\n",
       "       [-0.45704651,  0.78530119, -0.25211963, ..., -0.48212534,\n",
       "        -0.98753644, -1.26140432],\n",
       "       [-0.38911982,  0.9851121 ,  0.37255663, ..., -0.54416405,\n",
       "        -0.95161367, -1.38640889],\n",
       "       ...,\n",
       "       [-0.59093101, -1.00436302,  0.55103556, ..., -0.84574396,\n",
       "        -0.63563992, -0.76056902],\n",
       "       [-0.55745988, -1.45649767,  0.2610073 , ..., -0.51596464,\n",
       "         0.23090527, -0.07672048],\n",
       "       [-0.5358021 , -2.32875832,  2.42506431, ..., -0.74155994,\n",
       "        -0.67522828, -0.98198234]])"
      ]
     },
     "execution_count": 68,
     "metadata": {},
     "output_type": "execute_result"
    }
   ],
   "source": [
    "# StandardScaling\n",
    "scaler5 = StandardScaler()\n",
    "scaler5.fit(a_5) # scaler에 xdata 학습\n",
    "a_s5 = scaler5.transform(a_5)\n",
    "a_s5"
   ]
  },
  {
   "cell_type": "code",
   "execution_count": 164,
   "metadata": {
    "ExecuteTime": {
     "end_time": "2021-12-03T05:30:42.887456Z",
     "start_time": "2021-12-03T05:30:42.873807Z"
    }
   },
   "outputs": [],
   "source": [
    "# x데이터 설정 2017, 2018 데이터를 학습용, 2019년 데이터를 검증용 데이터셋으로 설정\n",
    "\n",
    "xtrain1 = a_s1[:-82]\n",
    "xtest1 = a_s1[-82:]\n",
    "xtrain2 = a_s2[:-82]\n",
    "xtest2 = a_s2[-82:]\n",
    "xtrain3 = a_s3[:-82]\n",
    "xtest3 = a_s3[-82:]\n",
    "xtrain4 = a_s4[:-82]\n",
    "xtest4 = a_s4[-82:]\n",
    "xtrain5 = a_s5[:-82]\n",
    "xtest5 = a_s5[-82:]"
   ]
  },
  {
   "cell_type": "code",
   "execution_count": 165,
   "metadata": {},
   "outputs": [],
   "source": [
    "train = a[:-82]\n",
    "test = a[-82:]"
   ]
  },
  {
   "cell_type": "code",
   "execution_count": 166,
   "metadata": {
    "ExecuteTime": {
     "end_time": "2021-12-03T05:30:43.412628Z",
     "start_time": "2021-12-03T05:30:43.400496Z"
    }
   },
   "outputs": [],
   "source": [
    "# y데이터 설정 2017, 2018 데이터를 학습용, 2019년 데이터를 검증용 데이터셋으로 설정\n",
    "\n",
    "train = a[:-82]\n",
    "test = a[-82:]\n",
    "\n",
    "ytrain1 = train['q1']\n",
    "ytrain2 = train['q2']\n",
    "ytrain3 = train['q3']\n",
    "ytrain4 = train['q4']\n",
    "ytrain5 = train['q5']\n",
    "\n",
    "ytest1 = test['q1']\n",
    "ytest2 = test['q2']\n",
    "ytest3 = test['q3']\n",
    "ytest4 = test['q4']\n",
    "ytest5 = test['q5']"
   ]
  },
  {
   "cell_type": "code",
   "execution_count": 39,
   "metadata": {
    "ExecuteTime": {
     "end_time": "2021-12-03T05:30:43.893883Z",
     "start_time": "2021-12-03T05:30:43.881756Z"
    }
   },
   "outputs": [
    {
     "data": {
      "text/plain": [
       "19"
      ]
     },
     "execution_count": 39,
     "metadata": {},
     "output_type": "execute_result"
    }
   ],
   "source": [
    "len(a_1.columns)"
   ]
  },
  {
   "cell_type": "code",
   "execution_count": 40,
   "metadata": {},
   "outputs": [
    {
     "data": {
      "text/plain": [
       "Index(['vio_cnt', 'mur_rob_cnt', '인구수대비경찰수', 'bell', 'cctv', 'child',\n",
       "       'popu_o60', 'for_2030', 'single_2030', 'sx_rate_합계', 'for_o60',\n",
       "       'for_sx_rate_4050', 'single_4050', 'single_o60', 'single_f_u20',\n",
       "       'popu_2030', 'sx_rate_4050', 'single_u20', '인구대비고학력자'],\n",
       "      dtype='object')"
      ]
     },
     "execution_count": 40,
     "metadata": {},
     "output_type": "execute_result"
    }
   ],
   "source": [
    "a_1.columns"
   ]
  },
  {
   "cell_type": "markdown",
   "metadata": {},
   "source": [
    "'house', 'vio_cnt', '인구수대비경찰수', 'bell', 'cctv', 'child', 'popu_o60', 'for_2030', 'single_u20', 'single_2030', 'sx_rate_합계', 'for_o60', 'for_sx_rate_4050', 'single_4050', 'single_o60', 'single_f_u20', 'popu_2050', 'sx_rate_4050', 'mur_rob_cnt'"
   ]
  },
  {
   "cell_type": "markdown",
   "metadata": {},
   "source": [
    "'house', 'vio_cnt', '인구수대비경찰수', 'bell'\n",
    "          , 'cctv', 'popu_u20', 'popu_o60', 'for_u20', 'for_2030', 'single_u20'\n",
    "          , 'single_2030', 'sx_rate_합계', 'for_o60', 'for_sx_rate_4050', 'single_4050'\n",
    "          , 'single_o60', 'single_f_u20', 'popu_2050', 'sx_rate_4050'"
   ]
  },
  {
   "cell_type": "markdown",
   "metadata": {},
   "source": [
    "mae = 1.84\n",
    "alpha = 0.01\n",
    "'house', 'vio_cnt', '인구수대비경찰수', 'bell', 'cctv', 'popu_u20', 'popu_o60',\n",
    "       'for_u20', 'for_2030', 'single_u20', 'single_2030', 'sx_rate_합계',\n",
    "       'for_o60', 'for_sx_rate_4050', 'single_4050', 'single_o60',\n",
    "       'single_f_u20', 'popu_2050', 'sx_rate_4050', 'car_cnt'"
   ]
  },
  {
   "cell_type": "markdown",
   "metadata": {},
   "source": [
    "mae = 1.88\n",
    "alpha = 0.01\n",
    "'house', 'vio_cnt', '인구수대비경찰수', 'bell', 'cctv', 'popu_u20', 'popu_o60',\n",
    "       'for_u20', 'for_2030', 'single_u20', 'single_2030', 'sx_rate_합계',\n",
    "       'for_o60', 'for_sx_rate_4050', 'single_4050', 'single_o60',\n",
    "       'single_f_u20', 'popu_2050', 'sx_rate_4050'"
   ]
  },
  {
   "cell_type": "code",
   "execution_count": 41,
   "metadata": {
    "ExecuteTime": {
     "end_time": "2021-12-03T05:30:44.403270Z",
     "start_time": "2021-12-03T05:30:44.389026Z"
    }
   },
   "outputs": [],
   "source": [
    "# 그리드 서치 패키지\n",
    "from sklearn.model_selection import GridSearchCV"
   ]
  },
  {
   "cell_type": "code",
   "execution_count": 66,
   "metadata": {
    "ExecuteTime": {
     "end_time": "2021-12-03T05:30:46.304109Z",
     "start_time": "2021-12-03T05:30:46.292653Z"
    }
   },
   "outputs": [],
   "source": [
    "# 최적 성능을 내는 lasso의 alpha값을 얻기 위해 param_grid 생성\n",
    "\n",
    "param_grid = {'alpha' : np.linspace(0.001, 10.0, 10001)}\n",
    "\n",
    "#그리드 서치 설정\n",
    "#grid_search = GridSearchCV(Ridge(), param_grid = param_grid, cv = 10, n_jobs = -1, scoring ='r2')\n",
    "grid_search = GridSearchCV(Ridge(), param_grid = param_grid, cv = 10, n_jobs = -1, scoring ='neg_mean_absolute_error')"
   ]
  },
  {
   "cell_type": "markdown",
   "metadata": {},
   "source": [
    "#### q1 절도폭력 "
   ]
  },
  {
   "cell_type": "code",
   "execution_count": 329,
   "metadata": {
    "ExecuteTime": {
     "end_time": "2021-12-03T05:31:47.932560Z",
     "start_time": "2021-12-03T05:30:47.288805Z"
    }
   },
   "outputs": [
    {
     "name": "stderr",
     "output_type": "stream",
     "text": [
      "exception calling callback for <Future at 0x16923ebc220 state=finished returned list>\n",
      "Traceback (most recent call last):\n",
      "  File \"C:\\Anaconda3\\lib\\site-packages\\joblib\\externals\\loky\\_base.py\", line 625, in _invoke_callbacks\n",
      "    callback(self)\n",
      "  File \"C:\\Anaconda3\\lib\\site-packages\\joblib\\parallel.py\", line 347, in __call__\n",
      "    self.parallel.dispatch_next()\n",
      "  File \"C:\\Anaconda3\\lib\\site-packages\\joblib\\parallel.py\", line 780, in dispatch_next\n",
      "    if not self.dispatch_one_batch(self._original_iterator):\n",
      "  File \"C:\\Anaconda3\\lib\\site-packages\\joblib\\parallel.py\", line 847, in dispatch_one_batch\n",
      "    self._dispatch(tasks)\n",
      "  File \"C:\\Anaconda3\\lib\\site-packages\\joblib\\parallel.py\", line 765, in _dispatch\n",
      "    job = self._backend.apply_async(batch, callback=cb)\n",
      "  File \"C:\\Anaconda3\\lib\\site-packages\\joblib\\_parallel_backends.py\", line 531, in apply_async\n",
      "    future = self._workers.submit(SafeFunction(func))\n",
      "AttributeError: 'NoneType' object has no attribute 'submit'\n",
      "exception calling callback for <Future at 0x16923f244c0 state=finished returned list>\n",
      "Traceback (most recent call last):\n",
      "  File \"C:\\Anaconda3\\lib\\site-packages\\joblib\\externals\\loky\\_base.py\", line 625, in _invoke_callbacks\n",
      "    callback(self)\n",
      "  File \"C:\\Anaconda3\\lib\\site-packages\\joblib\\parallel.py\", line 347, in __call__\n",
      "    self.parallel.dispatch_next()\n",
      "  File \"C:\\Anaconda3\\lib\\site-packages\\joblib\\parallel.py\", line 780, in dispatch_next\n",
      "    if not self.dispatch_one_batch(self._original_iterator):\n",
      "  File \"C:\\Anaconda3\\lib\\site-packages\\joblib\\parallel.py\", line 847, in dispatch_one_batch\n",
      "    self._dispatch(tasks)\n",
      "  File \"C:\\Anaconda3\\lib\\site-packages\\joblib\\parallel.py\", line 765, in _dispatch\n",
      "    job = self._backend.apply_async(batch, callback=cb)\n",
      "  File \"C:\\Anaconda3\\lib\\site-packages\\joblib\\_parallel_backends.py\", line 531, in apply_async\n",
      "    future = self._workers.submit(SafeFunction(func))\n",
      "AttributeError: 'NoneType' object has no attribute 'submit'\n",
      "exception calling callback for <Future at 0x16923d5bb50 state=finished returned list>\n",
      "Traceback (most recent call last):\n",
      "  File \"C:\\Anaconda3\\lib\\site-packages\\joblib\\externals\\loky\\_base.py\", line 625, in _invoke_callbacks\n",
      "    callback(self)\n",
      "  File \"C:\\Anaconda3\\lib\\site-packages\\joblib\\parallel.py\", line 347, in __call__\n",
      "    self.parallel.dispatch_next()\n",
      "  File \"C:\\Anaconda3\\lib\\site-packages\\joblib\\parallel.py\", line 780, in dispatch_next\n",
      "    if not self.dispatch_one_batch(self._original_iterator):\n",
      "  File \"C:\\Anaconda3\\lib\\site-packages\\joblib\\parallel.py\", line 847, in dispatch_one_batch\n",
      "    self._dispatch(tasks)\n",
      "  File \"C:\\Anaconda3\\lib\\site-packages\\joblib\\parallel.py\", line 765, in _dispatch\n",
      "    job = self._backend.apply_async(batch, callback=cb)\n",
      "  File \"C:\\Anaconda3\\lib\\site-packages\\joblib\\_parallel_backends.py\", line 531, in apply_async\n",
      "    future = self._workers.submit(SafeFunction(func))\n",
      "AttributeError: 'NoneType' object has no attribute 'submit'\n"
     ]
    },
    {
     "ename": "KeyboardInterrupt",
     "evalue": "",
     "output_type": "error",
     "traceback": [
      "\u001b[1;31m---------------------------------------------------------------------------\u001b[0m",
      "\u001b[1;31mKeyboardInterrupt\u001b[0m                         Traceback (most recent call last)",
      "\u001b[1;32m<ipython-input-329-f70deae53c69>\u001b[0m in \u001b[0;36m<module>\u001b[1;34m\u001b[0m\n\u001b[0;32m      1\u001b[0m \u001b[1;31m# 그리드 서치 후 최고 성능의 모델을 ridge1에 저장\u001b[0m\u001b[1;33m\u001b[0m\u001b[1;33m\u001b[0m\u001b[1;33m\u001b[0m\u001b[0m\n\u001b[0;32m      2\u001b[0m \u001b[1;33m\u001b[0m\u001b[0m\n\u001b[1;32m----> 3\u001b[1;33m \u001b[0mgrid_search\u001b[0m\u001b[1;33m.\u001b[0m\u001b[0mfit\u001b[0m\u001b[1;33m(\u001b[0m\u001b[0mxtrain1\u001b[0m\u001b[1;33m,\u001b[0m \u001b[0mytrain1\u001b[0m\u001b[1;33m)\u001b[0m\u001b[1;33m\u001b[0m\u001b[1;33m\u001b[0m\u001b[0m\n\u001b[0m\u001b[0;32m      4\u001b[0m \u001b[0mridge1\u001b[0m \u001b[1;33m=\u001b[0m \u001b[0mgrid_search\u001b[0m\u001b[1;33m.\u001b[0m\u001b[0mbest_estimator_\u001b[0m\u001b[1;33m\u001b[0m\u001b[1;33m\u001b[0m\u001b[0m\n",
      "\u001b[1;32mC:\\Anaconda3\\lib\\site-packages\\sklearn\\utils\\validation.py\u001b[0m in \u001b[0;36minner_f\u001b[1;34m(*args, **kwargs)\u001b[0m\n\u001b[0;32m     71\u001b[0m                           FutureWarning)\n\u001b[0;32m     72\u001b[0m         \u001b[0mkwargs\u001b[0m\u001b[1;33m.\u001b[0m\u001b[0mupdate\u001b[0m\u001b[1;33m(\u001b[0m\u001b[1;33m{\u001b[0m\u001b[0mk\u001b[0m\u001b[1;33m:\u001b[0m \u001b[0marg\u001b[0m \u001b[1;32mfor\u001b[0m \u001b[0mk\u001b[0m\u001b[1;33m,\u001b[0m \u001b[0marg\u001b[0m \u001b[1;32min\u001b[0m \u001b[0mzip\u001b[0m\u001b[1;33m(\u001b[0m\u001b[0msig\u001b[0m\u001b[1;33m.\u001b[0m\u001b[0mparameters\u001b[0m\u001b[1;33m,\u001b[0m \u001b[0margs\u001b[0m\u001b[1;33m)\u001b[0m\u001b[1;33m}\u001b[0m\u001b[1;33m)\u001b[0m\u001b[1;33m\u001b[0m\u001b[1;33m\u001b[0m\u001b[0m\n\u001b[1;32m---> 73\u001b[1;33m         \u001b[1;32mreturn\u001b[0m \u001b[0mf\u001b[0m\u001b[1;33m(\u001b[0m\u001b[1;33m**\u001b[0m\u001b[0mkwargs\u001b[0m\u001b[1;33m)\u001b[0m\u001b[1;33m\u001b[0m\u001b[1;33m\u001b[0m\u001b[0m\n\u001b[0m\u001b[0;32m     74\u001b[0m     \u001b[1;32mreturn\u001b[0m \u001b[0minner_f\u001b[0m\u001b[1;33m\u001b[0m\u001b[1;33m\u001b[0m\u001b[0m\n\u001b[0;32m     75\u001b[0m \u001b[1;33m\u001b[0m\u001b[0m\n",
      "\u001b[1;32mC:\\Anaconda3\\lib\\site-packages\\sklearn\\model_selection\\_search.py\u001b[0m in \u001b[0;36mfit\u001b[1;34m(self, X, y, groups, **fit_params)\u001b[0m\n\u001b[0;32m    734\u001b[0m                 \u001b[1;32mreturn\u001b[0m \u001b[0mresults\u001b[0m\u001b[1;33m\u001b[0m\u001b[1;33m\u001b[0m\u001b[0m\n\u001b[0;32m    735\u001b[0m \u001b[1;33m\u001b[0m\u001b[0m\n\u001b[1;32m--> 736\u001b[1;33m             \u001b[0mself\u001b[0m\u001b[1;33m.\u001b[0m\u001b[0m_run_search\u001b[0m\u001b[1;33m(\u001b[0m\u001b[0mevaluate_candidates\u001b[0m\u001b[1;33m)\u001b[0m\u001b[1;33m\u001b[0m\u001b[1;33m\u001b[0m\u001b[0m\n\u001b[0m\u001b[0;32m    737\u001b[0m \u001b[1;33m\u001b[0m\u001b[0m\n\u001b[0;32m    738\u001b[0m         \u001b[1;31m# For multi-metric evaluation, store the best_index_, best_params_ and\u001b[0m\u001b[1;33m\u001b[0m\u001b[1;33m\u001b[0m\u001b[1;33m\u001b[0m\u001b[0m\n",
      "\u001b[1;32mC:\\Anaconda3\\lib\\site-packages\\sklearn\\model_selection\\_search.py\u001b[0m in \u001b[0;36m_run_search\u001b[1;34m(self, evaluate_candidates)\u001b[0m\n\u001b[0;32m   1186\u001b[0m     \u001b[1;32mdef\u001b[0m \u001b[0m_run_search\u001b[0m\u001b[1;33m(\u001b[0m\u001b[0mself\u001b[0m\u001b[1;33m,\u001b[0m \u001b[0mevaluate_candidates\u001b[0m\u001b[1;33m)\u001b[0m\u001b[1;33m:\u001b[0m\u001b[1;33m\u001b[0m\u001b[1;33m\u001b[0m\u001b[0m\n\u001b[0;32m   1187\u001b[0m         \u001b[1;34m\"\"\"Search all candidates in param_grid\"\"\"\u001b[0m\u001b[1;33m\u001b[0m\u001b[1;33m\u001b[0m\u001b[0m\n\u001b[1;32m-> 1188\u001b[1;33m         \u001b[0mevaluate_candidates\u001b[0m\u001b[1;33m(\u001b[0m\u001b[0mParameterGrid\u001b[0m\u001b[1;33m(\u001b[0m\u001b[0mself\u001b[0m\u001b[1;33m.\u001b[0m\u001b[0mparam_grid\u001b[0m\u001b[1;33m)\u001b[0m\u001b[1;33m)\u001b[0m\u001b[1;33m\u001b[0m\u001b[1;33m\u001b[0m\u001b[0m\n\u001b[0m\u001b[0;32m   1189\u001b[0m \u001b[1;33m\u001b[0m\u001b[0m\n\u001b[0;32m   1190\u001b[0m \u001b[1;33m\u001b[0m\u001b[0m\n",
      "\u001b[1;32mC:\\Anaconda3\\lib\\site-packages\\sklearn\\model_selection\\_search.py\u001b[0m in \u001b[0;36mevaluate_candidates\u001b[1;34m(candidate_params)\u001b[0m\n\u001b[0;32m    706\u001b[0m                               n_splits, n_candidates, n_candidates * n_splits))\n\u001b[0;32m    707\u001b[0m \u001b[1;33m\u001b[0m\u001b[0m\n\u001b[1;32m--> 708\u001b[1;33m                 out = parallel(delayed(_fit_and_score)(clone(base_estimator),\n\u001b[0m\u001b[0;32m    709\u001b[0m                                                        \u001b[0mX\u001b[0m\u001b[1;33m,\u001b[0m \u001b[0my\u001b[0m\u001b[1;33m,\u001b[0m\u001b[1;33m\u001b[0m\u001b[1;33m\u001b[0m\u001b[0m\n\u001b[0;32m    710\u001b[0m                                                        \u001b[0mtrain\u001b[0m\u001b[1;33m=\u001b[0m\u001b[0mtrain\u001b[0m\u001b[1;33m,\u001b[0m \u001b[0mtest\u001b[0m\u001b[1;33m=\u001b[0m\u001b[0mtest\u001b[0m\u001b[1;33m,\u001b[0m\u001b[1;33m\u001b[0m\u001b[1;33m\u001b[0m\u001b[0m\n",
      "\u001b[1;32mC:\\Anaconda3\\lib\\site-packages\\joblib\\parallel.py\u001b[0m in \u001b[0;36m__call__\u001b[1;34m(self, iterable)\u001b[0m\n\u001b[0;32m   1040\u001b[0m \u001b[1;33m\u001b[0m\u001b[0m\n\u001b[0;32m   1041\u001b[0m             \u001b[1;32mwith\u001b[0m \u001b[0mself\u001b[0m\u001b[1;33m.\u001b[0m\u001b[0m_backend\u001b[0m\u001b[1;33m.\u001b[0m\u001b[0mretrieval_context\u001b[0m\u001b[1;33m(\u001b[0m\u001b[1;33m)\u001b[0m\u001b[1;33m:\u001b[0m\u001b[1;33m\u001b[0m\u001b[1;33m\u001b[0m\u001b[0m\n\u001b[1;32m-> 1042\u001b[1;33m                 \u001b[0mself\u001b[0m\u001b[1;33m.\u001b[0m\u001b[0mretrieve\u001b[0m\u001b[1;33m(\u001b[0m\u001b[1;33m)\u001b[0m\u001b[1;33m\u001b[0m\u001b[1;33m\u001b[0m\u001b[0m\n\u001b[0m\u001b[0;32m   1043\u001b[0m             \u001b[1;31m# Make sure that we get a last message telling us we are done\u001b[0m\u001b[1;33m\u001b[0m\u001b[1;33m\u001b[0m\u001b[1;33m\u001b[0m\u001b[0m\n\u001b[0;32m   1044\u001b[0m             \u001b[0melapsed_time\u001b[0m \u001b[1;33m=\u001b[0m \u001b[0mtime\u001b[0m\u001b[1;33m.\u001b[0m\u001b[0mtime\u001b[0m\u001b[1;33m(\u001b[0m\u001b[1;33m)\u001b[0m \u001b[1;33m-\u001b[0m \u001b[0mself\u001b[0m\u001b[1;33m.\u001b[0m\u001b[0m_start_time\u001b[0m\u001b[1;33m\u001b[0m\u001b[1;33m\u001b[0m\u001b[0m\n",
      "\u001b[1;32mC:\\Anaconda3\\lib\\site-packages\\joblib\\parallel.py\u001b[0m in \u001b[0;36mretrieve\u001b[1;34m(self)\u001b[0m\n\u001b[0;32m    914\u001b[0m             \u001b[1;31m# we empty it and Python list are not thread-safe by default hence\u001b[0m\u001b[1;33m\u001b[0m\u001b[1;33m\u001b[0m\u001b[1;33m\u001b[0m\u001b[0m\n\u001b[0;32m    915\u001b[0m             \u001b[1;31m# the use of the lock\u001b[0m\u001b[1;33m\u001b[0m\u001b[1;33m\u001b[0m\u001b[1;33m\u001b[0m\u001b[0m\n\u001b[1;32m--> 916\u001b[1;33m             \u001b[1;32mwith\u001b[0m \u001b[0mself\u001b[0m\u001b[1;33m.\u001b[0m\u001b[0m_lock\u001b[0m\u001b[1;33m:\u001b[0m\u001b[1;33m\u001b[0m\u001b[1;33m\u001b[0m\u001b[0m\n\u001b[0m\u001b[0;32m    917\u001b[0m                 \u001b[0mjob\u001b[0m \u001b[1;33m=\u001b[0m \u001b[0mself\u001b[0m\u001b[1;33m.\u001b[0m\u001b[0m_jobs\u001b[0m\u001b[1;33m.\u001b[0m\u001b[0mpop\u001b[0m\u001b[1;33m(\u001b[0m\u001b[1;36m0\u001b[0m\u001b[1;33m)\u001b[0m\u001b[1;33m\u001b[0m\u001b[1;33m\u001b[0m\u001b[0m\n\u001b[0;32m    918\u001b[0m \u001b[1;33m\u001b[0m\u001b[0m\n",
      "\u001b[1;31mKeyboardInterrupt\u001b[0m: "
     ]
    },
    {
     "name": "stderr",
     "output_type": "stream",
     "text": [
      "exception calling callback for <Future at 0x16923fdb880 state=finished raised PicklingError>\n",
      "Traceback (most recent call last):\n",
      "  File \"C:\\Anaconda3\\lib\\site-packages\\joblib\\externals\\loky\\backend\\queues.py\", line 150, in _feed\n",
      "    obj_ = dumps(obj, reducers=reducers)\n",
      "  File \"C:\\Anaconda3\\lib\\site-packages\\joblib\\externals\\loky\\backend\\reduction.py\", line 247, in dumps\n",
      "    dump(obj, buf, reducers=reducers, protocol=protocol)\n",
      "  File \"C:\\Anaconda3\\lib\\site-packages\\joblib\\externals\\loky\\backend\\reduction.py\", line 240, in dump\n",
      "    _LokyPickler(file, reducers=reducers, protocol=protocol).dump(obj)\n",
      "  File \"C:\\Anaconda3\\lib\\site-packages\\joblib\\externals\\cloudpickle\\cloudpickle_fast.py\", line 548, in dump\n",
      "    return Pickler.dump(self, obj)\n",
      "  File \"C:\\Anaconda3\\lib\\site-packages\\joblib\\parallel.py\", line 257, in __reduce__\n",
      "    self._reducer_callback()\n",
      "  File \"C:\\Anaconda3\\lib\\site-packages\\joblib\\parallel.py\", line 974, in _batched_calls_reducer_callback\n",
      "    self._backend._workers._temp_folder_manager.set_current_context(  # noqa\n",
      "AttributeError: 'NoneType' object has no attribute '_temp_folder_manager'\n",
      "\n",
      "During handling of the above exception, another exception occurred:\n",
      "\n",
      "Traceback (most recent call last):\n",
      "  File \"C:\\Anaconda3\\lib\\site-packages\\joblib\\externals\\loky\\_base.py\", line 625, in _invoke_callbacks\n",
      "    callback(self)\n",
      "  File \"C:\\Anaconda3\\lib\\site-packages\\joblib\\parallel.py\", line 347, in __call__\n",
      "    self.parallel.dispatch_next()\n",
      "  File \"C:\\Anaconda3\\lib\\site-packages\\joblib\\parallel.py\", line 780, in dispatch_next\n",
      "    if not self.dispatch_one_batch(self._original_iterator):\n",
      "  File \"C:\\Anaconda3\\lib\\site-packages\\joblib\\parallel.py\", line 847, in dispatch_one_batch\n",
      "    self._dispatch(tasks)\n",
      "  File \"C:\\Anaconda3\\lib\\site-packages\\joblib\\parallel.py\", line 765, in _dispatch\n",
      "    job = self._backend.apply_async(batch, callback=cb)\n",
      "  File \"C:\\Anaconda3\\lib\\site-packages\\joblib\\_parallel_backends.py\", line 531, in apply_async\n",
      "    future = self._workers.submit(SafeFunction(func))\n",
      "AttributeError: 'NoneType' object has no attribute 'submit'\n",
      "exception calling callback for <Future at 0x16923ed3610 state=finished raised PicklingError>\n",
      "Traceback (most recent call last):\n",
      "  File \"C:\\Anaconda3\\lib\\site-packages\\joblib\\externals\\loky\\backend\\queues.py\", line 150, in _feed\n",
      "    obj_ = dumps(obj, reducers=reducers)\n",
      "  File \"C:\\Anaconda3\\lib\\site-packages\\joblib\\externals\\loky\\backend\\reduction.py\", line 247, in dumps\n",
      "    dump(obj, buf, reducers=reducers, protocol=protocol)\n",
      "  File \"C:\\Anaconda3\\lib\\site-packages\\joblib\\externals\\loky\\backend\\reduction.py\", line 240, in dump\n",
      "    _LokyPickler(file, reducers=reducers, protocol=protocol).dump(obj)\n",
      "  File \"C:\\Anaconda3\\lib\\site-packages\\joblib\\externals\\cloudpickle\\cloudpickle_fast.py\", line 548, in dump\n",
      "    return Pickler.dump(self, obj)\n",
      "  File \"C:\\Anaconda3\\lib\\site-packages\\joblib\\parallel.py\", line 257, in __reduce__\n",
      "    self._reducer_callback()\n",
      "  File \"C:\\Anaconda3\\lib\\site-packages\\joblib\\parallel.py\", line 974, in _batched_calls_reducer_callback\n",
      "    self._backend._workers._temp_folder_manager.set_current_context(  # noqa\n",
      "AttributeError: 'NoneType' object has no attribute '_temp_folder_manager'\n",
      "\n",
      "During handling of the above exception, another exception occurred:\n",
      "\n",
      "Traceback (most recent call last):\n",
      "  File \"C:\\Anaconda3\\lib\\site-packages\\joblib\\externals\\loky\\_base.py\", line 625, in _invoke_callbacks\n",
      "    callback(self)\n",
      "  File \"C:\\Anaconda3\\lib\\site-packages\\joblib\\parallel.py\", line 347, in __call__\n",
      "    self.parallel.dispatch_next()\n",
      "  File \"C:\\Anaconda3\\lib\\site-packages\\joblib\\parallel.py\", line 780, in dispatch_next\n",
      "    if not self.dispatch_one_batch(self._original_iterator):\n",
      "  File \"C:\\Anaconda3\\lib\\site-packages\\joblib\\parallel.py\", line 847, in dispatch_one_batch\n",
      "    self._dispatch(tasks)\n",
      "  File \"C:\\Anaconda3\\lib\\site-packages\\joblib\\parallel.py\", line 765, in _dispatch\n",
      "    job = self._backend.apply_async(batch, callback=cb)\n",
      "  File \"C:\\Anaconda3\\lib\\site-packages\\joblib\\_parallel_backends.py\", line 531, in apply_async\n",
      "    future = self._workers.submit(SafeFunction(func))\n",
      "AttributeError: 'NoneType' object has no attribute 'submit'\n"
     ]
    }
   ],
   "source": [
    "# 그리드 서치 후 최고 성능의 모델을 ridge1에 저장\n",
    "\n",
    "grid_search.fit(xtrain1, ytrain1)\n",
    "ridge1 = grid_search.best_estimator_"
   ]
  },
  {
   "cell_type": "code",
   "execution_count": 42,
   "metadata": {},
   "outputs": [],
   "source": [
    "from sklearn.linear_model import LinearRegression"
   ]
  },
  {
   "cell_type": "code",
   "execution_count": 43,
   "metadata": {},
   "outputs": [
    {
     "data": {
      "text/plain": [
       "LinearRegression()"
      ]
     },
     "execution_count": 43,
     "metadata": {},
     "output_type": "execute_result"
    }
   ],
   "source": [
    "ridge1 = LinearRegression()\n",
    "ridge1.fit(xtrain1, ytrain1)"
   ]
  },
  {
   "cell_type": "code",
   "execution_count": 71,
   "metadata": {},
   "outputs": [
    {
     "data": {
      "text/plain": [
       "Ridge(alpha=0.01)"
      ]
     },
     "execution_count": 71,
     "metadata": {},
     "output_type": "execute_result"
    }
   ],
   "source": [
    "ridge1 = Ridge(alpha = 0.01)\n",
    "ridge1.fit(xtrain1, ytrain1)"
   ]
  },
  {
   "cell_type": "code",
   "execution_count": 72,
   "metadata": {
    "ExecuteTime": {
     "end_time": "2021-12-03T05:31:48.336787Z",
     "start_time": "2021-12-03T05:31:48.324272Z"
    }
   },
   "outputs": [
    {
     "data": {
      "text/plain": [
       "1.813919986908684"
      ]
     },
     "execution_count": 72,
     "metadata": {},
     "output_type": "execute_result"
    }
   ],
   "source": [
    "# MAE 출력\n",
    "\n",
    "y_pred1 = ridge1.predict(xtest1)\n",
    "mean_absolute_error(ytest1, y_pred1)"
   ]
  },
  {
   "cell_type": "code",
   "execution_count": 332,
   "metadata": {
    "scrolled": true
   },
   "outputs": [
    {
     "data": {
      "text/plain": [
       "2.3596064197145785"
      ]
     },
     "execution_count": 332,
     "metadata": {},
     "output_type": "execute_result"
    }
   ],
   "source": [
    "mean_squared_error(ytest1,y_pred1) ** 0.5"
   ]
  },
  {
   "cell_type": "code",
   "execution_count": null,
   "metadata": {},
   "outputs": [],
   "source": []
  },
  {
   "cell_type": "code",
   "execution_count": 308,
   "metadata": {},
   "outputs": [
    {
     "data": {
      "text/plain": [
       "1.8578849541194602"
      ]
     },
     "execution_count": 308,
     "metadata": {},
     "output_type": "execute_result"
    }
   ],
   "source": [
    "1.8578849541194602"
   ]
  },
  {
   "cell_type": "code",
   "execution_count": 73,
   "metadata": {
    "ExecuteTime": {
     "end_time": "2021-12-03T05:34:09.149871Z",
     "start_time": "2021-12-03T05:34:09.130871Z"
    }
   },
   "outputs": [
    {
     "name": "stdout",
     "output_type": "stream",
     "text": [
      "alpha = 0.01\n",
      "[-0.44404298  0.17307622  1.14101331 -1.02773992  1.32255397  0.72524901\n",
      "  5.45052216  0.15299992 -0.1856828  -1.25729968 -1.84262412  1.61459414\n",
      "  0.41959296 -4.1222719  -4.45308384 -1.66934572 -0.63993805  4.71824552\n",
      " -0.58978956]\n",
      "가장 강한 양의 상관관계:  popu_o60 \n",
      "가장 강한 음의 상관관계:  single_f_u20\n"
     ]
    }
   ],
   "source": [
    "# 결과\n",
    "\n",
    "print('alpha =', ridge1.alpha)\n",
    "print(ridge1.coef_) # Ridge 회귀분석으로 나온 weghit값\n",
    "print('가장 강한 양의 상관관계: ',a_1.columns[ridge1.coef_.argmax()], '\\n가장 강한 음의 상관관계: ', a_1.columns[ridge1.coef_.argmin()])"
   ]
  },
  {
   "cell_type": "code",
   "execution_count": 74,
   "metadata": {},
   "outputs": [
    {
     "data": {
      "text/html": [
       "<div>\n",
       "<style scoped>\n",
       "    .dataframe tbody tr th:only-of-type {\n",
       "        vertical-align: middle;\n",
       "    }\n",
       "\n",
       "    .dataframe tbody tr th {\n",
       "        vertical-align: top;\n",
       "    }\n",
       "\n",
       "    .dataframe thead th {\n",
       "        text-align: right;\n",
       "    }\n",
       "</style>\n",
       "<table border=\"1\" class=\"dataframe\">\n",
       "  <thead>\n",
       "    <tr style=\"text-align: right;\">\n",
       "      <th></th>\n",
       "      <th>column</th>\n",
       "      <th>coef</th>\n",
       "    </tr>\n",
       "  </thead>\n",
       "  <tbody>\n",
       "    <tr>\n",
       "      <th>0</th>\n",
       "      <td>vio_cnt</td>\n",
       "      <td>-0.444043</td>\n",
       "    </tr>\n",
       "    <tr>\n",
       "      <th>1</th>\n",
       "      <td>mur_rob_cnt</td>\n",
       "      <td>0.173076</td>\n",
       "    </tr>\n",
       "    <tr>\n",
       "      <th>2</th>\n",
       "      <td>인구수대비경찰수</td>\n",
       "      <td>1.141013</td>\n",
       "    </tr>\n",
       "    <tr>\n",
       "      <th>3</th>\n",
       "      <td>bell</td>\n",
       "      <td>-1.027740</td>\n",
       "    </tr>\n",
       "    <tr>\n",
       "      <th>4</th>\n",
       "      <td>cctv</td>\n",
       "      <td>1.322554</td>\n",
       "    </tr>\n",
       "    <tr>\n",
       "      <th>5</th>\n",
       "      <td>child</td>\n",
       "      <td>0.725249</td>\n",
       "    </tr>\n",
       "    <tr>\n",
       "      <th>6</th>\n",
       "      <td>popu_o60</td>\n",
       "      <td>5.450522</td>\n",
       "    </tr>\n",
       "    <tr>\n",
       "      <th>7</th>\n",
       "      <td>for_2030</td>\n",
       "      <td>0.153000</td>\n",
       "    </tr>\n",
       "    <tr>\n",
       "      <th>8</th>\n",
       "      <td>single_2030</td>\n",
       "      <td>-0.185683</td>\n",
       "    </tr>\n",
       "    <tr>\n",
       "      <th>9</th>\n",
       "      <td>sx_rate_합계</td>\n",
       "      <td>-1.257300</td>\n",
       "    </tr>\n",
       "    <tr>\n",
       "      <th>10</th>\n",
       "      <td>for_o60</td>\n",
       "      <td>-1.842624</td>\n",
       "    </tr>\n",
       "    <tr>\n",
       "      <th>11</th>\n",
       "      <td>for_sx_rate_4050</td>\n",
       "      <td>1.614594</td>\n",
       "    </tr>\n",
       "    <tr>\n",
       "      <th>12</th>\n",
       "      <td>single_4050</td>\n",
       "      <td>0.419593</td>\n",
       "    </tr>\n",
       "    <tr>\n",
       "      <th>13</th>\n",
       "      <td>single_o60</td>\n",
       "      <td>-4.122272</td>\n",
       "    </tr>\n",
       "    <tr>\n",
       "      <th>14</th>\n",
       "      <td>single_f_u20</td>\n",
       "      <td>-4.453084</td>\n",
       "    </tr>\n",
       "    <tr>\n",
       "      <th>15</th>\n",
       "      <td>popu_2030</td>\n",
       "      <td>-1.669346</td>\n",
       "    </tr>\n",
       "    <tr>\n",
       "      <th>16</th>\n",
       "      <td>sx_rate_4050</td>\n",
       "      <td>-0.639938</td>\n",
       "    </tr>\n",
       "    <tr>\n",
       "      <th>17</th>\n",
       "      <td>single_u20</td>\n",
       "      <td>4.718246</td>\n",
       "    </tr>\n",
       "    <tr>\n",
       "      <th>18</th>\n",
       "      <td>인구대비고학력자</td>\n",
       "      <td>-0.589790</td>\n",
       "    </tr>\n",
       "  </tbody>\n",
       "</table>\n",
       "</div>"
      ],
      "text/plain": [
       "              column      coef\n",
       "0            vio_cnt -0.444043\n",
       "1        mur_rob_cnt  0.173076\n",
       "2           인구수대비경찰수  1.141013\n",
       "3               bell -1.027740\n",
       "4               cctv  1.322554\n",
       "5              child  0.725249\n",
       "6           popu_o60  5.450522\n",
       "7           for_2030  0.153000\n",
       "8        single_2030 -0.185683\n",
       "9         sx_rate_합계 -1.257300\n",
       "10           for_o60 -1.842624\n",
       "11  for_sx_rate_4050  1.614594\n",
       "12       single_4050  0.419593\n",
       "13        single_o60 -4.122272\n",
       "14      single_f_u20 -4.453084\n",
       "15         popu_2030 -1.669346\n",
       "16      sx_rate_4050 -0.639938\n",
       "17        single_u20  4.718246\n",
       "18          인구대비고학력자 -0.589790"
      ]
     },
     "execution_count": 74,
     "metadata": {},
     "output_type": "execute_result"
    }
   ],
   "source": [
    "pd.DataFrame({'column' : a_1.columns, 'coef': ridge1.coef_})"
   ]
  },
  {
   "cell_type": "code",
   "execution_count": 75,
   "metadata": {},
   "outputs": [
    {
     "data": {
      "text/plain": [
       "Index(['vio_cnt', 'mur_rob_cnt', '인구수대비경찰수', 'bell', 'cctv', 'child',\n",
       "       'popu_o60', 'for_2030', 'single_2030', 'sx_rate_합계', 'for_o60',\n",
       "       'for_sx_rate_4050', 'single_4050', 'single_o60', 'single_f_u20',\n",
       "       'popu_2030', 'sx_rate_4050', 'single_u20', '인구대비고학력자'],\n",
       "      dtype='object')"
      ]
     },
     "execution_count": 75,
     "metadata": {},
     "output_type": "execute_result"
    }
   ],
   "source": [
    "a_1.columns"
   ]
  },
  {
   "cell_type": "code",
   "execution_count": 336,
   "metadata": {},
   "outputs": [
    {
     "ename": "IndentationError",
     "evalue": "unexpected indent (<ipython-input-336-b22be02d0a10>, line 2)",
     "output_type": "error",
     "traceback": [
      "\u001b[1;36m  File \u001b[1;32m\"<ipython-input-336-b22be02d0a10>\"\u001b[1;36m, line \u001b[1;32m2\u001b[0m\n\u001b[1;33m    'popu_o60', 'for_2030', 'single_2030', 'sx_rate_합계', 'for_o60',\u001b[0m\n\u001b[1;37m    ^\u001b[0m\n\u001b[1;31mIndentationError\u001b[0m\u001b[1;31m:\u001b[0m unexpected indent\n"
     ]
    }
   ],
   "source": [
    "'vio_cnt', 'mur_rob_cnt', '인구수대비경찰수', 'bell', 'cctv', 'child',\n",
    "       'popu_o60', 'for_2030', 'single_2030', 'sx_rate_합계', 'for_o60',\n",
    "       'for_sx_rate_4050', 'single_4050', 'single_o60', 'single_f_u20',\n",
    "       'popu_2050', 'sx_rate_4050', 'single_m_u20', '인구대비고학력자'"
   ]
  },
  {
   "cell_type": "code",
   "execution_count": 76,
   "metadata": {},
   "outputs": [],
   "source": [
    "import matplotlib.pyplot as plt\n",
    "import seaborn as sns"
   ]
  },
  {
   "cell_type": "code",
   "execution_count": 77,
   "metadata": {},
   "outputs": [
    {
     "data": {
      "text/plain": [
       "array([78.74380342, 80.52531677, 78.21161125, 77.62068032, 77.53505017,\n",
       "       75.14511077, 78.02438327, 74.9157652 , 78.29108781, 70.03204783,\n",
       "       76.36977862, 76.15391452, 76.06184874, 77.90183188, 73.27090115,\n",
       "       72.95489168, 71.49035966, 82.78000588, 71.93944336, 74.66222723,\n",
       "       76.91455341, 77.8575145 , 73.61859163, 84.19820308, 78.46274644,\n",
       "       81.39520028, 77.41931172, 82.44762094, 77.62341589, 76.74292952,\n",
       "       82.29084585, 77.92817749, 77.68453869, 72.3332382 , 78.69098093,\n",
       "       77.67917101, 75.61965784, 80.04052198, 75.99065096, 78.91701302,\n",
       "       75.15384871, 78.64310196, 80.40713557, 78.12956738, 77.57573484,\n",
       "       77.45656065, 75.38960122, 78.16081271, 74.3669417 , 78.76552336,\n",
       "       70.1478996 , 76.52770116, 75.99392437, 76.182902  , 78.02496357,\n",
       "       73.2621025 , 72.5144905 , 71.20053525, 82.54601628, 71.70225151,\n",
       "       74.40376982, 76.74542081, 77.89174582, 73.3458587 , 84.6449796 ,\n",
       "       78.4013543 , 81.00432142, 77.40598885, 82.56718227, 77.96218801,\n",
       "       76.65208518, 82.08196412, 78.64096549, 78.79804085, 78.2230318 ,\n",
       "       72.7745684 , 77.77035012, 75.7957346 , 80.18752854, 76.46226548,\n",
       "       79.03636678, 75.20790346])"
      ]
     },
     "execution_count": 77,
     "metadata": {},
     "output_type": "execute_result"
    }
   ],
   "source": [
    "y_pred1"
   ]
  },
  {
   "cell_type": "code",
   "execution_count": 78,
   "metadata": {},
   "outputs": [],
   "source": [
    "import warnings\n",
    "import platform\n",
    "from matplotlib import font_manager, rc\n",
    "## 운영체제별 글꼴 세팅\n",
    "path = \"c:/Windows/Fonts/malgun.ttf\"\n",
    "if platform.system() == 'Darwin':\n",
    "    font_name = 'AppleGothic'\n",
    "    rc('font', family='AppleGothic')\n",
    "elif platform.system() == 'Windows':\n",
    "    font_name = font_manager.FontProperties(fname=path).get_name()\n",
    "    rc('font', family=font_name)\n",
    "else:\n",
    "    font_name = font_manager.FontProperties(fname=\"/usr/share/fonts/nanumfont/NanumGothic.ttf\")\n",
    "    rc('font', family=\"NanumGothic\")\n",
    "warnings.simplefilter(action='ignore')"
   ]
  },
  {
   "cell_type": "code",
   "execution_count": 119,
   "metadata": {},
   "outputs": [
    {
     "data": {
      "image/png": "[encoded data removed]",
      "text/plain": [
       "<Figure size 864x720 with 1 Axes>"
      ]
     },
     "metadata": {
      "needs_background": "light"
     },
     "output_type": "display_data"
    }
   ],
   "source": [
    "ft_series = pd.Series(ridge1.coef_, index =  a_1.columns)\n",
    "ft_top20 = ft_series.sort_values(ascending=False)[:]\n",
    "# 시각화\n",
    "plt.figure(figsize=(12,10))\n",
    "sns.barplot(x=ft_top20, y=ft_top20.index)\n",
    "plt.show()"
   ]
  },
  {
   "cell_type": "code",
   "execution_count": 181,
   "metadata": {},
   "outputs": [
    {
     "data": {
      "image/png": "[encoded data removed]",
      "text/plain": [
       "<Figure size 864x720 with 1 Axes>"
      ]
     },
     "metadata": {
      "needs_background": "light"
     },
     "output_type": "display_data"
    },
    {
     "name": "stdout",
     "output_type": "stream",
     "text": [
      "Index(['popu_o60', 'single_u20', 'single_f_u20', 'single_o60', 'for_o60',\n",
      "       'popu_2030', 'for_sx_rate_4050', 'cctv', 'sx_rate_합계', '인구수대비경찰수',\n",
      "       'bell'],\n",
      "      dtype='object')\n"
     ]
    }
   ],
   "source": [
    "ft_series = pd.Series(ridge1.coef_, index =  a_1.columns)\n",
    "ft_top20 = ft_series.abs().sort_values(ascending=False)[:11]\n",
    "# 시각화\n",
    "plt.figure(figsize=(12,10))\n",
    "sns.barplot(x=ft_top20, y=ft_top20.index)\n",
    "plt.show()\n",
    "print(ft_top20.index)"
   ]
  },
  {
   "cell_type": "code",
   "execution_count": 359,
   "metadata": {},
   "outputs": [],
   "source": [
    "df['q1'][-82:] = y_pred1"
   ]
  },
  {
   "cell_type": "code",
   "execution_count": 360,
   "metadata": {},
   "outputs": [
    {
     "data": {
      "text/plain": [
       "0      75.200000\n",
       "1      81.600000\n",
       "2      77.300000\n",
       "3      78.000000\n",
       "4      78.600000\n",
       "         ...    \n",
       "323    75.795735\n",
       "324    80.187529\n",
       "325    76.462265\n",
       "326    79.036367\n",
       "327    75.207903\n",
       "Name: q1, Length: 328, dtype: float64"
      ]
     },
     "execution_count": 360,
     "metadata": {},
     "output_type": "execute_result"
    }
   ],
   "source": [
    "df['q1']"
   ]
  },
  {
   "cell_type": "code",
   "execution_count": 348,
   "metadata": {},
   "outputs": [],
   "source": [
    "dff = df[['jur_stn', 'year', 'q1']][-82 - 82: -82]"
   ]
  },
  {
   "cell_type": "code",
   "execution_count": 349,
   "metadata": {},
   "outputs": [],
   "source": [
    "dff['q1_p'] = y_pred1"
   ]
  },
  {
   "cell_type": "code",
   "execution_count": 344,
   "metadata": {},
   "outputs": [
    {
     "data": {
      "text/plain": [
       "164    77.5\n",
       "165    85.8\n",
       "166    81.2\n",
       "167    80.4\n",
       "168    76.5\n",
       "       ... \n",
       "241    79.1\n",
       "242    80.8\n",
       "243    75.0\n",
       "244    78.7\n",
       "245    76.6\n",
       "Name: q1, Length: 82, dtype: float64"
      ]
     },
     "execution_count": 344,
     "metadata": {},
     "output_type": "execute_result"
    }
   ],
   "source": [
    "ytest1"
   ]
  },
  {
   "cell_type": "code",
   "execution_count": 350,
   "metadata": {},
   "outputs": [
    {
     "data": {
      "text/html": [
       "<div>\n",
       "<style scoped>\n",
       "    .dataframe tbody tr th:only-of-type {\n",
       "        vertical-align: middle;\n",
       "    }\n",
       "\n",
       "    .dataframe tbody tr th {\n",
       "        vertical-align: top;\n",
       "    }\n",
       "\n",
       "    .dataframe thead th {\n",
       "        text-align: right;\n",
       "    }\n",
       "</style>\n",
       "<table border=\"1\" class=\"dataframe\">\n",
       "  <thead>\n",
       "    <tr style=\"text-align: right;\">\n",
       "      <th></th>\n",
       "      <th>jur_stn</th>\n",
       "      <th>year</th>\n",
       "      <th>q1</th>\n",
       "      <th>q1_p</th>\n",
       "    </tr>\n",
       "  </thead>\n",
       "  <tbody>\n",
       "    <tr>\n",
       "      <th>164</th>\n",
       "      <td>서울중부경찰서</td>\n",
       "      <td>2019(상반기)</td>\n",
       "      <td>77.5</td>\n",
       "      <td>78.847714</td>\n",
       "    </tr>\n",
       "    <tr>\n",
       "      <th>165</th>\n",
       "      <td>서울종로경찰서</td>\n",
       "      <td>2019(상반기)</td>\n",
       "      <td>85.8</td>\n",
       "      <td>80.284567</td>\n",
       "    </tr>\n",
       "    <tr>\n",
       "      <th>166</th>\n",
       "      <td>서울남대문경찰서</td>\n",
       "      <td>2019(상반기)</td>\n",
       "      <td>81.2</td>\n",
       "      <td>78.406198</td>\n",
       "    </tr>\n",
       "    <tr>\n",
       "      <th>167</th>\n",
       "      <td>서울서대문경찰서</td>\n",
       "      <td>2019(상반기)</td>\n",
       "      <td>80.4</td>\n",
       "      <td>77.960041</td>\n",
       "    </tr>\n",
       "    <tr>\n",
       "      <th>168</th>\n",
       "      <td>서울혜화경찰서</td>\n",
       "      <td>2019(상반기)</td>\n",
       "      <td>76.5</td>\n",
       "      <td>79.204578</td>\n",
       "    </tr>\n",
       "    <tr>\n",
       "      <th>...</th>\n",
       "      <td>...</td>\n",
       "      <td>...</td>\n",
       "      <td>...</td>\n",
       "      <td>...</td>\n",
       "    </tr>\n",
       "    <tr>\n",
       "      <th>241</th>\n",
       "      <td>창원서부경찰서</td>\n",
       "      <td>2019(하반기)</td>\n",
       "      <td>79.1</td>\n",
       "      <td>74.834374</td>\n",
       "    </tr>\n",
       "    <tr>\n",
       "      <th>242</th>\n",
       "      <td>마산중부경찰서</td>\n",
       "      <td>2019(하반기)</td>\n",
       "      <td>80.8</td>\n",
       "      <td>79.181107</td>\n",
       "    </tr>\n",
       "    <tr>\n",
       "      <th>243</th>\n",
       "      <td>마산동부경찰서</td>\n",
       "      <td>2019(하반기)</td>\n",
       "      <td>75.0</td>\n",
       "      <td>75.359740</td>\n",
       "    </tr>\n",
       "    <tr>\n",
       "      <th>244</th>\n",
       "      <td>진주경찰서</td>\n",
       "      <td>2019(하반기)</td>\n",
       "      <td>78.7</td>\n",
       "      <td>78.613104</td>\n",
       "    </tr>\n",
       "    <tr>\n",
       "      <th>245</th>\n",
       "      <td>진해경찰서</td>\n",
       "      <td>2019(하반기)</td>\n",
       "      <td>76.6</td>\n",
       "      <td>74.596271</td>\n",
       "    </tr>\n",
       "  </tbody>\n",
       "</table>\n",
       "<p>82 rows × 4 columns</p>\n",
       "</div>"
      ],
      "text/plain": [
       "      jur_stn       year    q1       q1_p\n",
       "164   서울중부경찰서  2019(상반기)  77.5  78.847714\n",
       "165   서울종로경찰서  2019(상반기)  85.8  80.284567\n",
       "166  서울남대문경찰서  2019(상반기)  81.2  78.406198\n",
       "167  서울서대문경찰서  2019(상반기)  80.4  77.960041\n",
       "168   서울혜화경찰서  2019(상반기)  76.5  79.204578\n",
       "..        ...        ...   ...        ...\n",
       "241   창원서부경찰서  2019(하반기)  79.1  74.834374\n",
       "242   마산중부경찰서  2019(하반기)  80.8  79.181107\n",
       "243   마산동부경찰서  2019(하반기)  75.0  75.359740\n",
       "244     진주경찰서  2019(하반기)  78.7  78.613104\n",
       "245     진해경찰서  2019(하반기)  76.6  74.596271\n",
       "\n",
       "[82 rows x 4 columns]"
      ]
     },
     "execution_count": 350,
     "metadata": {},
     "output_type": "execute_result"
    }
   ],
   "source": [
    "dff"
   ]
  },
  {
   "cell_type": "code",
   "execution_count": 351,
   "metadata": {},
   "outputs": [],
   "source": [
    "dff.to_csv('q1_2019예측1.csv', index = False)"
   ]
  },
  {
   "cell_type": "markdown",
   "metadata": {},
   "source": [
    "#### q2 강도살인"
   ]
  },
  {
   "cell_type": "code",
   "execution_count": 288,
   "metadata": {
    "ExecuteTime": {
     "end_time": "2021-12-03T05:35:17.054962Z",
     "start_time": "2021-12-03T05:34:20.378266Z"
    }
   },
   "outputs": [],
   "source": [
    "# 그리드 서치 후 최고 성능의 모델을 ela2에 저장\n",
    "\n",
    "grid_search.fit(xtrain2, ytrain2)\n",
    "ridge2 = grid_search.best_estimator_"
   ]
  },
  {
   "cell_type": "code",
   "execution_count": 82,
   "metadata": {
    "ExecuteTime": {
     "end_time": "2021-12-03T05:37:20.560331Z",
     "start_time": "2021-12-03T05:37:20.545082Z"
    }
   },
   "outputs": [
    {
     "data": {
      "text/plain": [
       "1.976475809550926"
      ]
     },
     "execution_count": 82,
     "metadata": {},
     "output_type": "execute_result"
    }
   ],
   "source": [
    "# MAE 출력\n",
    "\n",
    "y_pred2 = ridge2.predict(xtest2)\n",
    "mean_absolute_error(ytest2, y_pred2)"
   ]
  },
  {
   "cell_type": "code",
   "execution_count": 80,
   "metadata": {},
   "outputs": [
    {
     "data": {
      "text/plain": [
       "Ridge(alpha=0.01)"
      ]
     },
     "execution_count": 80,
     "metadata": {},
     "output_type": "execute_result"
    }
   ],
   "source": [
    "ridge2 = Ridge(alpha = 0.01)\n",
    "ridge2.fit(xtrain2, ytrain2)"
   ]
  },
  {
   "cell_type": "code",
   "execution_count": 81,
   "metadata": {},
   "outputs": [
    {
     "name": "stdout",
     "output_type": "stream",
     "text": [
      "alpha = 0.01\n",
      "[-0.68482898  0.1996281   1.13806041 -0.87037425  0.91943902  0.71751499\n",
      "  7.00120584  1.25245452  0.31268876 -0.93527381 -2.69466897  1.41406293\n",
      " -0.36508443 -4.42895455 -5.77997129 -2.11804879 -0.48456018  5.51664586\n",
      " -0.51850331]\n",
      "가장 강한 양의 상관관계:  mur_rob_cnt \n",
      "가장 강한 음의 상관관계:  single_o60\n"
     ]
    }
   ],
   "source": [
    "# 결과\n",
    "\n",
    "print('alpha =', ridge2.alpha)\n",
    "print(ridge2.coef_) # Ridge 회귀분석으로 나온 weghit값\n",
    "print('가장 강한 양의 상관관계: ',a_2.columns[ridge2.coef_.argmax()], '\\n가장 강한 음의 상관관계: ', a_2.columns[ridge2.coef_.argmin()])"
   ]
  },
  {
   "cell_type": "code",
   "execution_count": 291,
   "metadata": {},
   "outputs": [
    {
     "data": {
      "text/plain": [
       "Index(['vio_cnt', 'mur_rob_cnt', '인구수대비경찰수', 'bell', 'cctv', 'child',\n",
       "       'popu_o60', 'for_2030', 'single_2030', 'sx_rate_합계', 'for_o60',\n",
       "       'for_sx_rate_4050', 'single_4050', 'single_o60', 'single_f_u20',\n",
       "       'popu_2030', 'sx_rate_4050', 'single_u20', '인구대비고학력자'],\n",
       "      dtype='object')"
      ]
     },
     "execution_count": 291,
     "metadata": {},
     "output_type": "execute_result"
    }
   ],
   "source": [
    "a_2.columns"
   ]
  },
  {
   "cell_type": "code",
   "execution_count": 292,
   "metadata": {},
   "outputs": [
    {
     "data": {
      "text/html": [
       "<div>\n",
       "<style scoped>\n",
       "    .dataframe tbody tr th:only-of-type {\n",
       "        vertical-align: middle;\n",
       "    }\n",
       "\n",
       "    .dataframe tbody tr th {\n",
       "        vertical-align: top;\n",
       "    }\n",
       "\n",
       "    .dataframe thead th {\n",
       "        text-align: right;\n",
       "    }\n",
       "</style>\n",
       "<table border=\"1\" class=\"dataframe\">\n",
       "  <thead>\n",
       "    <tr style=\"text-align: right;\">\n",
       "      <th></th>\n",
       "      <th>column</th>\n",
       "      <th>coef</th>\n",
       "    </tr>\n",
       "  </thead>\n",
       "  <tbody>\n",
       "    <tr>\n",
       "      <th>0</th>\n",
       "      <td>vio_cnt</td>\n",
       "      <td>-0.682163</td>\n",
       "    </tr>\n",
       "    <tr>\n",
       "      <th>1</th>\n",
       "      <td>mur_rob_cnt</td>\n",
       "      <td>0.200248</td>\n",
       "    </tr>\n",
       "    <tr>\n",
       "      <th>2</th>\n",
       "      <td>인구수대비경찰수</td>\n",
       "      <td>1.141474</td>\n",
       "    </tr>\n",
       "    <tr>\n",
       "      <th>3</th>\n",
       "      <td>bell</td>\n",
       "      <td>-0.873278</td>\n",
       "    </tr>\n",
       "    <tr>\n",
       "      <th>4</th>\n",
       "      <td>cctv</td>\n",
       "      <td>0.924803</td>\n",
       "    </tr>\n",
       "    <tr>\n",
       "      <th>5</th>\n",
       "      <td>child</td>\n",
       "      <td>0.720208</td>\n",
       "    </tr>\n",
       "    <tr>\n",
       "      <th>6</th>\n",
       "      <td>popu_o60</td>\n",
       "      <td>7.062740</td>\n",
       "    </tr>\n",
       "    <tr>\n",
       "      <th>7</th>\n",
       "      <td>for_2030</td>\n",
       "      <td>1.275980</td>\n",
       "    </tr>\n",
       "    <tr>\n",
       "      <th>8</th>\n",
       "      <td>single_2030</td>\n",
       "      <td>0.316365</td>\n",
       "    </tr>\n",
       "    <tr>\n",
       "      <th>9</th>\n",
       "      <td>sx_rate_합계</td>\n",
       "      <td>-0.931692</td>\n",
       "    </tr>\n",
       "    <tr>\n",
       "      <th>10</th>\n",
       "      <td>for_o60</td>\n",
       "      <td>-2.721486</td>\n",
       "    </tr>\n",
       "    <tr>\n",
       "      <th>11</th>\n",
       "      <td>for_sx_rate_4050</td>\n",
       "      <td>1.411000</td>\n",
       "    </tr>\n",
       "    <tr>\n",
       "      <th>12</th>\n",
       "      <td>single_4050</td>\n",
       "      <td>-0.368926</td>\n",
       "    </tr>\n",
       "    <tr>\n",
       "      <th>13</th>\n",
       "      <td>single_o60</td>\n",
       "      <td>-4.457960</td>\n",
       "    </tr>\n",
       "    <tr>\n",
       "      <th>14</th>\n",
       "      <td>single_f_u20</td>\n",
       "      <td>-5.836611</td>\n",
       "    </tr>\n",
       "    <tr>\n",
       "      <th>15</th>\n",
       "      <td>popu_2030</td>\n",
       "      <td>-2.152982</td>\n",
       "    </tr>\n",
       "    <tr>\n",
       "      <th>16</th>\n",
       "      <td>sx_rate_4050</td>\n",
       "      <td>-0.479547</td>\n",
       "    </tr>\n",
       "    <tr>\n",
       "      <th>17</th>\n",
       "      <td>single_u20</td>\n",
       "      <td>5.565472</td>\n",
       "    </tr>\n",
       "    <tr>\n",
       "      <th>18</th>\n",
       "      <td>인구대비고학력자</td>\n",
       "      <td>-0.519056</td>\n",
       "    </tr>\n",
       "  </tbody>\n",
       "</table>\n",
       "</div>"
      ],
      "text/plain": [
       "              column      coef\n",
       "0            vio_cnt -0.682163\n",
       "1        mur_rob_cnt  0.200248\n",
       "2           인구수대비경찰수  1.141474\n",
       "3               bell -0.873278\n",
       "4               cctv  0.924803\n",
       "5              child  0.720208\n",
       "6           popu_o60  7.062740\n",
       "7           for_2030  1.275980\n",
       "8        single_2030  0.316365\n",
       "9         sx_rate_합계 -0.931692\n",
       "10           for_o60 -2.721486\n",
       "11  for_sx_rate_4050  1.411000\n",
       "12       single_4050 -0.368926\n",
       "13        single_o60 -4.457960\n",
       "14      single_f_u20 -5.836611\n",
       "15         popu_2030 -2.152982\n",
       "16      sx_rate_4050 -0.479547\n",
       "17        single_u20  5.565472\n",
       "18          인구대비고학력자 -0.519056"
      ]
     },
     "execution_count": 292,
     "metadata": {},
     "output_type": "execute_result"
    }
   ],
   "source": [
    "pd.DataFrame({'column' : a_2.columns, 'coef': ridge2.coef_})"
   ]
  },
  {
   "cell_type": "code",
   "execution_count": 129,
   "metadata": {},
   "outputs": [
    {
     "data": {
      "text/html": [
       "<div>\n",
       "<style scoped>\n",
       "    .dataframe tbody tr th:only-of-type {\n",
       "        vertical-align: middle;\n",
       "    }\n",
       "\n",
       "    .dataframe tbody tr th {\n",
       "        vertical-align: top;\n",
       "    }\n",
       "\n",
       "    .dataframe thead th {\n",
       "        text-align: right;\n",
       "    }\n",
       "</style>\n",
       "<table border=\"1\" class=\"dataframe\">\n",
       "  <thead>\n",
       "    <tr style=\"text-align: right;\">\n",
       "      <th></th>\n",
       "      <th>인구수대비경찰수</th>\n",
       "      <th>총범죄발생대비검거수</th>\n",
       "      <th>ofn_unknown</th>\n",
       "      <th>mur_rob_cnt</th>\n",
       "      <th>인구수대비검거수</th>\n",
       "      <th>ofn_m</th>\n",
       "      <th>vic_10</th>\n",
       "      <th>case_car_car</th>\n",
       "      <th>case_car_man</th>\n",
       "      <th>sx_rate_4050</th>\n",
       "      <th>ofn_10</th>\n",
       "      <th>교통사고범죄발생대비검거수</th>\n",
       "      <th>ofn_20</th>\n",
       "      <th>for_sx_rate_u20</th>\n",
       "    </tr>\n",
       "  </thead>\n",
       "  <tbody>\n",
       "    <tr>\n",
       "      <th>0</th>\n",
       "      <td>0.803778</td>\n",
       "      <td>79.206107</td>\n",
       "      <td>0.029630</td>\n",
       "      <td>0</td>\n",
       "      <td>4.056421</td>\n",
       "      <td>0.814815</td>\n",
       "      <td>0.030418</td>\n",
       "      <td>0.703704</td>\n",
       "      <td>0.274074</td>\n",
       "      <td>99.8</td>\n",
       "      <td>0.015209</td>\n",
       "      <td>96.829971</td>\n",
       "      <td>0.152091</td>\n",
       "      <td>92.5</td>\n",
       "    </tr>\n",
       "    <tr>\n",
       "      <th>1</th>\n",
       "      <td>0.815122</td>\n",
       "      <td>73.816060</td>\n",
       "      <td>0.019608</td>\n",
       "      <td>0</td>\n",
       "      <td>2.735301</td>\n",
       "      <td>0.827451</td>\n",
       "      <td>0.012146</td>\n",
       "      <td>0.682353</td>\n",
       "      <td>0.282353</td>\n",
       "      <td>97.0</td>\n",
       "      <td>0.012000</td>\n",
       "      <td>110.891089</td>\n",
       "      <td>0.096000</td>\n",
       "      <td>67.1</td>\n",
       "    </tr>\n",
       "    <tr>\n",
       "      <th>2</th>\n",
       "      <td>0.772503</td>\n",
       "      <td>69.114126</td>\n",
       "      <td>0.019608</td>\n",
       "      <td>0</td>\n",
       "      <td>2.708451</td>\n",
       "      <td>0.835294</td>\n",
       "      <td>0.012346</td>\n",
       "      <td>0.713725</td>\n",
       "      <td>0.247059</td>\n",
       "      <td>99.8</td>\n",
       "      <td>0.004000</td>\n",
       "      <td>97.580645</td>\n",
       "      <td>0.100000</td>\n",
       "      <td>92.5</td>\n",
       "    </tr>\n",
       "    <tr>\n",
       "      <th>3</th>\n",
       "      <td>0.205076</td>\n",
       "      <td>81.954535</td>\n",
       "      <td>0.018868</td>\n",
       "      <td>0</td>\n",
       "      <td>1.088238</td>\n",
       "      <td>0.817610</td>\n",
       "      <td>0.037363</td>\n",
       "      <td>0.691176</td>\n",
       "      <td>0.266807</td>\n",
       "      <td>95.6</td>\n",
       "      <td>0.038462</td>\n",
       "      <td>106.567164</td>\n",
       "      <td>0.128205</td>\n",
       "      <td>60.2</td>\n",
       "    </tr>\n",
       "    <tr>\n",
       "      <th>4</th>\n",
       "      <td>0.604030</td>\n",
       "      <td>80.970670</td>\n",
       "      <td>0.034884</td>\n",
       "      <td>0</td>\n",
       "      <td>2.948937</td>\n",
       "      <td>0.837209</td>\n",
       "      <td>0.012146</td>\n",
       "      <td>0.694981</td>\n",
       "      <td>0.262548</td>\n",
       "      <td>97.0</td>\n",
       "      <td>0.007968</td>\n",
       "      <td>104.612546</td>\n",
       "      <td>0.143426</td>\n",
       "      <td>67.1</td>\n",
       "    </tr>\n",
       "    <tr>\n",
       "      <th>...</th>\n",
       "      <td>...</td>\n",
       "      <td>...</td>\n",
       "      <td>...</td>\n",
       "      <td>...</td>\n",
       "      <td>...</td>\n",
       "      <td>...</td>\n",
       "      <td>...</td>\n",
       "      <td>...</td>\n",
       "      <td>...</td>\n",
       "      <td>...</td>\n",
       "      <td>...</td>\n",
       "      <td>...</td>\n",
       "      <td>...</td>\n",
       "      <td>...</td>\n",
       "    </tr>\n",
       "    <tr>\n",
       "      <th>241</th>\n",
       "      <td>0.125000</td>\n",
       "      <td>132.026144</td>\n",
       "      <td>0.023669</td>\n",
       "      <td>2</td>\n",
       "      <td>1.104683</td>\n",
       "      <td>0.736686</td>\n",
       "      <td>0.027950</td>\n",
       "      <td>0.733728</td>\n",
       "      <td>0.218935</td>\n",
       "      <td>99.2</td>\n",
       "      <td>0.015152</td>\n",
       "      <td>103.271693</td>\n",
       "      <td>0.100000</td>\n",
       "      <td>99.0</td>\n",
       "    </tr>\n",
       "    <tr>\n",
       "      <th>242</th>\n",
       "      <td>0.162181</td>\n",
       "      <td>140.029218</td>\n",
       "      <td>0.009231</td>\n",
       "      <td>5</td>\n",
       "      <td>1.079520</td>\n",
       "      <td>0.741538</td>\n",
       "      <td>0.020339</td>\n",
       "      <td>0.649231</td>\n",
       "      <td>0.258462</td>\n",
       "      <td>102.3</td>\n",
       "      <td>0.021739</td>\n",
       "      <td>114.512923</td>\n",
       "      <td>0.108696</td>\n",
       "      <td>55.5</td>\n",
       "    </tr>\n",
       "    <tr>\n",
       "      <th>243</th>\n",
       "      <td>0.190703</td>\n",
       "      <td>132.447917</td>\n",
       "      <td>0.008230</td>\n",
       "      <td>8</td>\n",
       "      <td>1.321410</td>\n",
       "      <td>0.757202</td>\n",
       "      <td>0.055319</td>\n",
       "      <td>0.621399</td>\n",
       "      <td>0.345679</td>\n",
       "      <td>100.6</td>\n",
       "      <td>0.020747</td>\n",
       "      <td>110.838446</td>\n",
       "      <td>0.107884</td>\n",
       "      <td>90.8</td>\n",
       "    </tr>\n",
       "    <tr>\n",
       "      <th>244</th>\n",
       "      <td>0.147106</td>\n",
       "      <td>129.102921</td>\n",
       "      <td>0.014888</td>\n",
       "      <td>0</td>\n",
       "      <td>1.048378</td>\n",
       "      <td>0.739454</td>\n",
       "      <td>0.052632</td>\n",
       "      <td>0.588089</td>\n",
       "      <td>0.357320</td>\n",
       "      <td>99.3</td>\n",
       "      <td>0.035264</td>\n",
       "      <td>117.896175</td>\n",
       "      <td>0.143577</td>\n",
       "      <td>114.1</td>\n",
       "    </tr>\n",
       "    <tr>\n",
       "      <th>245</th>\n",
       "      <td>0.141970</td>\n",
       "      <td>134.711964</td>\n",
       "      <td>0.015873</td>\n",
       "      <td>0</td>\n",
       "      <td>0.955549</td>\n",
       "      <td>0.705215</td>\n",
       "      <td>0.040573</td>\n",
       "      <td>0.752834</td>\n",
       "      <td>0.201814</td>\n",
       "      <td>109.0</td>\n",
       "      <td>0.027650</td>\n",
       "      <td>119.181034</td>\n",
       "      <td>0.101382</td>\n",
       "      <td>116.3</td>\n",
       "    </tr>\n",
       "  </tbody>\n",
       "</table>\n",
       "<p>246 rows × 14 columns</p>\n",
       "</div>"
      ],
      "text/plain": [
       "     인구수대비경찰수  총범죄발생대비검거수  ofn_unknown  mur_rob_cnt  인구수대비검거수     ofn_m  \\\n",
       "0    0.803778   79.206107     0.029630            0  4.056421  0.814815   \n",
       "1    0.815122   73.816060     0.019608            0  2.735301  0.827451   \n",
       "2    0.772503   69.114126     0.019608            0  2.708451  0.835294   \n",
       "3    0.205076   81.954535     0.018868            0  1.088238  0.817610   \n",
       "4    0.604030   80.970670     0.034884            0  2.948937  0.837209   \n",
       "..        ...         ...          ...          ...       ...       ...   \n",
       "241  0.125000  132.026144     0.023669            2  1.104683  0.736686   \n",
       "242  0.162181  140.029218     0.009231            5  1.079520  0.741538   \n",
       "243  0.190703  132.447917     0.008230            8  1.321410  0.757202   \n",
       "244  0.147106  129.102921     0.014888            0  1.048378  0.739454   \n",
       "245  0.141970  134.711964     0.015873            0  0.955549  0.705215   \n",
       "\n",
       "       vic_10  case_car_car  case_car_man  sx_rate_4050    ofn_10  \\\n",
       "0    0.030418      0.703704      0.274074          99.8  0.015209   \n",
       "1    0.012146      0.682353      0.282353          97.0  0.012000   \n",
       "2    0.012346      0.713725      0.247059          99.8  0.004000   \n",
       "3    0.037363      0.691176      0.266807          95.6  0.038462   \n",
       "4    0.012146      0.694981      0.262548          97.0  0.007968   \n",
       "..        ...           ...           ...           ...       ...   \n",
       "241  0.027950      0.733728      0.218935          99.2  0.015152   \n",
       "242  0.020339      0.649231      0.258462         102.3  0.021739   \n",
       "243  0.055319      0.621399      0.345679         100.6  0.020747   \n",
       "244  0.052632      0.588089      0.357320          99.3  0.035264   \n",
       "245  0.040573      0.752834      0.201814         109.0  0.027650   \n",
       "\n",
       "     교통사고범죄발생대비검거수    ofn_20  for_sx_rate_u20  \n",
       "0        96.829971  0.152091             92.5  \n",
       "1       110.891089  0.096000             67.1  \n",
       "2        97.580645  0.100000             92.5  \n",
       "3       106.567164  0.128205             60.2  \n",
       "4       104.612546  0.143426             67.1  \n",
       "..             ...       ...              ...  \n",
       "241     103.271693  0.100000             99.0  \n",
       "242     114.512923  0.108696             55.5  \n",
       "243     110.838446  0.107884             90.8  \n",
       "244     117.896175  0.143577            114.1  \n",
       "245     119.181034  0.101382            116.3  \n",
       "\n",
       "[246 rows x 14 columns]"
      ]
     },
     "execution_count": 129,
     "metadata": {},
     "output_type": "execute_result"
    }
   ],
   "source": [
    "a_s2"
   ]
  },
  {
   "cell_type": "code",
   "execution_count": 168,
   "metadata": {},
   "outputs": [
    {
     "data": {
      "image/png": "[encoded data removed]",
      "text/plain": [
       "<Figure size 864x720 with 1 Axes>"
      ]
     },
     "metadata": {
      "needs_background": "light"
     },
     "output_type": "display_data"
    },
    {
     "name": "stdout",
     "output_type": "stream",
     "text": [
      "Index(['before_q2', 'before_q4', '인구수대비경찰수', 'cctv', 'bell', '외국인인구수대비검거수',\n",
      "       'sx_rate_2030', 'for_female_4050', 'for_4050', 'adult',\n",
      "       'for_female_o60', 'for_o60'],\n",
      "      dtype='object')\n"
     ]
    }
   ],
   "source": [
    "from sklearn.ensemble import RandomForestRegressor\n",
    "re2 = RandomForestRegressor(verbose=0, random_state=42, n_estimators=100, criterion = 'mae')\n",
    "rf2 = re2.fit(xtrain2, ytrain2)\n",
    "y_pred2 = rf2.predict(xtest2)\n",
    "mean_absolute_error(ytest2, y_pred2)\n",
    "\n",
    "ft_importance_values = rf2.feature_importances_\n",
    "# 정렬과 시각화를 쉽게 하기 위해 series 전환\n",
    "ft_series = pd.Series(ft_importance_values, index = a_s2.columns)\n",
    "ft_top20 = ft_series.sort_values(ascending=False)[:20]\n",
    "\n",
    "# 시각화\n",
    "plt.figure(figsize=(12,10))\n",
    "sns.barplot(x=ft_top20, y=ft_top20.index)\n",
    "plt.show()\n",
    "print(ft_top20.index)"
   ]
  },
  {
   "cell_type": "code",
   "execution_count": 136,
   "metadata": {},
   "outputs": [
    {
     "data": {
      "image/png": "[encoded data removed]",
      "text/plain": [
       "<Figure size 864x720 with 1 Axes>"
      ]
     },
     "metadata": {
      "needs_background": "light"
     },
     "output_type": "display_data"
    },
    {
     "name": "stdout",
     "output_type": "stream",
     "text": [
      "Index(['sx_rate_4050', 'ofn_m', 'ofn_20', 'ofn_10', '인구수대비경찰수', '인구수대비검거수',\n",
      "       '총범죄발생대비검거수', '교통사고범죄발생대비검거수', 'ofn_unknown', 'vic_10', 'case_car_car'],\n",
      "      dtype='object')\n"
     ]
    }
   ],
   "source": [
    "ft_series = pd.Series(ft_importance_values, index = a_s2.columns)\n",
    "ft_top20 = ft_series.sort_values(ascending=False)[:11]\n",
    "\n",
    "# 시각화\n",
    "plt.figure(figsize=(12,10))\n",
    "sns.barplot(x=ft_top20, y=ft_top20.index)\n",
    "plt.show()\n",
    "print(ft_top20.index)"
   ]
  },
  {
   "cell_type": "markdown",
   "metadata": {},
   "source": [
    "#### q3 교통안전"
   ]
  },
  {
   "cell_type": "code",
   "execution_count": 60,
   "metadata": {
    "ExecuteTime": {
     "end_time": "2021-12-03T05:38:28.764757Z",
     "start_time": "2021-12-03T05:37:34.506643Z"
    }
   },
   "outputs": [],
   "source": [
    "# 그리드 서치 후 최고 성능의 모델을 lasso3에 저장\n",
    "\n",
    "grid_search.fit(xtrain3, ytrain3)\n",
    "ridge3 = grid_search.best_estimator_"
   ]
  },
  {
   "cell_type": "code",
   "execution_count": 86,
   "metadata": {},
   "outputs": [
    {
     "data": {
      "text/plain": [
       "Index(['인구수대비경찰수', '총범죄발생대비검거수', 'ofn_unknown', 'mur_rob_cnt', '인구수대비검거수',\n",
       "       'ofn_m', 'vic_10', 'case_car_car', 'case_car_man', 'sx_rate_4050',\n",
       "       'ofn_10', '교통사고범죄발생대비검거수', 'ofn_20', 'for_sx_rate_u20'],\n",
       "      dtype='object')"
      ]
     },
     "execution_count": 86,
     "metadata": {},
     "output_type": "execute_result"
    }
   ],
   "source": [
    "a_3.columns"
   ]
  },
  {
   "cell_type": "code",
   "execution_count": null,
   "metadata": {},
   "outputs": [],
   "source": [
    "'인구수대비경찰수', '총범죄발생대비검거수', 'ofn_unknown', 'mur_rob_cnt', '인구수대비검거수', 'ofn_m', 'vic_10', 'case_car_car', 'case_car_man', 'sx_rate_4050', 'ofn_10', '교통사고범죄발생대비검거수', 'ofn_20', 'for_sx_rate_u20'"
   ]
  },
  {
   "cell_type": "code",
   "execution_count": 91,
   "metadata": {},
   "outputs": [
    {
     "data": {
      "text/plain": [
       "Ridge(alpha=0.03, max_iter=10)"
      ]
     },
     "execution_count": 91,
     "metadata": {},
     "output_type": "execute_result"
    }
   ],
   "source": [
    "ridge3 = Ridge(alpha = 0.03, max_iter = 10)\n",
    "ridge3.fit(xtrain3, ytrain3)"
   ]
  },
  {
   "cell_type": "code",
   "execution_count": 92,
   "metadata": {
    "ExecuteTime": {
     "end_time": "2021-12-03T05:38:29.215499Z",
     "start_time": "2021-12-03T05:38:29.202351Z"
    }
   },
   "outputs": [
    {
     "data": {
      "text/plain": [
       "1.858757015179334"
      ]
     },
     "execution_count": 92,
     "metadata": {},
     "output_type": "execute_result"
    }
   ],
   "source": [
    "# MAE 출력\n",
    "\n",
    "y_pred3 = ridge3.predict(xtest3)\n",
    "mean_absolute_error(ytest3, y_pred3)"
   ]
  },
  {
   "cell_type": "code",
   "execution_count": 93,
   "metadata": {
    "ExecuteTime": {
     "end_time": "2021-12-03T05:38:29.576144Z",
     "start_time": "2021-12-03T05:38:29.562721Z"
    }
   },
   "outputs": [
    {
     "name": "stdout",
     "output_type": "stream",
     "text": [
      "alpha = 0.03\n",
      "[ 6.66972855e+00  4.21326781e-02  1.06790993e+00  5.53896910e-02\n",
      " -5.88671086e-01 -7.19448527e+00  9.63443339e+00  3.23816111e+00\n",
      " -6.55321295e+00 -1.67639709e-01 -6.72141478e+00  5.70389467e-03\n",
      " -1.26634100e+01  3.52520212e-03]\n",
      "가장 강한 양의 상관관계:  vic_10 \n",
      "가장 강한 음의 상관관계:  ofn_20\n"
     ]
    }
   ],
   "source": [
    "# 결과\n",
    "\n",
    "print('alpha =', ridge3.alpha)\n",
    "print(ridge3.coef_) # Ridge 회귀분석으로 나온 weghit값\n",
    "print('가장 강한 양의 상관관계: ',a_3.columns[ridge3.coef_.argmax()], '\\n가장 강한 음의 상관관계: ', a_3.columns[ridge3.coef_.argmin()])"
   ]
  },
  {
   "cell_type": "code",
   "execution_count": 177,
   "metadata": {},
   "outputs": [
    {
     "data": {
      "text/plain": [
       "-7.194485273622867"
      ]
     },
     "execution_count": 177,
     "metadata": {},
     "output_type": "execute_result"
    }
   ],
   "source": [
    "ft_series[]"
   ]
  },
  {
   "cell_type": "code",
   "execution_count": 178,
   "metadata": {},
   "outputs": [
    {
     "data": {
      "image/png": "[encoded data removed]",
      "text/plain": [
       "<Figure size 864x720 with 1 Axes>"
      ]
     },
     "metadata": {
      "needs_background": "light"
     },
     "output_type": "display_data"
    }
   ],
   "source": [
    "ft_series = pd.Series(ridge3.coef_, index =  a_3.columns)\n",
    "ft_top20 = ft_series.sort_values(ascending=False)[:]\n",
    "# 시각화\n",
    "plt.figure(figsize=(12, 10))\n",
    "sns.barplot(x=ft_top20, y=ft_top20.index)\n",
    "plt.show()"
   ]
  },
  {
   "cell_type": "code",
   "execution_count": 167,
   "metadata": {},
   "outputs": [
    {
     "data": {
      "image/png": "[encoded data removed]",
      "text/plain": [
       "<Figure size 864x720 with 1 Axes>"
      ]
     },
     "metadata": {
      "needs_background": "light"
     },
     "output_type": "display_data"
    }
   ],
   "source": [
    "ft_series = pd.Series(ridge3.coef_, index =  a_3.columns)\n",
    "ft_top20 = ft_series.abs().sort_values(ascending=False)[:11]\n",
    "# 시각화\n",
    "plt.figure(figsize=(12, 10))\n",
    "sns.barplot(x=ft_top20, y=ft_top20.index)\n",
    "plt.show()"
   ]
  },
  {
   "cell_type": "markdown",
   "metadata": {},
   "source": [
    "#### q4 법질서 준수도"
   ]
  },
  {
   "cell_type": "code",
   "execution_count": 583,
   "metadata": {
    "ExecuteTime": {
     "end_time": "2021-12-03T05:39:20.608090Z",
     "start_time": "2021-12-03T05:38:30.253877Z"
    }
   },
   "outputs": [],
   "source": [
    "# 그리드 서치 후 최고 성능의 모델을 lasso4에 저장\n",
    "\n",
    "grid_search.fit(xtrain4, ytrain4)\n",
    "ridge4 = grid_search.best_estimator_"
   ]
  },
  {
   "cell_type": "code",
   "execution_count": 156,
   "metadata": {},
   "outputs": [
    {
     "data": {
      "text/plain": [
       "Ridge(alpha=0.1, max_iter=10)"
      ]
     },
     "execution_count": 156,
     "metadata": {},
     "output_type": "execute_result"
    }
   ],
   "source": [
    "ridge4 = Ridge(alpha = 0.1, max_iter = 10)\n",
    "ridge4.fit(xtrain4, ytrain4)"
   ]
  },
  {
   "cell_type": "markdown",
   "metadata": {},
   "source": [
    "ridge4 = Ridge(alpha = 50)\n",
    "ridge4.fit(xtrain4, ytrain4)"
   ]
  },
  {
   "cell_type": "code",
   "execution_count": 157,
   "metadata": {
    "ExecuteTime": {
     "end_time": "2021-12-03T05:39:21.028158Z",
     "start_time": "2021-12-03T05:39:21.014490Z"
    }
   },
   "outputs": [
    {
     "data": {
      "text/plain": [
       "1.9035506567965288"
      ]
     },
     "execution_count": 157,
     "metadata": {},
     "output_type": "execute_result"
    }
   ],
   "source": [
    "# MAE 출력\n",
    "\n",
    "y_pred4 = ridge4.predict(xtest4)\n",
    "mean_absolute_error(ytest4, y_pred4)"
   ]
  },
  {
   "cell_type": "code",
   "execution_count": 158,
   "metadata": {
    "ExecuteTime": {
     "end_time": "2021-12-03T05:39:21.418379Z",
     "start_time": "2021-12-03T05:39:21.404288Z"
    }
   },
   "outputs": [
    {
     "name": "stdout",
     "output_type": "stream",
     "text": [
      "alpha = 0.1\n",
      "[ 1.51717878 -1.21465109 -1.03889175  0.69657801  2.04077652 -1.9351393\n",
      " -0.97261269 -3.59505025  0.49599853 -0.12122287 -0.13010795  0.85604107\n",
      " -0.37873015 -0.27643048  0.44059943  0.41026262]\n",
      "가장 강한 양의 상관관계:  car_cnt \n",
      "가장 강한 음의 상관관계:  popu_female_2030\n"
     ]
    }
   ],
   "source": [
    "# 결과\n",
    "\n",
    "print('alpha =', ridge4.alpha)\n",
    "print(ridge4.coef_) # Ridge 회귀분석으로 나온 weghit값\n",
    "print('가장 강한 양의 상관관계: ',a_4.columns[ridge4.coef_.argmax()], '\\n가장 강한 음의 상관관계: ', a_4.columns[ridge4.coef_.argmin()])"
   ]
  },
  {
   "cell_type": "code",
   "execution_count": 159,
   "metadata": {},
   "outputs": [
    {
     "data": {
      "text/plain": [
       "Index(['before_q4', 'ofn_m', 'sx_rate_합계', 'before_q2', 'car_cnt', '인구수대비검거수',\n",
       "       'sx_rate_u20', 'popu_female_2030', 'sx_rate_o60', 'bell',\n",
       "       'for_female_합계', 'single_f_합계', 'before_q5', 'ofn_20', 'vio_cnt',\n",
       "       'case_car_car'],\n",
       "      dtype='object')"
      ]
     },
     "execution_count": 159,
     "metadata": {},
     "output_type": "execute_result"
    }
   ],
   "source": [
    "a_4.columns"
   ]
  },
  {
   "cell_type": "code",
   "execution_count": 160,
   "metadata": {},
   "outputs": [
    {
     "data": {
      "image/png": "[encoded data removed]",
      "text/plain": [
       "<Figure size 864x720 with 1 Axes>"
      ]
     },
     "metadata": {
      "needs_background": "light"
     },
     "output_type": "display_data"
    }
   ],
   "source": [
    "ft_series = pd.Series(ridge4.coef_, index =  a_4.columns)\n",
    "ft_top20 = ft_series.sort_values(ascending=False)[:]\n",
    "# 시각화\n",
    "plt.figure(figsize=(12,10))\n",
    "sns.barplot(x=ft_top20, y=ft_top20.index)\n",
    "plt.show()"
   ]
  },
  {
   "cell_type": "code",
   "execution_count": 150,
   "metadata": {},
   "outputs": [
    {
     "data": {
      "image/png": "[encoded data removed]",
      "text/plain": [
       "<Figure size 864x720 with 1 Axes>"
      ]
     },
     "metadata": {
      "needs_background": "light"
     },
     "output_type": "display_data"
    }
   ],
   "source": [
    "ft_series = pd.Series(ridge4.coef_, index =  a_4.columns)\n",
    "ft_top20 = ft_series.abs().sort_values(ascending=False)[:11]\n",
    "# 시각화\n",
    "plt.figure(figsize=(12,10))\n",
    "sns.barplot(x=ft_top20, y=ft_top20.index)\n",
    "plt.show()"
   ]
  },
  {
   "cell_type": "markdown",
   "metadata": {},
   "source": [
    "#### q5 전반적 안전도"
   ]
  },
  {
   "cell_type": "code",
   "execution_count": 350,
   "metadata": {
    "ExecuteTime": {
     "end_time": "2021-12-03T05:40:16.161291Z",
     "start_time": "2021-12-03T05:39:21.779382Z"
    }
   },
   "outputs": [],
   "source": [
    "# 그리드 서치 후 최고 성능의 모델을 lasso4에 저장\n",
    "\n",
    "grid_search.fit(xtrain5, ytrain5)\n",
    "ridge5 = grid_search.best_estimator_"
   ]
  },
  {
   "cell_type": "code",
   "execution_count": 105,
   "metadata": {},
   "outputs": [
    {
     "data": {
      "text/plain": [
       "Ridge(alpha=0.03)"
      ]
     },
     "execution_count": 105,
     "metadata": {},
     "output_type": "execute_result"
    }
   ],
   "source": [
    "ridge5 = Ridge(alpha = 0.03)\n",
    "ridge5.fit(xtrain5, ytrain5)"
   ]
  },
  {
   "cell_type": "code",
   "execution_count": 106,
   "metadata": {
    "ExecuteTime": {
     "end_time": "2021-12-03T05:40:16.568173Z",
     "start_time": "2021-12-03T05:40:16.554674Z"
    }
   },
   "outputs": [
    {
     "data": {
      "text/plain": [
       "1.7392993327711976"
      ]
     },
     "execution_count": 106,
     "metadata": {},
     "output_type": "execute_result"
    }
   ],
   "source": [
    "# MAE 출력\n",
    "\n",
    "y_pred5 = ridge5.predict(xtest5)\n",
    "mean_absolute_error(ytest5, y_pred5)"
   ]
  },
  {
   "cell_type": "code",
   "execution_count": 107,
   "metadata": {
    "ExecuteTime": {
     "end_time": "2021-12-03T05:40:16.913685Z",
     "start_time": "2021-12-03T05:40:16.899090Z"
    }
   },
   "outputs": [
    {
     "name": "stdout",
     "output_type": "stream",
     "text": [
      "alpha = 0.03\n",
      "[-0.82010471 -0.93206732 -1.68192287 -3.77912028  4.11827983  1.26438474\n",
      "  0.61773211 -1.45849571 -2.21493551 -0.18815898  0.11542079  3.82755084\n",
      " -0.17027883  0.86069408  0.30072672 -0.09665673 -0.68975667  4.24252427\n",
      "  0.21321456  0.35674842 -4.78091035 -0.20742305 -0.33871859 -3.60232265\n",
      "  2.343039   -0.47446629  0.92183543  0.19575377  0.24653021 -0.30270658\n",
      " -0.46849617 -2.27214272 -0.19760119 -0.09645606]\n",
      "가장 강한 양의 상관관계:  single_o60 \n",
      "가장 강한 음의 상관관계:  single_f_합계\n"
     ]
    }
   ],
   "source": [
    "# 결과\n",
    "\n",
    "print('alpha =', ridge5.alpha)\n",
    "print(ridge5.coef_) # Ridge 회귀분석으로 나온 weghit값\n",
    "print('가장 강한 양의 상관관계: ',a_5.columns[ridge5.coef_.argmax()], '\\n가장 강한 음의 상관관계: ', a_5.columns[ridge5.coef_.argmin()])"
   ]
  },
  {
   "cell_type": "code",
   "execution_count": 189,
   "metadata": {},
   "outputs": [
    {
     "data": {
      "image/png": "[encoded data removed]",
      "text/plain": [
       "<Figure size 864x720 with 1 Axes>"
      ]
     },
     "metadata": {
      "needs_background": "light"
     },
     "output_type": "display_data"
    },
    {
     "name": "stdout",
     "output_type": "stream",
     "text": [
      "Index(['single_o60', 'single_2030', 'single_u20', 'for_female_4050',\n",
      "       'sx_rate_합계', 'car_cnt', 'single_4050', 'for_female_합계', 'single_f_u20',\n",
      "       'sx_rate_2030', 'single_f_합계'],\n",
      "      dtype='object')\n"
     ]
    }
   ],
   "source": [
    "ft_series = pd.Series(ridge5.coef_, index =  a_5.columns)\n",
    "ft_top20 = a.sort_values(ascending=False)[:]\n",
    "# 시각화\n",
    "plt.figure(figsize=(12,10))\n",
    "sns.barplot(x=ft_top20, y=ft_top20.index)\n",
    "plt.show()\n",
    "print(ft_top20.index)"
   ]
  },
  {
   "cell_type": "code",
   "execution_count": 188,
   "metadata": {},
   "outputs": [],
   "source": [
    "a = ft_series[['single_o60', 'single_2030', 'single_u20', 'for_female_4050',\n",
    "       'sx_rate_합계', 'car_cnt','single_4050',\n",
    "       'for_female_합계', 'single_f_u20', 'sx_rate_2030', 'single_f_합계']]"
   ]
  },
  {
   "cell_type": "code",
   "execution_count": 187,
   "metadata": {},
   "outputs": [
    {
     "data": {
      "text/plain": [
       "Index(['for_o60', 'ofn_m', 'sx_rate_4050', 'sx_rate_2030', 'single_2030',\n",
       "       'sx_rate_합계', 'car_cnt', 'popu_female_2030', 'single_4050', 'before_q5',\n",
       "       'before_q2', 'single_u20', 'for_female_o60', 'sx_rate_o60',\n",
       "       'mur_rob_cnt', 'child', '인구대비고학력자', 'single_o60', 'before_q4',\n",
       "       'case_car_car', 'single_f_합계', 'bell', '인구수대비경찰수', 'single_f_u20',\n",
       "       'for_female_4050', '외국인인구수대비검거수', 'for_sx_rate_4050', '인구수대비검거수',\n",
       "       'adult', 'ofn_20', 'sx_rate_u20', 'for_female_합계', 'cctv', 'vio_cnt'],\n",
       "      dtype='object')"
      ]
     },
     "execution_count": 187,
     "metadata": {},
     "output_type": "execute_result"
    }
   ],
   "source": [
    "ft_series.index"
   ]
  },
  {
   "cell_type": "code",
   "execution_count": 139,
   "metadata": {},
   "outputs": [
    {
     "data": {
      "image/png": "[encoded data removed]",
      "text/plain": [
       "<Figure size 864x720 with 1 Axes>"
      ]
     },
     "metadata": {
      "needs_background": "light"
     },
     "output_type": "display_data"
    }
   ],
   "source": [
    "ft_series = pd.Series(ridge5.coef_, index =  a_5.columns)\n",
    "ft_top20 = ft_series.abs().sort_values(ascending=False)[:11]\n",
    "# 시각화\n",
    "plt.figure(figsize=(12,10))\n",
    "sns.barplot(x=ft_top20, y=ft_top20.index)\n",
    "plt.show()"
   ]
  },
  {
   "cell_type": "code",
   "execution_count": 649,
   "metadata": {},
   "outputs": [],
   "source": [
    "# Catboost 호출\n",
    "from catboost import CatBoostRegressor\n",
    "# 그리드 서치 패키지\n",
    "from sklearn.model_selection import GridSearchCV"
   ]
  },
  {
   "cell_type": "code",
   "execution_count": 650,
   "metadata": {},
   "outputs": [
    {
     "name": "stdout",
     "output_type": "stream",
     "text": [
      "Learning rate set to 0.200044\n",
      "0:\tlearn: 3.1847224\ttotal: 133ms\tremaining: 13.2s\n",
      "1:\tlearn: 2.9563770\ttotal: 135ms\tremaining: 6.62s\n",
      "2:\tlearn: 2.8155636\ttotal: 137ms\tremaining: 4.42s\n",
      "3:\tlearn: 2.6477873\ttotal: 139ms\tremaining: 3.32s\n",
      "4:\tlearn: 2.4917699\ttotal: 140ms\tremaining: 2.66s\n",
      "5:\tlearn: 2.3581271\ttotal: 142ms\tremaining: 2.23s\n",
      "6:\tlearn: 2.2652749\ttotal: 144ms\tremaining: 1.91s\n",
      "7:\tlearn: 2.1913242\ttotal: 146ms\tremaining: 1.67s\n",
      "8:\tlearn: 2.1396174\ttotal: 147ms\tremaining: 1.49s\n",
      "9:\tlearn: 2.0833141\ttotal: 149ms\tremaining: 1.34s\n",
      "10:\tlearn: 2.0336547\ttotal: 151ms\tremaining: 1.22s\n",
      "11:\tlearn: 1.9715280\ttotal: 152ms\tremaining: 1.12s\n",
      "12:\tlearn: 1.9172621\ttotal: 154ms\tremaining: 1.03s\n",
      "13:\tlearn: 1.8832247\ttotal: 156ms\tremaining: 956ms\n",
      "14:\tlearn: 1.8579146\ttotal: 158ms\tremaining: 893ms\n",
      "15:\tlearn: 1.8366276\ttotal: 159ms\tremaining: 832ms\n",
      "16:\tlearn: 1.7821652\ttotal: 160ms\tremaining: 782ms\n",
      "17:\tlearn: 1.7470984\ttotal: 162ms\tremaining: 738ms\n",
      "18:\tlearn: 1.7116201\ttotal: 164ms\tremaining: 698ms\n",
      "19:\tlearn: 1.6914243\ttotal: 165ms\tremaining: 661ms\n",
      "20:\tlearn: 1.6645708\ttotal: 168ms\tremaining: 631ms\n",
      "21:\tlearn: 1.6512150\ttotal: 170ms\tremaining: 603ms\n",
      "22:\tlearn: 1.6267290\ttotal: 172ms\tremaining: 576ms\n",
      "23:\tlearn: 1.6055961\ttotal: 174ms\tremaining: 551ms\n",
      "24:\tlearn: 1.5842181\ttotal: 176ms\tremaining: 527ms\n",
      "25:\tlearn: 1.5656874\ttotal: 177ms\tremaining: 505ms\n",
      "26:\tlearn: 1.5227439\ttotal: 179ms\tremaining: 484ms\n",
      "27:\tlearn: 1.5063340\ttotal: 181ms\tremaining: 464ms\n",
      "28:\tlearn: 1.4864169\ttotal: 182ms\tremaining: 446ms\n",
      "29:\tlearn: 1.4702177\ttotal: 184ms\tremaining: 430ms\n",
      "30:\tlearn: 1.4428637\ttotal: 186ms\tremaining: 414ms\n",
      "31:\tlearn: 1.4215141\ttotal: 188ms\tremaining: 399ms\n",
      "32:\tlearn: 1.4088821\ttotal: 190ms\tremaining: 385ms\n",
      "33:\tlearn: 1.3777674\ttotal: 191ms\tremaining: 371ms\n",
      "34:\tlearn: 1.3664587\ttotal: 193ms\tremaining: 358ms\n",
      "35:\tlearn: 1.3198471\ttotal: 195ms\tremaining: 346ms\n",
      "36:\tlearn: 1.3075456\ttotal: 198ms\tremaining: 337ms\n",
      "37:\tlearn: 1.2974192\ttotal: 200ms\tremaining: 326ms\n",
      "38:\tlearn: 1.2901832\ttotal: 202ms\tremaining: 315ms\n",
      "39:\tlearn: 1.2837678\ttotal: 203ms\tremaining: 305ms\n",
      "40:\tlearn: 1.2513109\ttotal: 205ms\tremaining: 295ms\n",
      "41:\tlearn: 1.2298814\ttotal: 207ms\tremaining: 285ms\n",
      "42:\tlearn: 1.1997165\ttotal: 208ms\tremaining: 276ms\n",
      "43:\tlearn: 1.1785562\ttotal: 210ms\tremaining: 267ms\n",
      "44:\tlearn: 1.1499185\ttotal: 212ms\tremaining: 259ms\n",
      "45:\tlearn: 1.1441214\ttotal: 213ms\tremaining: 250ms\n",
      "46:\tlearn: 1.1214187\ttotal: 215ms\tremaining: 243ms\n",
      "47:\tlearn: 1.1042562\ttotal: 217ms\tremaining: 235ms\n",
      "48:\tlearn: 1.0676488\ttotal: 219ms\tremaining: 227ms\n",
      "49:\tlearn: 1.0614228\ttotal: 220ms\tremaining: 220ms\n",
      "50:\tlearn: 1.0576335\ttotal: 222ms\tremaining: 214ms\n",
      "51:\tlearn: 1.0426935\ttotal: 224ms\tremaining: 207ms\n",
      "52:\tlearn: 1.0324364\ttotal: 226ms\tremaining: 200ms\n",
      "53:\tlearn: 1.0038730\ttotal: 227ms\tremaining: 194ms\n",
      "54:\tlearn: 0.9817412\ttotal: 229ms\tremaining: 187ms\n",
      "55:\tlearn: 0.9643007\ttotal: 231ms\tremaining: 181ms\n",
      "56:\tlearn: 0.9599988\ttotal: 232ms\tremaining: 175ms\n",
      "57:\tlearn: 0.9520872\ttotal: 235ms\tremaining: 170ms\n",
      "58:\tlearn: 0.9494711\ttotal: 235ms\tremaining: 163ms\n",
      "59:\tlearn: 0.9338450\ttotal: 237ms\tremaining: 158ms\n",
      "60:\tlearn: 0.9076505\ttotal: 238ms\tremaining: 152ms\n",
      "61:\tlearn: 0.9057715\ttotal: 240ms\tremaining: 147ms\n",
      "62:\tlearn: 0.9036771\ttotal: 241ms\tremaining: 142ms\n",
      "63:\tlearn: 0.8959102\ttotal: 243ms\tremaining: 137ms\n",
      "64:\tlearn: 0.8707579\ttotal: 244ms\tremaining: 131ms\n",
      "65:\tlearn: 0.8665518\ttotal: 246ms\tremaining: 127ms\n",
      "66:\tlearn: 0.8639495\ttotal: 248ms\tremaining: 122ms\n",
      "67:\tlearn: 0.8592168\ttotal: 249ms\tremaining: 117ms\n",
      "68:\tlearn: 0.8438983\ttotal: 251ms\tremaining: 113ms\n",
      "69:\tlearn: 0.8247116\ttotal: 252ms\tremaining: 108ms\n",
      "70:\tlearn: 0.8202451\ttotal: 254ms\tremaining: 104ms\n",
      "71:\tlearn: 0.8062383\ttotal: 255ms\tremaining: 99.3ms\n",
      "72:\tlearn: 0.8049314\ttotal: 257ms\tremaining: 95ms\n",
      "73:\tlearn: 0.7914723\ttotal: 259ms\tremaining: 90.9ms\n",
      "74:\tlearn: 0.7893358\ttotal: 260ms\tremaining: 86.7ms\n",
      "75:\tlearn: 0.7772815\ttotal: 262ms\tremaining: 82.7ms\n",
      "76:\tlearn: 0.7672413\ttotal: 263ms\tremaining: 78.7ms\n",
      "77:\tlearn: 0.7578006\ttotal: 265ms\tremaining: 74.7ms\n",
      "78:\tlearn: 0.7392414\ttotal: 266ms\tremaining: 70.8ms\n",
      "79:\tlearn: 0.7339433\ttotal: 268ms\tremaining: 67ms\n",
      "80:\tlearn: 0.7232365\ttotal: 269ms\tremaining: 63.2ms\n",
      "81:\tlearn: 0.7066485\ttotal: 271ms\tremaining: 59.5ms\n",
      "82:\tlearn: 0.6967572\ttotal: 273ms\tremaining: 55.8ms\n",
      "83:\tlearn: 0.6869220\ttotal: 274ms\tremaining: 52.2ms\n",
      "84:\tlearn: 0.6767580\ttotal: 276ms\tremaining: 48.6ms\n",
      "85:\tlearn: 0.6754953\ttotal: 277ms\tremaining: 45.1ms\n",
      "86:\tlearn: 0.6659142\ttotal: 279ms\tremaining: 41.6ms\n",
      "87:\tlearn: 0.6644933\ttotal: 280ms\tremaining: 38.2ms\n",
      "88:\tlearn: 0.6492379\ttotal: 282ms\tremaining: 34.8ms\n",
      "89:\tlearn: 0.6379443\ttotal: 284ms\tremaining: 31.5ms\n",
      "90:\tlearn: 0.6302722\ttotal: 285ms\tremaining: 28.2ms\n",
      "91:\tlearn: 0.6265877\ttotal: 287ms\tremaining: 24.9ms\n",
      "92:\tlearn: 0.6246694\ttotal: 288ms\tremaining: 21.7ms\n",
      "93:\tlearn: 0.6100379\ttotal: 290ms\tremaining: 18.5ms\n",
      "94:\tlearn: 0.5996298\ttotal: 291ms\tremaining: 15.3ms\n",
      "95:\tlearn: 0.5967513\ttotal: 293ms\tremaining: 12.2ms\n",
      "96:\tlearn: 0.5863937\ttotal: 295ms\tremaining: 9.11ms\n",
      "97:\tlearn: 0.5799281\ttotal: 296ms\tremaining: 6.04ms\n",
      "98:\tlearn: 0.5710777\ttotal: 298ms\tremaining: 3.01ms\n",
      "99:\tlearn: 0.5684761\ttotal: 299ms\tremaining: 0us\n"
     ]
    }
   ],
   "source": [
    "param_grid = {'n_estimators' : np.linspace(1, 100, 30)}\n",
    "grid_search = GridSearchCV(CatBoostRegressor(),param_grid=param_grid, cv = 5, n_jobs = -1, scoring ='neg_mean_absolute_error')\n",
    "grid_search.fit(xtrain1, ytrain1)\n",
    "cat_q1_full = grid_search.best_estimator_"
   ]
  },
  {
   "cell_type": "code",
   "execution_count": 654,
   "metadata": {},
   "outputs": [
    {
     "data": {
      "text/plain": [
       "2.4522485221137678"
      ]
     },
     "execution_count": 654,
     "metadata": {},
     "output_type": "execute_result"
    }
   ],
   "source": [
    "# MAE 출력\n",
    "mean_absolute_error(cat_q1_full.predict(xtest1),ytest1)"
   ]
  },
  {
   "cell_type": "code",
   "execution_count": null,
   "metadata": {},
   "outputs": [],
   "source": []
  }
 ],
 "metadata": {
  "kernelspec": {
   "display_name": "Python 3",
   "language": "python",
   "name": "python3"
  },
  "language_info": {
   "codemirror_mode": {
    "name": "ipython",
    "version": 3
   },
   "file_extension": ".py",
   "mimetype": "text/x-python",
   "name": "python",
   "nbconvert_exporter": "python",
   "pygments_lexer": "ipython3",
   "version": "3.8.3"
  },
  "toc": {
   "base_numbering": 1,
   "nav_menu": {},
   "number_sections": true,
   "sideBar": true,
   "skip_h1_title": false,
   "title_cell": "Table of Contents",
   "title_sidebar": "Contents",
   "toc_cell": false,
   "toc_position": {},
   "toc_section_display": true,
   "toc_window_display": false
  },
  "varInspector": {
   "cols": {
    "lenName": 16,
    "lenType": 16,
    "lenVar": 40
   },
   "kernels_config": {
    "python": {
     "delete_cmd_postfix": "",
     "delete_cmd_prefix": "del ",
     "library": "var_list.py",
     "varRefreshCmd": "print(var_dic_list())"
    },
    "r": {
     "delete_cmd_postfix": ") ",
     "delete_cmd_prefix": "rm(",
     "library": "var_list.r",
     "varRefreshCmd": "cat(var_dic_list()) "
    }
   },
   "types_to_exclude": [
    "module",
    "function",
    "builtin_function_or_method",
    "instance",
    "_Feature"
   ],
   "window_display": false
  }
 },
 "nbformat": 4,
 "nbformat_minor": 5
}
