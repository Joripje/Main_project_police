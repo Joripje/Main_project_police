{
 "cells": [
  {
   "cell_type": "markdown",
   "id": "26ffa6ff",
   "metadata": {},
   "source": [
    "### 경찰직원현황"
   ]
  },
  {
   "cell_type": "markdown",
   "id": "00e5c5a5",
   "metadata": {},
   "source": [
    "```\n",
    "columns 설명\n",
    "\n",
    "- year : 연도\n",
    "- jur_stn : 경찰서\n",
    "- pol_num : 경찰서별 경찰관 수\n",
    "```"
   ]
  },
  {
   "cell_type": "code",
   "execution_count": 2,
   "id": "150886a6",
   "metadata": {
    "ExecuteTime": {
     "end_time": "2021-11-30T00:44:35.673955Z",
     "start_time": "2021-11-30T00:44:31.829194Z"
    }
   },
   "outputs": [],
   "source": [
    "import numpy as np\n",
    "import pandas as pd\n",
    "import os\n",
    "import re\n",
    "import matplotlib.pyplot as plt"
   ]
  },
  {
   "cell_type": "code",
   "execution_count": 3,
   "id": "d4aa2930",
   "metadata": {
    "ExecuteTime": {
     "end_time": "2021-11-30T00:44:35.703839Z",
     "start_time": "2021-11-30T00:44:35.692869Z"
    }
   },
   "outputs": [
    {
     "data": {
      "text/plain": [
       "'C:\\\\Users\\\\SAMSUNG\\\\Desktop\\\\SSAC\\\\머신러닝\\\\메인프로젝트'"
      ]
     },
     "execution_count": 3,
     "metadata": {},
     "output_type": "execute_result"
    }
   ],
   "source": [
    "os.getcwd()"
   ]
  },
  {
   "cell_type": "code",
   "execution_count": 4,
   "id": "2d99c742",
   "metadata": {
    "ExecuteTime": {
     "end_time": "2021-11-30T00:44:37.385937Z",
     "start_time": "2021-11-30T00:44:37.326774Z"
    }
   },
   "outputs": [
    {
     "data": {
      "text/html": [
       "<div>\n",
       "<style scoped>\n",
       "    .dataframe tbody tr th:only-of-type {\n",
       "        vertical-align: middle;\n",
       "    }\n",
       "\n",
       "    .dataframe tbody tr th {\n",
       "        vertical-align: top;\n",
       "    }\n",
       "\n",
       "    .dataframe thead th {\n",
       "        text-align: right;\n",
       "    }\n",
       "</style>\n",
       "<table border=\"1\" class=\"dataframe\">\n",
       "  <thead>\n",
       "    <tr style=\"text-align: right;\">\n",
       "      <th></th>\n",
       "      <th>년도</th>\n",
       "      <th>지방청</th>\n",
       "      <th>경찰서</th>\n",
       "      <th>경찰관</th>\n",
       "    </tr>\n",
       "  </thead>\n",
       "  <tbody>\n",
       "    <tr>\n",
       "      <th>0</th>\n",
       "      <td>2016년</td>\n",
       "      <td>서울</td>\n",
       "      <td>서울중부</td>\n",
       "      <td>511</td>\n",
       "    </tr>\n",
       "    <tr>\n",
       "      <th>1</th>\n",
       "      <td>2016년</td>\n",
       "      <td>서울</td>\n",
       "      <td>서울종로</td>\n",
       "      <td>639</td>\n",
       "    </tr>\n",
       "    <tr>\n",
       "      <th>2</th>\n",
       "      <td>2016년</td>\n",
       "      <td>서울</td>\n",
       "      <td>서울남대문</td>\n",
       "      <td>488</td>\n",
       "    </tr>\n",
       "    <tr>\n",
       "      <th>3</th>\n",
       "      <td>2016년</td>\n",
       "      <td>서울</td>\n",
       "      <td>서울서대문</td>\n",
       "      <td>654</td>\n",
       "    </tr>\n",
       "    <tr>\n",
       "      <th>4</th>\n",
       "      <td>2016년</td>\n",
       "      <td>서울</td>\n",
       "      <td>서울혜화</td>\n",
       "      <td>481</td>\n",
       "    </tr>\n",
       "  </tbody>\n",
       "</table>\n",
       "</div>"
      ],
      "text/plain": [
       "      년도 지방청    경찰서  경찰관\n",
       "0  2016년  서울   서울중부  511\n",
       "1  2016년  서울   서울종로  639\n",
       "2  2016년  서울  서울남대문  488\n",
       "3  2016년  서울  서울서대문  654\n",
       "4  2016년  서울   서울혜화  481"
      ]
     },
     "execution_count": 4,
     "metadata": {},
     "output_type": "execute_result"
    }
   ],
   "source": [
    "pol = pd.read_csv('./경찰데이터/경찰관현황total.csv', encoding = 'cp949',thousands = ',')\n",
    "pol.head()"
   ]
  },
  {
   "cell_type": "code",
   "execution_count": 5,
   "id": "4f15ee44",
   "metadata": {
    "ExecuteTime": {
     "end_time": "2021-11-30T00:44:38.039130Z",
     "start_time": "2021-11-30T00:44:38.001931Z"
    }
   },
   "outputs": [
    {
     "name": "stdout",
     "output_type": "stream",
     "text": [
      "<class 'pandas.core.frame.DataFrame'>\n",
      "RangeIndex: 1531 entries, 0 to 1530\n",
      "Data columns (total 4 columns):\n",
      " #   Column  Non-Null Count  Dtype \n",
      "---  ------  --------------  ----- \n",
      " 0   년도      1531 non-null   object\n",
      " 1   지방청     1531 non-null   object\n",
      " 2   경찰서     1531 non-null   object\n",
      " 3   경찰관     1531 non-null   int64 \n",
      "dtypes: int64(1), object(3)\n",
      "memory usage: 48.0+ KB\n"
     ]
    }
   ],
   "source": [
    "# 결측치는 zero\n",
    "pol.info()"
   ]
  },
  {
   "cell_type": "code",
   "execution_count": 6,
   "id": "eb947e43",
   "metadata": {
    "ExecuteTime": {
     "end_time": "2021-11-30T00:44:39.196584Z",
     "start_time": "2021-11-30T00:44:39.161623Z"
    }
   },
   "outputs": [
    {
     "data": {
      "text/html": [
       "<div>\n",
       "<style scoped>\n",
       "    .dataframe tbody tr th:only-of-type {\n",
       "        vertical-align: middle;\n",
       "    }\n",
       "\n",
       "    .dataframe tbody tr th {\n",
       "        vertical-align: top;\n",
       "    }\n",
       "\n",
       "    .dataframe thead th {\n",
       "        text-align: right;\n",
       "    }\n",
       "</style>\n",
       "<table border=\"1\" class=\"dataframe\">\n",
       "  <thead>\n",
       "    <tr style=\"text-align: right;\">\n",
       "      <th></th>\n",
       "      <th>경찰관</th>\n",
       "    </tr>\n",
       "  </thead>\n",
       "  <tbody>\n",
       "    <tr>\n",
       "      <th>count</th>\n",
       "      <td>1531.000000</td>\n",
       "    </tr>\n",
       "    <tr>\n",
       "      <th>mean</th>\n",
       "      <td>380.774657</td>\n",
       "    </tr>\n",
       "    <tr>\n",
       "      <th>std</th>\n",
       "      <td>211.611139</td>\n",
       "    </tr>\n",
       "    <tr>\n",
       "      <th>min</th>\n",
       "      <td>55.000000</td>\n",
       "    </tr>\n",
       "    <tr>\n",
       "      <th>25%</th>\n",
       "      <td>182.000000</td>\n",
       "    </tr>\n",
       "    <tr>\n",
       "      <th>50%</th>\n",
       "      <td>366.000000</td>\n",
       "    </tr>\n",
       "    <tr>\n",
       "      <th>75%</th>\n",
       "      <td>517.000000</td>\n",
       "    </tr>\n",
       "    <tr>\n",
       "      <th>max</th>\n",
       "      <td>1040.000000</td>\n",
       "    </tr>\n",
       "  </tbody>\n",
       "</table>\n",
       "</div>"
      ],
      "text/plain": [
       "               경찰관\n",
       "count  1531.000000\n",
       "mean    380.774657\n",
       "std     211.611139\n",
       "min      55.000000\n",
       "25%     182.000000\n",
       "50%     366.000000\n",
       "75%     517.000000\n",
       "max    1040.000000"
      ]
     },
     "execution_count": 6,
     "metadata": {},
     "output_type": "execute_result"
    }
   ],
   "source": [
    "pol.describe()"
   ]
  },
  {
   "cell_type": "code",
   "execution_count": 7,
   "id": "bdf09794",
   "metadata": {
    "ExecuteTime": {
     "end_time": "2021-11-30T00:44:39.651460Z",
     "start_time": "2021-11-30T00:44:39.628400Z"
    }
   },
   "outputs": [
    {
     "name": "stdout",
     "output_type": "stream",
     "text": [
      "['2016년' '2017년' '2018년' '2019년' '2020년' '2021년10월']\n",
      "['서울' '부산' '대구' '인천' '광주' '대전' '울산' '경기남부' '경기북부' '강원' '충북' '충남' '전북' '전남'\n",
      " '경북' '경남' '제주' '세종']\n",
      "['서울중부' '서울종로' '서울남대문' '서울서대문' '서울혜화' '서울용산' '서울성북' '서울동대문' '서울마포' '서울영등포'\n",
      " '서울성동' '서울동작' '서울광진' '서울서부' '서울강북' '서울금천' '서울중랑' '서울강남' '서울관악' '서울강서'\n",
      " '서울강동' '서울종암' '서울구로' '서울서초' '서울양천' '서울송파' '서울노원' '서울방배' '서울은평' '서울도봉'\n",
      " '서울수서' '부산중부' '부산동래' '부산영도' '부산동부' '부산진' '부산서부' '부산남부' '부산해운대' '부산사상'\n",
      " '부산금정' '부산사하' '부산연제' '부산강서' '부산북부' '부산기장' '대구중부' '대구동부' '대구서부' '대구남부'\n",
      " '대구북부' '대구수성' '대구달서' '대구성서' '대구달성' '대구강북' '인천중부' '인천남부' '인천남동' '인천부평'\n",
      " '인천삼산' '인천서부' '인천계양' '인천연수' '인천강화' '광주동부' '광주서부' '광주남부' '광주북부' '광주광산'\n",
      " '대전중부' '대전동부' '대전서부' '대전대덕' '대전둔산' '대전유성' '울산중부' '울산남부' '울산동부' '울산울주'\n",
      " '수원중부' '수원남부' '수원서부' '안양동안' '안양만안' '군포' '성남수정' '성남중원' '분당' '부천소사' '부천원미'\n",
      " '부천오정' '광명' '안산단원' '안산상록' '시흥' '평택' '화성동부' '화성서부' '용인동부' '용인서부' '광주' '김포'\n",
      " '과천' '의왕' '하남' '이천' '안성' '여주' '양평' '의정부' '고양' '일산동부' '일산서부' '남양주' '파주'\n",
      " '양주' '동두천' '구리' '포천' '가평' '연천' '춘천' '강릉' '원주' '동해' '태백' '속초' '삼척' '영월'\n",
      " '정선' '홍천' '평창' '횡성' '고성' '인제' '철원' '화천' '양구' '청주흥덕' '청주상당' '청주청원' '충주'\n",
      " '제천' '영동' '괴산' '단양' '보은' '옥천' '음성' '진천' '천안서북' '천안동남' '서산' '논산' '아산' '공주'\n",
      " '보령' '당진' '세종' '홍성' '예산' '부여' '서천' '금산' '청양' '전주완산' '전주덕진' '군산' '익산' '정읍'\n",
      " '남원' '김제' '완주' '고창' '부안' '임실' '순창' '진안' '장수' '무주' '목포' '여수' '순천' '나주'\n",
      " '광양' '고흥' '해남' '무안' '장흥' '보성' '영광' '화순' '함평' '영암' '장성' '강진' '담양' '곡성'\n",
      " '완도' '진도' '구례' '경주' '포항북부' '포항남부' '구미' '경산' '안동' '김천' '영주' '영천' '상주' '문경'\n",
      " '칠곡' '의성' '청도' '영덕' '울진' '봉화' '예천' '성주' '청송' '영양' '군위' '고령' '울릉' '창원중부'\n",
      " '창원서부' '마산중부' '마산동부' '진주' '김해중부' '김해서부' '거제' '양산' '진해' '통영' '사천' '밀양'\n",
      " '거창' '합천' '창녕' '하동' '남해' '함양' '산청' '함안' '의령' '제주동부' '제주서부' '서귀포' '인천논현'\n",
      " '태안' '인천미추홀' '오산' '화성동탄' '울산북부' '남양주남부' '남양주북부' '세종남부' '세종북부']\n"
     ]
    }
   ],
   "source": [
    "for col in pol.columns[:-1]:\n",
    "    print(pol[col].unique())"
   ]
  },
  {
   "cell_type": "code",
   "execution_count": 8,
   "id": "26835a13",
   "metadata": {
    "ExecuteTime": {
     "end_time": "2021-11-30T00:44:39.864358Z",
     "start_time": "2021-11-30T00:44:39.856586Z"
    }
   },
   "outputs": [
    {
     "data": {
      "text/plain": [
       "Index(['년도', '지방청', '경찰서', '경찰관'], dtype='object')"
      ]
     },
     "execution_count": 8,
     "metadata": {},
     "output_type": "execute_result"
    }
   ],
   "source": [
    "pol.columns"
   ]
  },
  {
   "cell_type": "markdown",
   "id": "25922247",
   "metadata": {},
   "source": [
    "### 경찰서 이름 통일"
   ]
  },
  {
   "cell_type": "code",
   "execution_count": 9,
   "id": "f42d678e",
   "metadata": {
    "ExecuteTime": {
     "end_time": "2021-11-30T00:44:40.196472Z",
     "start_time": "2021-11-30T00:44:40.161510Z"
    }
   },
   "outputs": [
    {
     "data": {
      "text/html": [
       "<div>\n",
       "<style scoped>\n",
       "    .dataframe tbody tr th:only-of-type {\n",
       "        vertical-align: middle;\n",
       "    }\n",
       "\n",
       "    .dataframe tbody tr th {\n",
       "        vertical-align: top;\n",
       "    }\n",
       "\n",
       "    .dataframe thead th {\n",
       "        text-align: right;\n",
       "    }\n",
       "</style>\n",
       "<table border=\"1\" class=\"dataframe\">\n",
       "  <thead>\n",
       "    <tr style=\"text-align: right;\">\n",
       "      <th></th>\n",
       "      <th>년도</th>\n",
       "      <th>지방청</th>\n",
       "      <th>경찰서</th>\n",
       "      <th>경찰관</th>\n",
       "    </tr>\n",
       "  </thead>\n",
       "  <tbody>\n",
       "    <tr>\n",
       "      <th>0</th>\n",
       "      <td>2016년</td>\n",
       "      <td>서울</td>\n",
       "      <td>서울중부</td>\n",
       "      <td>511</td>\n",
       "    </tr>\n",
       "    <tr>\n",
       "      <th>1</th>\n",
       "      <td>2016년</td>\n",
       "      <td>서울</td>\n",
       "      <td>서울종로</td>\n",
       "      <td>639</td>\n",
       "    </tr>\n",
       "    <tr>\n",
       "      <th>2</th>\n",
       "      <td>2016년</td>\n",
       "      <td>서울</td>\n",
       "      <td>서울남대문</td>\n",
       "      <td>488</td>\n",
       "    </tr>\n",
       "    <tr>\n",
       "      <th>3</th>\n",
       "      <td>2016년</td>\n",
       "      <td>서울</td>\n",
       "      <td>서울서대문</td>\n",
       "      <td>654</td>\n",
       "    </tr>\n",
       "    <tr>\n",
       "      <th>4</th>\n",
       "      <td>2016년</td>\n",
       "      <td>서울</td>\n",
       "      <td>서울혜화</td>\n",
       "      <td>481</td>\n",
       "    </tr>\n",
       "    <tr>\n",
       "      <th>...</th>\n",
       "      <td>...</td>\n",
       "      <td>...</td>\n",
       "      <td>...</td>\n",
       "      <td>...</td>\n",
       "    </tr>\n",
       "    <tr>\n",
       "      <th>1299</th>\n",
       "      <td>2021년10월</td>\n",
       "      <td>서울</td>\n",
       "      <td>서울노원</td>\n",
       "      <td>799</td>\n",
       "    </tr>\n",
       "    <tr>\n",
       "      <th>1300</th>\n",
       "      <td>2021년10월</td>\n",
       "      <td>서울</td>\n",
       "      <td>서울방배</td>\n",
       "      <td>350</td>\n",
       "    </tr>\n",
       "    <tr>\n",
       "      <th>1301</th>\n",
       "      <td>2021년10월</td>\n",
       "      <td>서울</td>\n",
       "      <td>서울은평</td>\n",
       "      <td>456</td>\n",
       "    </tr>\n",
       "    <tr>\n",
       "      <th>1302</th>\n",
       "      <td>2021년10월</td>\n",
       "      <td>서울</td>\n",
       "      <td>서울도봉</td>\n",
       "      <td>553</td>\n",
       "    </tr>\n",
       "    <tr>\n",
       "      <th>1303</th>\n",
       "      <td>2021년10월</td>\n",
       "      <td>서울</td>\n",
       "      <td>서울수서</td>\n",
       "      <td>649</td>\n",
       "    </tr>\n",
       "  </tbody>\n",
       "</table>\n",
       "<p>186 rows × 4 columns</p>\n",
       "</div>"
      ],
      "text/plain": [
       "            년도 지방청    경찰서  경찰관\n",
       "0        2016년  서울   서울중부  511\n",
       "1        2016년  서울   서울종로  639\n",
       "2        2016년  서울  서울남대문  488\n",
       "3        2016년  서울  서울서대문  654\n",
       "4        2016년  서울   서울혜화  481\n",
       "...        ...  ..    ...  ...\n",
       "1299  2021년10월  서울   서울노원  799\n",
       "1300  2021년10월  서울   서울방배  350\n",
       "1301  2021년10월  서울   서울은평  456\n",
       "1302  2021년10월  서울   서울도봉  553\n",
       "1303  2021년10월  서울   서울수서  649\n",
       "\n",
       "[186 rows x 4 columns]"
      ]
     },
     "execution_count": 9,
     "metadata": {},
     "output_type": "execute_result"
    }
   ],
   "source": [
    "pol[pol.경찰서.str.contains('서울')]"
   ]
  },
  {
   "cell_type": "code",
   "execution_count": 10,
   "id": "73628159",
   "metadata": {
    "ExecuteTime": {
     "end_time": "2021-11-30T00:44:40.347742Z",
     "start_time": "2021-11-30T00:44:40.317466Z"
    }
   },
   "outputs": [
    {
     "name": "stderr",
     "output_type": "stream",
     "text": [
      "<ipython-input-10-e3e801b5fa4e>:2: SettingWithCopyWarning: \n",
      "A value is trying to be set on a copy of a slice from a DataFrame.\n",
      "Try using .loc[row_indexer,col_indexer] = value instead\n",
      "\n",
      "See the caveats in the documentation: https://pandas.pydata.org/pandas-docs/stable/user_guide/indexing.html#returning-a-view-versus-a-copy\n",
      "  pol_seoul['jur_stn'] = pol_seoul['경찰서'].apply(lambda x : (x + '경찰서'))\n"
     ]
    },
    {
     "data": {
      "text/plain": [
       "array(['서울중부경찰서', '서울종로경찰서', '서울남대문경찰서', '서울서대문경찰서', '서울혜화경찰서', '서울용산경찰서',\n",
       "       '서울성북경찰서', '서울동대문경찰서', '서울마포경찰서', '서울영등포경찰서', '서울성동경찰서', '서울동작경찰서',\n",
       "       '서울광진경찰서', '서울서부경찰서', '서울강북경찰서', '서울금천경찰서', '서울중랑경찰서', '서울강남경찰서',\n",
       "       '서울관악경찰서', '서울강서경찰서', '서울강동경찰서', '서울종암경찰서', '서울구로경찰서', '서울서초경찰서',\n",
       "       '서울양천경찰서', '서울송파경찰서', '서울노원경찰서', '서울방배경찰서', '서울은평경찰서', '서울도봉경찰서',\n",
       "       '서울수서경찰서'], dtype=object)"
      ]
     },
     "execution_count": 10,
     "metadata": {},
     "output_type": "execute_result"
    }
   ],
   "source": [
    "pol_seoul = pol[pol['경찰서'].str.contains('서울')]\n",
    "pol_seoul['jur_stn'] = pol_seoul['경찰서'].apply(lambda x : (x + '경찰서'))\n",
    "pol_seoul.jur_stn.unique()"
   ]
  },
  {
   "cell_type": "code",
   "execution_count": 11,
   "id": "a28153f2",
   "metadata": {
    "ExecuteTime": {
     "end_time": "2021-11-30T00:44:40.482045Z",
     "start_time": "2021-11-30T00:44:40.457180Z"
    }
   },
   "outputs": [
    {
     "data": {
      "text/html": [
       "<div>\n",
       "<style scoped>\n",
       "    .dataframe tbody tr th:only-of-type {\n",
       "        vertical-align: middle;\n",
       "    }\n",
       "\n",
       "    .dataframe tbody tr th {\n",
       "        vertical-align: top;\n",
       "    }\n",
       "\n",
       "    .dataframe thead th {\n",
       "        text-align: right;\n",
       "    }\n",
       "</style>\n",
       "<table border=\"1\" class=\"dataframe\">\n",
       "  <thead>\n",
       "    <tr style=\"text-align: right;\">\n",
       "      <th></th>\n",
       "      <th>년도</th>\n",
       "      <th>jur_stn</th>\n",
       "      <th>경찰관</th>\n",
       "    </tr>\n",
       "  </thead>\n",
       "  <tbody>\n",
       "    <tr>\n",
       "      <th>0</th>\n",
       "      <td>2016년</td>\n",
       "      <td>서울중부경찰서</td>\n",
       "      <td>511</td>\n",
       "    </tr>\n",
       "    <tr>\n",
       "      <th>1</th>\n",
       "      <td>2016년</td>\n",
       "      <td>서울종로경찰서</td>\n",
       "      <td>639</td>\n",
       "    </tr>\n",
       "    <tr>\n",
       "      <th>2</th>\n",
       "      <td>2016년</td>\n",
       "      <td>서울남대문경찰서</td>\n",
       "      <td>488</td>\n",
       "    </tr>\n",
       "    <tr>\n",
       "      <th>3</th>\n",
       "      <td>2016년</td>\n",
       "      <td>서울서대문경찰서</td>\n",
       "      <td>654</td>\n",
       "    </tr>\n",
       "    <tr>\n",
       "      <th>4</th>\n",
       "      <td>2016년</td>\n",
       "      <td>서울혜화경찰서</td>\n",
       "      <td>481</td>\n",
       "    </tr>\n",
       "    <tr>\n",
       "      <th>...</th>\n",
       "      <td>...</td>\n",
       "      <td>...</td>\n",
       "      <td>...</td>\n",
       "    </tr>\n",
       "    <tr>\n",
       "      <th>1299</th>\n",
       "      <td>2021년10월</td>\n",
       "      <td>서울노원경찰서</td>\n",
       "      <td>799</td>\n",
       "    </tr>\n",
       "    <tr>\n",
       "      <th>1300</th>\n",
       "      <td>2021년10월</td>\n",
       "      <td>서울방배경찰서</td>\n",
       "      <td>350</td>\n",
       "    </tr>\n",
       "    <tr>\n",
       "      <th>1301</th>\n",
       "      <td>2021년10월</td>\n",
       "      <td>서울은평경찰서</td>\n",
       "      <td>456</td>\n",
       "    </tr>\n",
       "    <tr>\n",
       "      <th>1302</th>\n",
       "      <td>2021년10월</td>\n",
       "      <td>서울도봉경찰서</td>\n",
       "      <td>553</td>\n",
       "    </tr>\n",
       "    <tr>\n",
       "      <th>1303</th>\n",
       "      <td>2021년10월</td>\n",
       "      <td>서울수서경찰서</td>\n",
       "      <td>649</td>\n",
       "    </tr>\n",
       "  </tbody>\n",
       "</table>\n",
       "<p>186 rows × 3 columns</p>\n",
       "</div>"
      ],
      "text/plain": [
       "            년도   jur_stn  경찰관\n",
       "0        2016년   서울중부경찰서  511\n",
       "1        2016년   서울종로경찰서  639\n",
       "2        2016년  서울남대문경찰서  488\n",
       "3        2016년  서울서대문경찰서  654\n",
       "4        2016년   서울혜화경찰서  481\n",
       "...        ...       ...  ...\n",
       "1299  2021년10월   서울노원경찰서  799\n",
       "1300  2021년10월   서울방배경찰서  350\n",
       "1301  2021년10월   서울은평경찰서  456\n",
       "1302  2021년10월   서울도봉경찰서  553\n",
       "1303  2021년10월   서울수서경찰서  649\n",
       "\n",
       "[186 rows x 3 columns]"
      ]
     },
     "execution_count": 11,
     "metadata": {},
     "output_type": "execute_result"
    }
   ],
   "source": [
    "pol_seoul = pol_seoul[['년도','jur_stn','경찰관']]\n",
    "pol_seoul"
   ]
  },
  {
   "cell_type": "code",
   "execution_count": 12,
   "id": "77b17bc4",
   "metadata": {
    "ExecuteTime": {
     "end_time": "2021-11-30T00:44:40.632915Z",
     "start_time": "2021-11-30T00:44:40.616639Z"
    }
   },
   "outputs": [
    {
     "data": {
      "text/plain": [
       "31"
      ]
     },
     "execution_count": 12,
     "metadata": {},
     "output_type": "execute_result"
    }
   ],
   "source": [
    "len(pol_seoul.jur_stn.unique())"
   ]
  },
  {
   "cell_type": "code",
   "execution_count": 13,
   "id": "4ab796e4",
   "metadata": {
    "ExecuteTime": {
     "end_time": "2021-11-30T00:44:40.784513Z",
     "start_time": "2021-11-30T00:44:40.754040Z"
    }
   },
   "outputs": [
    {
     "data": {
      "text/html": [
       "<div>\n",
       "<style scoped>\n",
       "    .dataframe tbody tr th:only-of-type {\n",
       "        vertical-align: middle;\n",
       "    }\n",
       "\n",
       "    .dataframe tbody tr th {\n",
       "        vertical-align: top;\n",
       "    }\n",
       "\n",
       "    .dataframe thead th {\n",
       "        text-align: right;\n",
       "    }\n",
       "</style>\n",
       "<table border=\"1\" class=\"dataframe\">\n",
       "  <thead>\n",
       "    <tr style=\"text-align: right;\">\n",
       "      <th></th>\n",
       "      <th>년도</th>\n",
       "      <th>지방청</th>\n",
       "      <th>경찰서</th>\n",
       "      <th>경찰관</th>\n",
       "    </tr>\n",
       "  </thead>\n",
       "  <tbody>\n",
       "    <tr>\n",
       "      <th>159</th>\n",
       "      <td>2016년</td>\n",
       "      <td>충남</td>\n",
       "      <td>세종</td>\n",
       "      <td>260</td>\n",
       "    </tr>\n",
       "    <tr>\n",
       "      <th>412</th>\n",
       "      <td>2017년</td>\n",
       "      <td>충남</td>\n",
       "      <td>세종</td>\n",
       "      <td>298</td>\n",
       "    </tr>\n",
       "    <tr>\n",
       "      <th>667</th>\n",
       "      <td>2018년</td>\n",
       "      <td>충남</td>\n",
       "      <td>세종</td>\n",
       "      <td>308</td>\n",
       "    </tr>\n",
       "    <tr>\n",
       "      <th>842</th>\n",
       "      <td>2019년</td>\n",
       "      <td>세종</td>\n",
       "      <td>세종</td>\n",
       "      <td>305</td>\n",
       "    </tr>\n",
       "    <tr>\n",
       "      <th>1098</th>\n",
       "      <td>2020년</td>\n",
       "      <td>세종</td>\n",
       "      <td>세종</td>\n",
       "      <td>335</td>\n",
       "    </tr>\n",
       "    <tr>\n",
       "      <th>1355</th>\n",
       "      <td>2021년10월</td>\n",
       "      <td>세종</td>\n",
       "      <td>세종남부</td>\n",
       "      <td>259</td>\n",
       "    </tr>\n",
       "    <tr>\n",
       "      <th>1356</th>\n",
       "      <td>2021년10월</td>\n",
       "      <td>세종</td>\n",
       "      <td>세종북부</td>\n",
       "      <td>172</td>\n",
       "    </tr>\n",
       "  </tbody>\n",
       "</table>\n",
       "</div>"
      ],
      "text/plain": [
       "            년도 지방청   경찰서  경찰관\n",
       "159      2016년  충남    세종  260\n",
       "412      2017년  충남    세종  298\n",
       "667      2018년  충남    세종  308\n",
       "842      2019년  세종    세종  305\n",
       "1098     2020년  세종    세종  335\n",
       "1355  2021년10월  세종  세종남부  259\n",
       "1356  2021년10월  세종  세종북부  172"
      ]
     },
     "execution_count": 13,
     "metadata": {},
     "output_type": "execute_result"
    }
   ],
   "source": [
    "pol[pol.경찰서.str.contains('세종')]"
   ]
  },
  {
   "cell_type": "code",
   "execution_count": 14,
   "id": "8169d18b",
   "metadata": {
    "ExecuteTime": {
     "end_time": "2021-11-30T00:44:40.951848Z",
     "start_time": "2021-11-30T00:44:40.918432Z"
    }
   },
   "outputs": [
    {
     "name": "stderr",
     "output_type": "stream",
     "text": [
      "<ipython-input-14-67b1d64d04ac>:2: SettingWithCopyWarning: \n",
      "A value is trying to be set on a copy of a slice from a DataFrame.\n",
      "Try using .loc[row_indexer,col_indexer] = value instead\n",
      "\n",
      "See the caveats in the documentation: https://pandas.pydata.org/pandas-docs/stable/user_guide/indexing.html#returning-a-view-versus-a-copy\n",
      "  pol_sejong['jur_stn'] = pol_sejong['경찰서'].apply(lambda x : x[:2])\n"
     ]
    },
    {
     "data": {
      "text/html": [
       "<div>\n",
       "<style scoped>\n",
       "    .dataframe tbody tr th:only-of-type {\n",
       "        vertical-align: middle;\n",
       "    }\n",
       "\n",
       "    .dataframe tbody tr th {\n",
       "        vertical-align: top;\n",
       "    }\n",
       "\n",
       "    .dataframe thead th {\n",
       "        text-align: right;\n",
       "    }\n",
       "</style>\n",
       "<table border=\"1\" class=\"dataframe\">\n",
       "  <thead>\n",
       "    <tr style=\"text-align: right;\">\n",
       "      <th></th>\n",
       "      <th>년도</th>\n",
       "      <th>지방청</th>\n",
       "      <th>경찰서</th>\n",
       "      <th>경찰관</th>\n",
       "      <th>jur_stn</th>\n",
       "    </tr>\n",
       "  </thead>\n",
       "  <tbody>\n",
       "    <tr>\n",
       "      <th>159</th>\n",
       "      <td>2016년</td>\n",
       "      <td>충남</td>\n",
       "      <td>세종</td>\n",
       "      <td>260</td>\n",
       "      <td>세종</td>\n",
       "    </tr>\n",
       "    <tr>\n",
       "      <th>412</th>\n",
       "      <td>2017년</td>\n",
       "      <td>충남</td>\n",
       "      <td>세종</td>\n",
       "      <td>298</td>\n",
       "      <td>세종</td>\n",
       "    </tr>\n",
       "    <tr>\n",
       "      <th>667</th>\n",
       "      <td>2018년</td>\n",
       "      <td>충남</td>\n",
       "      <td>세종</td>\n",
       "      <td>308</td>\n",
       "      <td>세종</td>\n",
       "    </tr>\n",
       "    <tr>\n",
       "      <th>842</th>\n",
       "      <td>2019년</td>\n",
       "      <td>세종</td>\n",
       "      <td>세종</td>\n",
       "      <td>305</td>\n",
       "      <td>세종</td>\n",
       "    </tr>\n",
       "    <tr>\n",
       "      <th>1098</th>\n",
       "      <td>2020년</td>\n",
       "      <td>세종</td>\n",
       "      <td>세종</td>\n",
       "      <td>335</td>\n",
       "      <td>세종</td>\n",
       "    </tr>\n",
       "    <tr>\n",
       "      <th>1355</th>\n",
       "      <td>2021년10월</td>\n",
       "      <td>세종</td>\n",
       "      <td>세종남부</td>\n",
       "      <td>259</td>\n",
       "      <td>세종</td>\n",
       "    </tr>\n",
       "    <tr>\n",
       "      <th>1356</th>\n",
       "      <td>2021년10월</td>\n",
       "      <td>세종</td>\n",
       "      <td>세종북부</td>\n",
       "      <td>172</td>\n",
       "      <td>세종</td>\n",
       "    </tr>\n",
       "  </tbody>\n",
       "</table>\n",
       "</div>"
      ],
      "text/plain": [
       "            년도 지방청   경찰서  경찰관 jur_stn\n",
       "159      2016년  충남    세종  260      세종\n",
       "412      2017년  충남    세종  298      세종\n",
       "667      2018년  충남    세종  308      세종\n",
       "842      2019년  세종    세종  305      세종\n",
       "1098     2020년  세종    세종  335      세종\n",
       "1355  2021년10월  세종  세종남부  259      세종\n",
       "1356  2021년10월  세종  세종북부  172      세종"
      ]
     },
     "execution_count": 14,
     "metadata": {},
     "output_type": "execute_result"
    }
   ],
   "source": [
    "pol_sejong = pol[pol.경찰서.str.contains('세종')]\n",
    "pol_sejong['jur_stn'] = pol_sejong['경찰서'].apply(lambda x : x[:2])\n",
    "pol_sejong"
   ]
  },
  {
   "cell_type": "code",
   "execution_count": 15,
   "id": "8f4e998c",
   "metadata": {
    "ExecuteTime": {
     "end_time": "2021-11-30T00:44:42.102093Z",
     "start_time": "2021-11-30T00:44:42.068064Z"
    }
   },
   "outputs": [
    {
     "data": {
      "text/html": [
       "<div>\n",
       "<style scoped>\n",
       "    .dataframe tbody tr th:only-of-type {\n",
       "        vertical-align: middle;\n",
       "    }\n",
       "\n",
       "    .dataframe tbody tr th {\n",
       "        vertical-align: top;\n",
       "    }\n",
       "\n",
       "    .dataframe thead th {\n",
       "        text-align: right;\n",
       "    }\n",
       "</style>\n",
       "<table border=\"1\" class=\"dataframe\">\n",
       "  <thead>\n",
       "    <tr style=\"text-align: right;\">\n",
       "      <th></th>\n",
       "      <th>년도</th>\n",
       "      <th>jur_stn</th>\n",
       "      <th>경찰관</th>\n",
       "    </tr>\n",
       "  </thead>\n",
       "  <tbody>\n",
       "    <tr>\n",
       "      <th>159</th>\n",
       "      <td>2016년</td>\n",
       "      <td>세종</td>\n",
       "      <td>260</td>\n",
       "    </tr>\n",
       "    <tr>\n",
       "      <th>412</th>\n",
       "      <td>2017년</td>\n",
       "      <td>세종</td>\n",
       "      <td>298</td>\n",
       "    </tr>\n",
       "    <tr>\n",
       "      <th>667</th>\n",
       "      <td>2018년</td>\n",
       "      <td>세종</td>\n",
       "      <td>308</td>\n",
       "    </tr>\n",
       "    <tr>\n",
       "      <th>842</th>\n",
       "      <td>2019년</td>\n",
       "      <td>세종</td>\n",
       "      <td>305</td>\n",
       "    </tr>\n",
       "    <tr>\n",
       "      <th>1098</th>\n",
       "      <td>2020년</td>\n",
       "      <td>세종</td>\n",
       "      <td>335</td>\n",
       "    </tr>\n",
       "    <tr>\n",
       "      <th>1355</th>\n",
       "      <td>2021년10월</td>\n",
       "      <td>세종</td>\n",
       "      <td>259</td>\n",
       "    </tr>\n",
       "    <tr>\n",
       "      <th>1356</th>\n",
       "      <td>2021년10월</td>\n",
       "      <td>세종</td>\n",
       "      <td>172</td>\n",
       "    </tr>\n",
       "  </tbody>\n",
       "</table>\n",
       "</div>"
      ],
      "text/plain": [
       "            년도 jur_stn  경찰관\n",
       "159      2016년      세종  260\n",
       "412      2017년      세종  298\n",
       "667      2018년      세종  308\n",
       "842      2019년      세종  305\n",
       "1098     2020년      세종  335\n",
       "1355  2021년10월      세종  259\n",
       "1356  2021년10월      세종  172"
      ]
     },
     "execution_count": 15,
     "metadata": {},
     "output_type": "execute_result"
    }
   ],
   "source": [
    "pol_sejong = pol_sejong[['년도','jur_stn','경찰관']]\n",
    "pol_sejong"
   ]
  },
  {
   "cell_type": "code",
   "execution_count": 16,
   "id": "416aeea0",
   "metadata": {
    "ExecuteTime": {
     "end_time": "2021-11-30T00:44:44.531254Z",
     "start_time": "2021-11-30T00:44:44.516366Z"
    }
   },
   "outputs": [],
   "source": [
    "pol['jur_stn'] = pol['경찰서'].apply(lambda x : (x + '경찰서') if x != '세종남부' else x[:2] + '경찰서')"
   ]
  },
  {
   "cell_type": "code",
   "execution_count": 17,
   "id": "d0d976ec",
   "metadata": {
    "ExecuteTime": {
     "end_time": "2021-11-30T00:44:44.786768Z",
     "start_time": "2021-11-30T00:44:44.770510Z"
    }
   },
   "outputs": [],
   "source": [
    "pol['jur_stn'] = pol['jur_stn'].apply(lambda x : x if x != '세종북부경찰서' else x[:2] + x[-3:])"
   ]
  },
  {
   "cell_type": "code",
   "execution_count": 18,
   "id": "de05ec16",
   "metadata": {
    "ExecuteTime": {
     "end_time": "2021-11-30T00:44:45.042263Z",
     "start_time": "2021-11-30T00:44:45.015410Z"
    }
   },
   "outputs": [
    {
     "data": {
      "text/html": [
       "<div>\n",
       "<style scoped>\n",
       "    .dataframe tbody tr th:only-of-type {\n",
       "        vertical-align: middle;\n",
       "    }\n",
       "\n",
       "    .dataframe tbody tr th {\n",
       "        vertical-align: top;\n",
       "    }\n",
       "\n",
       "    .dataframe thead th {\n",
       "        text-align: right;\n",
       "    }\n",
       "</style>\n",
       "<table border=\"1\" class=\"dataframe\">\n",
       "  <thead>\n",
       "    <tr style=\"text-align: right;\">\n",
       "      <th></th>\n",
       "      <th>년도</th>\n",
       "      <th>지방청</th>\n",
       "      <th>경찰서</th>\n",
       "      <th>경찰관</th>\n",
       "      <th>jur_stn</th>\n",
       "    </tr>\n",
       "  </thead>\n",
       "  <tbody>\n",
       "    <tr>\n",
       "      <th>159</th>\n",
       "      <td>2016년</td>\n",
       "      <td>충남</td>\n",
       "      <td>세종</td>\n",
       "      <td>260</td>\n",
       "      <td>세종경찰서</td>\n",
       "    </tr>\n",
       "    <tr>\n",
       "      <th>412</th>\n",
       "      <td>2017년</td>\n",
       "      <td>충남</td>\n",
       "      <td>세종</td>\n",
       "      <td>298</td>\n",
       "      <td>세종경찰서</td>\n",
       "    </tr>\n",
       "    <tr>\n",
       "      <th>667</th>\n",
       "      <td>2018년</td>\n",
       "      <td>충남</td>\n",
       "      <td>세종</td>\n",
       "      <td>308</td>\n",
       "      <td>세종경찰서</td>\n",
       "    </tr>\n",
       "    <tr>\n",
       "      <th>842</th>\n",
       "      <td>2019년</td>\n",
       "      <td>세종</td>\n",
       "      <td>세종</td>\n",
       "      <td>305</td>\n",
       "      <td>세종경찰서</td>\n",
       "    </tr>\n",
       "    <tr>\n",
       "      <th>1098</th>\n",
       "      <td>2020년</td>\n",
       "      <td>세종</td>\n",
       "      <td>세종</td>\n",
       "      <td>335</td>\n",
       "      <td>세종경찰서</td>\n",
       "    </tr>\n",
       "    <tr>\n",
       "      <th>1355</th>\n",
       "      <td>2021년10월</td>\n",
       "      <td>세종</td>\n",
       "      <td>세종남부</td>\n",
       "      <td>259</td>\n",
       "      <td>세종경찰서</td>\n",
       "    </tr>\n",
       "    <tr>\n",
       "      <th>1356</th>\n",
       "      <td>2021년10월</td>\n",
       "      <td>세종</td>\n",
       "      <td>세종북부</td>\n",
       "      <td>172</td>\n",
       "      <td>세종경찰서</td>\n",
       "    </tr>\n",
       "  </tbody>\n",
       "</table>\n",
       "</div>"
      ],
      "text/plain": [
       "            년도 지방청   경찰서  경찰관 jur_stn\n",
       "159      2016년  충남    세종  260   세종경찰서\n",
       "412      2017년  충남    세종  298   세종경찰서\n",
       "667      2018년  충남    세종  308   세종경찰서\n",
       "842      2019년  세종    세종  305   세종경찰서\n",
       "1098     2020년  세종    세종  335   세종경찰서\n",
       "1355  2021년10월  세종  세종남부  259   세종경찰서\n",
       "1356  2021년10월  세종  세종북부  172   세종경찰서"
      ]
     },
     "execution_count": 18,
     "metadata": {},
     "output_type": "execute_result"
    }
   ],
   "source": [
    "pol[pol.jur_stn.str.contains('세종')]"
   ]
  },
  {
   "cell_type": "code",
   "execution_count": 19,
   "id": "26df5011",
   "metadata": {
    "ExecuteTime": {
     "end_time": "2021-11-30T00:44:47.905945Z",
     "start_time": "2021-11-30T00:44:47.897635Z"
    }
   },
   "outputs": [],
   "source": [
    "#pol.drop(['jur_stn'], axis = 1, inplace = True)"
   ]
  },
  {
   "cell_type": "code",
   "execution_count": 20,
   "id": "56951367",
   "metadata": {
    "ExecuteTime": {
     "end_time": "2021-11-30T00:44:48.115625Z",
     "start_time": "2021-11-30T00:44:48.093300Z"
    }
   },
   "outputs": [],
   "source": [
    "pol['jur_stn'] = pol['경찰서'].apply(lambda x : (x + '경찰서') if x != '세종남부' else x[:2] + '경찰서')"
   ]
  },
  {
   "cell_type": "code",
   "execution_count": 21,
   "id": "9b84e1f4",
   "metadata": {
    "ExecuteTime": {
     "end_time": "2021-11-30T00:44:48.309909Z",
     "start_time": "2021-11-30T00:44:48.293098Z"
    }
   },
   "outputs": [],
   "source": [
    "pol_seoul = pol[pol.jur_stn.str.contains('서울')]"
   ]
  },
  {
   "cell_type": "code",
   "execution_count": 22,
   "id": "effdeada",
   "metadata": {
    "ExecuteTime": {
     "end_time": "2021-11-30T00:44:48.474362Z",
     "start_time": "2021-11-30T00:44:48.458515Z"
    }
   },
   "outputs": [],
   "source": [
    "pol_chang = pol[pol.jur_stn.str.contains('창원')]"
   ]
  },
  {
   "cell_type": "code",
   "execution_count": 23,
   "id": "ed62a7d9",
   "metadata": {
    "ExecuteTime": {
     "end_time": "2021-11-30T00:44:48.624217Z",
     "start_time": "2021-11-30T00:44:48.613075Z"
    }
   },
   "outputs": [],
   "source": [
    "pol_jinju = pol[pol.jur_stn.str.contains('진주')]"
   ]
  },
  {
   "cell_type": "code",
   "execution_count": 24,
   "id": "027f335f",
   "metadata": {
    "ExecuteTime": {
     "end_time": "2021-11-30T00:44:48.774389Z",
     "start_time": "2021-11-30T00:44:48.755775Z"
    }
   },
   "outputs": [],
   "source": [
    "pol_masan = pol[pol.jur_stn.str.contains('마산')]"
   ]
  },
  {
   "cell_type": "code",
   "execution_count": 25,
   "id": "81be5e00",
   "metadata": {
    "ExecuteTime": {
     "end_time": "2021-11-30T00:44:48.908984Z",
     "start_time": "2021-11-30T00:44:48.896926Z"
    }
   },
   "outputs": [],
   "source": [
    "pol_sejong = pol[pol.jur_stn.str.contains('세종')]"
   ]
  },
  {
   "cell_type": "code",
   "execution_count": 26,
   "id": "2e0b95b2",
   "metadata": {
    "ExecuteTime": {
     "end_time": "2021-11-30T00:44:49.058545Z",
     "start_time": "2021-11-30T00:44:49.045604Z"
    }
   },
   "outputs": [],
   "source": [
    "pol_jinhe = pol[pol.jur_stn.str.contains('진해')]"
   ]
  },
  {
   "cell_type": "code",
   "execution_count": 27,
   "id": "873891bf",
   "metadata": {
    "ExecuteTime": {
     "end_time": "2021-11-30T00:44:49.208220Z",
     "start_time": "2021-11-30T00:44:49.197092Z"
    }
   },
   "outputs": [],
   "source": [
    "pol_suwon = pol[pol.jur_stn.str.contains('수원')]"
   ]
  },
  {
   "cell_type": "code",
   "execution_count": 28,
   "id": "556129a6",
   "metadata": {
    "ExecuteTime": {
     "end_time": "2021-11-30T00:44:49.418161Z",
     "start_time": "2021-11-30T00:44:49.351249Z"
    }
   },
   "outputs": [
    {
     "data": {
      "text/html": [
       "<div>\n",
       "<style scoped>\n",
       "    .dataframe tbody tr th:only-of-type {\n",
       "        vertical-align: middle;\n",
       "    }\n",
       "\n",
       "    .dataframe tbody tr th {\n",
       "        vertical-align: top;\n",
       "    }\n",
       "\n",
       "    .dataframe thead th {\n",
       "        text-align: right;\n",
       "    }\n",
       "</style>\n",
       "<table border=\"1\" class=\"dataframe\">\n",
       "  <thead>\n",
       "    <tr style=\"text-align: right;\">\n",
       "      <th></th>\n",
       "      <th>년도</th>\n",
       "      <th>지방청</th>\n",
       "      <th>경찰관</th>\n",
       "      <th>jur_stn</th>\n",
       "    </tr>\n",
       "  </thead>\n",
       "  <tbody>\n",
       "    <tr>\n",
       "      <th>0</th>\n",
       "      <td>2016년</td>\n",
       "      <td>서울</td>\n",
       "      <td>511</td>\n",
       "      <td>서울중부경찰서</td>\n",
       "    </tr>\n",
       "    <tr>\n",
       "      <th>1</th>\n",
       "      <td>2016년</td>\n",
       "      <td>서울</td>\n",
       "      <td>639</td>\n",
       "      <td>서울종로경찰서</td>\n",
       "    </tr>\n",
       "    <tr>\n",
       "      <th>2</th>\n",
       "      <td>2016년</td>\n",
       "      <td>서울</td>\n",
       "      <td>488</td>\n",
       "      <td>서울남대문경찰서</td>\n",
       "    </tr>\n",
       "    <tr>\n",
       "      <th>3</th>\n",
       "      <td>2016년</td>\n",
       "      <td>서울</td>\n",
       "      <td>654</td>\n",
       "      <td>서울서대문경찰서</td>\n",
       "    </tr>\n",
       "    <tr>\n",
       "      <th>4</th>\n",
       "      <td>2016년</td>\n",
       "      <td>서울</td>\n",
       "      <td>481</td>\n",
       "      <td>서울혜화경찰서</td>\n",
       "    </tr>\n",
       "    <tr>\n",
       "      <th>...</th>\n",
       "      <td>...</td>\n",
       "      <td>...</td>\n",
       "      <td>...</td>\n",
       "      <td>...</td>\n",
       "    </tr>\n",
       "    <tr>\n",
       "      <th>1100</th>\n",
       "      <td>2020년</td>\n",
       "      <td>경기남부</td>\n",
       "      <td>769</td>\n",
       "      <td>수원남부경찰서</td>\n",
       "    </tr>\n",
       "    <tr>\n",
       "      <th>1101</th>\n",
       "      <td>2020년</td>\n",
       "      <td>경기남부</td>\n",
       "      <td>516</td>\n",
       "      <td>수원서부경찰서</td>\n",
       "    </tr>\n",
       "    <tr>\n",
       "      <th>1357</th>\n",
       "      <td>2021년10월</td>\n",
       "      <td>경기남부</td>\n",
       "      <td>630</td>\n",
       "      <td>수원중부경찰서</td>\n",
       "    </tr>\n",
       "    <tr>\n",
       "      <th>1358</th>\n",
       "      <td>2021년10월</td>\n",
       "      <td>경기남부</td>\n",
       "      <td>773</td>\n",
       "      <td>수원남부경찰서</td>\n",
       "    </tr>\n",
       "    <tr>\n",
       "      <th>1359</th>\n",
       "      <td>2021년10월</td>\n",
       "      <td>경기남부</td>\n",
       "      <td>517</td>\n",
       "      <td>수원서부경찰서</td>\n",
       "    </tr>\n",
       "  </tbody>\n",
       "</table>\n",
       "<p>247 rows × 4 columns</p>\n",
       "</div>"
      ],
      "text/plain": [
       "            년도   지방청  경찰관   jur_stn\n",
       "0        2016년    서울  511   서울중부경찰서\n",
       "1        2016년    서울  639   서울종로경찰서\n",
       "2        2016년    서울  488  서울남대문경찰서\n",
       "3        2016년    서울  654  서울서대문경찰서\n",
       "4        2016년    서울  481   서울혜화경찰서\n",
       "...        ...   ...  ...       ...\n",
       "1100     2020년  경기남부  769   수원남부경찰서\n",
       "1101     2020년  경기남부  516   수원서부경찰서\n",
       "1357  2021년10월  경기남부  630   수원중부경찰서\n",
       "1358  2021년10월  경기남부  773   수원남부경찰서\n",
       "1359  2021년10월  경기남부  517   수원서부경찰서\n",
       "\n",
       "[247 rows x 4 columns]"
      ]
     },
     "execution_count": 28,
     "metadata": {},
     "output_type": "execute_result"
    }
   ],
   "source": [
    "df12 = pd.concat([pol_seoul,pol_chang, pol_jinju, pol_masan, pol_sejong, pol_jinhe,pol_suwon])\n",
    "df12.drop(['경찰서'], axis = 1, inplace = True)\n",
    "df12"
   ]
  },
  {
   "cell_type": "code",
   "execution_count": 29,
   "id": "a34e9221",
   "metadata": {
    "ExecuteTime": {
     "end_time": "2021-11-30T00:44:50.165088Z",
     "start_time": "2021-11-30T00:44:50.150711Z"
    }
   },
   "outputs": [
    {
     "data": {
      "text/plain": [
       "42"
      ]
     },
     "execution_count": 29,
     "metadata": {},
     "output_type": "execute_result"
    }
   ],
   "source": [
    "# 경찰서 이름 통일 완성\n",
    "len(df12.jur_stn.unique())"
   ]
  },
  {
   "cell_type": "markdown",
   "id": "4675253c",
   "metadata": {},
   "source": [
    "### 연도 통일하기"
   ]
  },
  {
   "cell_type": "code",
   "execution_count": 30,
   "id": "a4502082",
   "metadata": {
    "ExecuteTime": {
     "end_time": "2021-11-30T00:44:51.256324Z",
     "start_time": "2021-11-30T00:44:51.236578Z"
    }
   },
   "outputs": [],
   "source": [
    "df12['년도'] = df12['년도'].apply(lambda x : str(x)[:4])\n",
    "df12.drop('지방청', axis = 1, inplace = True)"
   ]
  },
  {
   "cell_type": "code",
   "execution_count": 31,
   "id": "f2b17565",
   "metadata": {
    "ExecuteTime": {
     "end_time": "2021-11-30T00:44:51.770147Z",
     "start_time": "2021-11-30T00:44:51.745369Z"
    }
   },
   "outputs": [
    {
     "data": {
      "text/html": [
       "<div>\n",
       "<style scoped>\n",
       "    .dataframe tbody tr th:only-of-type {\n",
       "        vertical-align: middle;\n",
       "    }\n",
       "\n",
       "    .dataframe tbody tr th {\n",
       "        vertical-align: top;\n",
       "    }\n",
       "\n",
       "    .dataframe thead th {\n",
       "        text-align: right;\n",
       "    }\n",
       "</style>\n",
       "<table border=\"1\" class=\"dataframe\">\n",
       "  <thead>\n",
       "    <tr style=\"text-align: right;\">\n",
       "      <th></th>\n",
       "      <th>년도</th>\n",
       "      <th>경찰관</th>\n",
       "      <th>jur_stn</th>\n",
       "    </tr>\n",
       "  </thead>\n",
       "  <tbody>\n",
       "  </tbody>\n",
       "</table>\n",
       "</div>"
      ],
      "text/plain": [
       "Empty DataFrame\n",
       "Columns: [년도, 경찰관, jur_stn]\n",
       "Index: []"
      ]
     },
     "execution_count": 31,
     "metadata": {},
     "output_type": "execute_result"
    }
   ],
   "source": [
    "df12[df12.jur_stn.str.contains(' ')]"
   ]
  },
  {
   "cell_type": "markdown",
   "id": "abfd99fa",
   "metadata": {},
   "source": [
    "### groupby로 연도별, 경찰서별 직원수 그룹핑"
   ]
  },
  {
   "cell_type": "code",
   "execution_count": 32,
   "id": "dc37ef69",
   "metadata": {
    "ExecuteTime": {
     "end_time": "2021-11-30T00:44:52.908441Z",
     "start_time": "2021-11-30T00:44:52.864014Z"
    }
   },
   "outputs": [
    {
     "data": {
      "text/html": [
       "<div>\n",
       "<style scoped>\n",
       "    .dataframe tbody tr th:only-of-type {\n",
       "        vertical-align: middle;\n",
       "    }\n",
       "\n",
       "    .dataframe tbody tr th {\n",
       "        vertical-align: top;\n",
       "    }\n",
       "\n",
       "    .dataframe thead th {\n",
       "        text-align: right;\n",
       "    }\n",
       "</style>\n",
       "<table border=\"1\" class=\"dataframe\">\n",
       "  <thead>\n",
       "    <tr style=\"text-align: right;\">\n",
       "      <th></th>\n",
       "      <th>년도</th>\n",
       "      <th>jur_stn</th>\n",
       "      <th>경찰관</th>\n",
       "    </tr>\n",
       "  </thead>\n",
       "  <tbody>\n",
       "    <tr>\n",
       "      <th>0</th>\n",
       "      <td>2016</td>\n",
       "      <td>마산동부경찰서</td>\n",
       "      <td>368</td>\n",
       "    </tr>\n",
       "    <tr>\n",
       "      <th>1</th>\n",
       "      <td>2016</td>\n",
       "      <td>마산중부경찰서</td>\n",
       "      <td>285</td>\n",
       "    </tr>\n",
       "    <tr>\n",
       "      <th>2</th>\n",
       "      <td>2016</td>\n",
       "      <td>서울강남경찰서</td>\n",
       "      <td>781</td>\n",
       "    </tr>\n",
       "    <tr>\n",
       "      <th>3</th>\n",
       "      <td>2016</td>\n",
       "      <td>서울강동경찰서</td>\n",
       "      <td>722</td>\n",
       "    </tr>\n",
       "    <tr>\n",
       "      <th>4</th>\n",
       "      <td>2016</td>\n",
       "      <td>서울강북경찰서</td>\n",
       "      <td>648</td>\n",
       "    </tr>\n",
       "    <tr>\n",
       "      <th>...</th>\n",
       "      <td>...</td>\n",
       "      <td>...</td>\n",
       "      <td>...</td>\n",
       "    </tr>\n",
       "    <tr>\n",
       "      <th>242</th>\n",
       "      <td>2021</td>\n",
       "      <td>수원중부경찰서</td>\n",
       "      <td>630</td>\n",
       "    </tr>\n",
       "    <tr>\n",
       "      <th>243</th>\n",
       "      <td>2021</td>\n",
       "      <td>진주경찰서</td>\n",
       "      <td>528</td>\n",
       "    </tr>\n",
       "    <tr>\n",
       "      <th>244</th>\n",
       "      <td>2021</td>\n",
       "      <td>진해경찰서</td>\n",
       "      <td>276</td>\n",
       "    </tr>\n",
       "    <tr>\n",
       "      <th>245</th>\n",
       "      <td>2021</td>\n",
       "      <td>창원서부경찰서</td>\n",
       "      <td>319</td>\n",
       "    </tr>\n",
       "    <tr>\n",
       "      <th>246</th>\n",
       "      <td>2021</td>\n",
       "      <td>창원중부경찰서</td>\n",
       "      <td>437</td>\n",
       "    </tr>\n",
       "  </tbody>\n",
       "</table>\n",
       "<p>247 rows × 3 columns</p>\n",
       "</div>"
      ],
      "text/plain": [
       "       년도  jur_stn  경찰관\n",
       "0    2016  마산동부경찰서  368\n",
       "1    2016  마산중부경찰서  285\n",
       "2    2016  서울강남경찰서  781\n",
       "3    2016  서울강동경찰서  722\n",
       "4    2016  서울강북경찰서  648\n",
       "..    ...      ...  ...\n",
       "242  2021  수원중부경찰서  630\n",
       "243  2021    진주경찰서  528\n",
       "244  2021    진해경찰서  276\n",
       "245  2021  창원서부경찰서  319\n",
       "246  2021  창원중부경찰서  437\n",
       "\n",
       "[247 rows x 3 columns]"
      ]
     },
     "execution_count": 32,
     "metadata": {},
     "output_type": "execute_result"
    }
   ],
   "source": [
    "# 16년부터 21년까지 경찰서별 경찰 직원 수\n",
    "df12_nm = df12.groupby(['년도','jur_stn'], as_index = False).sum()\n",
    "df12_nm"
   ]
  },
  {
   "cell_type": "code",
   "execution_count": 33,
   "id": "85268927",
   "metadata": {
    "ExecuteTime": {
     "end_time": "2021-11-30T00:44:53.377772Z",
     "start_time": "2021-11-30T00:44:53.350014Z"
    }
   },
   "outputs": [
    {
     "data": {
      "text/html": [
       "<div>\n",
       "<style scoped>\n",
       "    .dataframe tbody tr th:only-of-type {\n",
       "        vertical-align: middle;\n",
       "    }\n",
       "\n",
       "    .dataframe tbody tr th {\n",
       "        vertical-align: top;\n",
       "    }\n",
       "\n",
       "    .dataframe thead th {\n",
       "        text-align: right;\n",
       "    }\n",
       "</style>\n",
       "<table border=\"1\" class=\"dataframe\">\n",
       "  <thead>\n",
       "    <tr style=\"text-align: right;\">\n",
       "      <th></th>\n",
       "      <th>년도</th>\n",
       "      <th>jur_stn</th>\n",
       "      <th>경찰관</th>\n",
       "    </tr>\n",
       "  </thead>\n",
       "  <tbody>\n",
       "    <tr>\n",
       "      <th>41</th>\n",
       "      <td>2017</td>\n",
       "      <td>마산동부경찰서</td>\n",
       "      <td>365</td>\n",
       "    </tr>\n",
       "    <tr>\n",
       "      <th>42</th>\n",
       "      <td>2017</td>\n",
       "      <td>마산중부경찰서</td>\n",
       "      <td>286</td>\n",
       "    </tr>\n",
       "    <tr>\n",
       "      <th>43</th>\n",
       "      <td>2017</td>\n",
       "      <td>서울강남경찰서</td>\n",
       "      <td>802</td>\n",
       "    </tr>\n",
       "    <tr>\n",
       "      <th>44</th>\n",
       "      <td>2017</td>\n",
       "      <td>서울강동경찰서</td>\n",
       "      <td>733</td>\n",
       "    </tr>\n",
       "    <tr>\n",
       "      <th>45</th>\n",
       "      <td>2017</td>\n",
       "      <td>서울강북경찰서</td>\n",
       "      <td>655</td>\n",
       "    </tr>\n",
       "    <tr>\n",
       "      <th>...</th>\n",
       "      <td>...</td>\n",
       "      <td>...</td>\n",
       "      <td>...</td>\n",
       "    </tr>\n",
       "    <tr>\n",
       "      <th>200</th>\n",
       "      <td>2020</td>\n",
       "      <td>수원중부경찰서</td>\n",
       "      <td>636</td>\n",
       "    </tr>\n",
       "    <tr>\n",
       "      <th>201</th>\n",
       "      <td>2020</td>\n",
       "      <td>진주경찰서</td>\n",
       "      <td>526</td>\n",
       "    </tr>\n",
       "    <tr>\n",
       "      <th>202</th>\n",
       "      <td>2020</td>\n",
       "      <td>진해경찰서</td>\n",
       "      <td>276</td>\n",
       "    </tr>\n",
       "    <tr>\n",
       "      <th>203</th>\n",
       "      <td>2020</td>\n",
       "      <td>창원서부경찰서</td>\n",
       "      <td>318</td>\n",
       "    </tr>\n",
       "    <tr>\n",
       "      <th>204</th>\n",
       "      <td>2020</td>\n",
       "      <td>창원중부경찰서</td>\n",
       "      <td>439</td>\n",
       "    </tr>\n",
       "  </tbody>\n",
       "</table>\n",
       "<p>164 rows × 3 columns</p>\n",
       "</div>"
      ],
      "text/plain": [
       "       년도  jur_stn  경찰관\n",
       "41   2017  마산동부경찰서  365\n",
       "42   2017  마산중부경찰서  286\n",
       "43   2017  서울강남경찰서  802\n",
       "44   2017  서울강동경찰서  733\n",
       "45   2017  서울강북경찰서  655\n",
       "..    ...      ...  ...\n",
       "200  2020  수원중부경찰서  636\n",
       "201  2020    진주경찰서  526\n",
       "202  2020    진해경찰서  276\n",
       "203  2020  창원서부경찰서  318\n",
       "204  2020  창원중부경찰서  439\n",
       "\n",
       "[164 rows x 3 columns]"
      ]
     },
     "execution_count": 33,
     "metadata": {},
     "output_type": "execute_result"
    }
   ],
   "source": [
    "df12 = df12_nm[df12_nm['년도'].apply(lambda x : int(x) >= 2017)]\n",
    "df12 =  df12[df12['년도'].apply(lambda x : int(x) < 2021)]\n",
    "df12"
   ]
  },
  {
   "cell_type": "code",
   "execution_count": 34,
   "id": "90c4176c",
   "metadata": {
    "ExecuteTime": {
     "end_time": "2021-11-30T00:44:56.280112Z",
     "start_time": "2021-11-30T00:44:56.256029Z"
    }
   },
   "outputs": [
    {
     "data": {
      "text/plain": [
       "2018    41\n",
       "2019    41\n",
       "2020    41\n",
       "2017    41\n",
       "Name: 년도, dtype: int64"
      ]
     },
     "execution_count": 34,
     "metadata": {},
     "output_type": "execute_result"
    }
   ],
   "source": [
    "df12.년도.value_counts()"
   ]
  },
  {
   "cell_type": "code",
   "execution_count": 35,
   "id": "38c497e0",
   "metadata": {
    "ExecuteTime": {
     "end_time": "2021-11-30T00:44:56.505383Z",
     "start_time": "2021-11-30T00:44:56.477319Z"
    }
   },
   "outputs": [
    {
     "data": {
      "text/html": [
       "<div>\n",
       "<style scoped>\n",
       "    .dataframe tbody tr th:only-of-type {\n",
       "        vertical-align: middle;\n",
       "    }\n",
       "\n",
       "    .dataframe tbody tr th {\n",
       "        vertical-align: top;\n",
       "    }\n",
       "\n",
       "    .dataframe thead th {\n",
       "        text-align: right;\n",
       "    }\n",
       "</style>\n",
       "<table border=\"1\" class=\"dataframe\">\n",
       "  <thead>\n",
       "    <tr style=\"text-align: right;\">\n",
       "      <th></th>\n",
       "      <th>date</th>\n",
       "      <th>jur_stn</th>\n",
       "      <th>pol_num</th>\n",
       "    </tr>\n",
       "  </thead>\n",
       "  <tbody>\n",
       "    <tr>\n",
       "      <th>41</th>\n",
       "      <td>2017</td>\n",
       "      <td>마산동부경찰서</td>\n",
       "      <td>365</td>\n",
       "    </tr>\n",
       "    <tr>\n",
       "      <th>42</th>\n",
       "      <td>2017</td>\n",
       "      <td>마산중부경찰서</td>\n",
       "      <td>286</td>\n",
       "    </tr>\n",
       "    <tr>\n",
       "      <th>43</th>\n",
       "      <td>2017</td>\n",
       "      <td>서울강남경찰서</td>\n",
       "      <td>802</td>\n",
       "    </tr>\n",
       "    <tr>\n",
       "      <th>44</th>\n",
       "      <td>2017</td>\n",
       "      <td>서울강동경찰서</td>\n",
       "      <td>733</td>\n",
       "    </tr>\n",
       "    <tr>\n",
       "      <th>45</th>\n",
       "      <td>2017</td>\n",
       "      <td>서울강북경찰서</td>\n",
       "      <td>655</td>\n",
       "    </tr>\n",
       "    <tr>\n",
       "      <th>...</th>\n",
       "      <td>...</td>\n",
       "      <td>...</td>\n",
       "      <td>...</td>\n",
       "    </tr>\n",
       "    <tr>\n",
       "      <th>200</th>\n",
       "      <td>2020</td>\n",
       "      <td>수원중부경찰서</td>\n",
       "      <td>636</td>\n",
       "    </tr>\n",
       "    <tr>\n",
       "      <th>201</th>\n",
       "      <td>2020</td>\n",
       "      <td>진주경찰서</td>\n",
       "      <td>526</td>\n",
       "    </tr>\n",
       "    <tr>\n",
       "      <th>202</th>\n",
       "      <td>2020</td>\n",
       "      <td>진해경찰서</td>\n",
       "      <td>276</td>\n",
       "    </tr>\n",
       "    <tr>\n",
       "      <th>203</th>\n",
       "      <td>2020</td>\n",
       "      <td>창원서부경찰서</td>\n",
       "      <td>318</td>\n",
       "    </tr>\n",
       "    <tr>\n",
       "      <th>204</th>\n",
       "      <td>2020</td>\n",
       "      <td>창원중부경찰서</td>\n",
       "      <td>439</td>\n",
       "    </tr>\n",
       "  </tbody>\n",
       "</table>\n",
       "<p>164 rows × 3 columns</p>\n",
       "</div>"
      ],
      "text/plain": [
       "     date  jur_stn  pol_num\n",
       "41   2017  마산동부경찰서      365\n",
       "42   2017  마산중부경찰서      286\n",
       "43   2017  서울강남경찰서      802\n",
       "44   2017  서울강동경찰서      733\n",
       "45   2017  서울강북경찰서      655\n",
       "..    ...      ...      ...\n",
       "200  2020  수원중부경찰서      636\n",
       "201  2020    진주경찰서      526\n",
       "202  2020    진해경찰서      276\n",
       "203  2020  창원서부경찰서      318\n",
       "204  2020  창원중부경찰서      439\n",
       "\n",
       "[164 rows x 3 columns]"
      ]
     },
     "execution_count": 35,
     "metadata": {},
     "output_type": "execute_result"
    }
   ],
   "source": [
    "df12.columns = ['date','jur_stn','pol_num']\n",
    "df12"
   ]
  },
  {
   "cell_type": "code",
   "execution_count": 36,
   "id": "9e821360",
   "metadata": {
    "ExecuteTime": {
     "end_time": "2021-11-30T00:44:56.762412Z",
     "start_time": "2021-11-30T00:44:56.743348Z"
    }
   },
   "outputs": [
    {
     "data": {
      "text/plain": [
       "41     2017(상반기)\n",
       "42     2017(상반기)\n",
       "43     2017(상반기)\n",
       "44     2017(상반기)\n",
       "45     2017(상반기)\n",
       "         ...    \n",
       "200    2020(상반기)\n",
       "201    2020(상반기)\n",
       "202    2020(상반기)\n",
       "203    2020(상반기)\n",
       "204    2020(상반기)\n",
       "Name: date, Length: 164, dtype: object"
      ]
     },
     "execution_count": 36,
     "metadata": {},
     "output_type": "execute_result"
    }
   ],
   "source": [
    "df2 = df12['date'].apply(lambda x : str(x) + '(상반기)')\n",
    "df2"
   ]
  },
  {
   "cell_type": "markdown",
   "id": "cceb249c",
   "metadata": {},
   "source": [
    "### date를 상, 하반기로 구분해서 같은 값 넣어주기"
   ]
  },
  {
   "cell_type": "code",
   "execution_count": 38,
   "id": "1c2e228e",
   "metadata": {
    "ExecuteTime": {
     "end_time": "2021-11-30T00:44:59.498252Z",
     "start_time": "2021-11-30T00:44:59.487808Z"
    }
   },
   "outputs": [],
   "source": [
    "df2 = df12.copy()"
   ]
  },
  {
   "cell_type": "code",
   "execution_count": 39,
   "id": "fcdd2952",
   "metadata": {
    "ExecuteTime": {
     "end_time": "2021-11-30T00:45:00.075589Z",
     "start_time": "2021-11-30T00:45:00.038589Z"
    }
   },
   "outputs": [
    {
     "data": {
      "text/html": [
       "<div>\n",
       "<style scoped>\n",
       "    .dataframe tbody tr th:only-of-type {\n",
       "        vertical-align: middle;\n",
       "    }\n",
       "\n",
       "    .dataframe tbody tr th {\n",
       "        vertical-align: top;\n",
       "    }\n",
       "\n",
       "    .dataframe thead th {\n",
       "        text-align: right;\n",
       "    }\n",
       "</style>\n",
       "<table border=\"1\" class=\"dataframe\">\n",
       "  <thead>\n",
       "    <tr style=\"text-align: right;\">\n",
       "      <th></th>\n",
       "      <th>date</th>\n",
       "      <th>jur_stn</th>\n",
       "      <th>pol_num</th>\n",
       "    </tr>\n",
       "  </thead>\n",
       "  <tbody>\n",
       "    <tr>\n",
       "      <th>41</th>\n",
       "      <td>2017</td>\n",
       "      <td>마산동부경찰서</td>\n",
       "      <td>365</td>\n",
       "    </tr>\n",
       "    <tr>\n",
       "      <th>42</th>\n",
       "      <td>2017</td>\n",
       "      <td>마산중부경찰서</td>\n",
       "      <td>286</td>\n",
       "    </tr>\n",
       "    <tr>\n",
       "      <th>43</th>\n",
       "      <td>2017</td>\n",
       "      <td>서울강남경찰서</td>\n",
       "      <td>802</td>\n",
       "    </tr>\n",
       "    <tr>\n",
       "      <th>44</th>\n",
       "      <td>2017</td>\n",
       "      <td>서울강동경찰서</td>\n",
       "      <td>733</td>\n",
       "    </tr>\n",
       "    <tr>\n",
       "      <th>45</th>\n",
       "      <td>2017</td>\n",
       "      <td>서울강북경찰서</td>\n",
       "      <td>655</td>\n",
       "    </tr>\n",
       "    <tr>\n",
       "      <th>...</th>\n",
       "      <td>...</td>\n",
       "      <td>...</td>\n",
       "      <td>...</td>\n",
       "    </tr>\n",
       "    <tr>\n",
       "      <th>200</th>\n",
       "      <td>2020</td>\n",
       "      <td>수원중부경찰서</td>\n",
       "      <td>636</td>\n",
       "    </tr>\n",
       "    <tr>\n",
       "      <th>201</th>\n",
       "      <td>2020</td>\n",
       "      <td>진주경찰서</td>\n",
       "      <td>526</td>\n",
       "    </tr>\n",
       "    <tr>\n",
       "      <th>202</th>\n",
       "      <td>2020</td>\n",
       "      <td>진해경찰서</td>\n",
       "      <td>276</td>\n",
       "    </tr>\n",
       "    <tr>\n",
       "      <th>203</th>\n",
       "      <td>2020</td>\n",
       "      <td>창원서부경찰서</td>\n",
       "      <td>318</td>\n",
       "    </tr>\n",
       "    <tr>\n",
       "      <th>204</th>\n",
       "      <td>2020</td>\n",
       "      <td>창원중부경찰서</td>\n",
       "      <td>439</td>\n",
       "    </tr>\n",
       "  </tbody>\n",
       "</table>\n",
       "<p>164 rows × 3 columns</p>\n",
       "</div>"
      ],
      "text/plain": [
       "     date  jur_stn  pol_num\n",
       "41   2017  마산동부경찰서      365\n",
       "42   2017  마산중부경찰서      286\n",
       "43   2017  서울강남경찰서      802\n",
       "44   2017  서울강동경찰서      733\n",
       "45   2017  서울강북경찰서      655\n",
       "..    ...      ...      ...\n",
       "200  2020  수원중부경찰서      636\n",
       "201  2020    진주경찰서      526\n",
       "202  2020    진해경찰서      276\n",
       "203  2020  창원서부경찰서      318\n",
       "204  2020  창원중부경찰서      439\n",
       "\n",
       "[164 rows x 3 columns]"
      ]
     },
     "execution_count": 39,
     "metadata": {},
     "output_type": "execute_result"
    }
   ],
   "source": [
    "df2"
   ]
  },
  {
   "cell_type": "code",
   "execution_count": 40,
   "id": "218cca1f",
   "metadata": {
    "ExecuteTime": {
     "end_time": "2021-11-30T00:45:00.467734Z",
     "start_time": "2021-11-30T00:45:00.460720Z"
    }
   },
   "outputs": [],
   "source": [
    "df12['year'] = df12['date'].apply(lambda x : str(x) + '(상반기)')"
   ]
  },
  {
   "cell_type": "code",
   "execution_count": 41,
   "id": "013a036a",
   "metadata": {
    "ExecuteTime": {
     "end_time": "2021-11-30T00:45:01.391386Z",
     "start_time": "2021-11-30T00:45:01.382290Z"
    }
   },
   "outputs": [],
   "source": [
    "df2['year'] = df2['date'].apply(lambda x : str(x) + '(하반기)')"
   ]
  },
  {
   "cell_type": "code",
   "execution_count": 42,
   "id": "91b0451e",
   "metadata": {
    "ExecuteTime": {
     "end_time": "2021-11-30T00:45:02.746150Z",
     "start_time": "2021-11-30T00:45:02.713242Z"
    }
   },
   "outputs": [
    {
     "data": {
      "text/html": [
       "<div>\n",
       "<style scoped>\n",
       "    .dataframe tbody tr th:only-of-type {\n",
       "        vertical-align: middle;\n",
       "    }\n",
       "\n",
       "    .dataframe tbody tr th {\n",
       "        vertical-align: top;\n",
       "    }\n",
       "\n",
       "    .dataframe thead th {\n",
       "        text-align: right;\n",
       "    }\n",
       "</style>\n",
       "<table border=\"1\" class=\"dataframe\">\n",
       "  <thead>\n",
       "    <tr style=\"text-align: right;\">\n",
       "      <th></th>\n",
       "      <th>date</th>\n",
       "      <th>jur_stn</th>\n",
       "      <th>pol_num</th>\n",
       "      <th>year</th>\n",
       "    </tr>\n",
       "  </thead>\n",
       "  <tbody>\n",
       "    <tr>\n",
       "      <th>41</th>\n",
       "      <td>2017</td>\n",
       "      <td>마산동부경찰서</td>\n",
       "      <td>365</td>\n",
       "      <td>2017(상반기)</td>\n",
       "    </tr>\n",
       "    <tr>\n",
       "      <th>64</th>\n",
       "      <td>2017</td>\n",
       "      <td>서울수서경찰서</td>\n",
       "      <td>621</td>\n",
       "      <td>2017(상반기)</td>\n",
       "    </tr>\n",
       "    <tr>\n",
       "      <th>65</th>\n",
       "      <td>2017</td>\n",
       "      <td>서울양천경찰서</td>\n",
       "      <td>765</td>\n",
       "      <td>2017(상반기)</td>\n",
       "    </tr>\n",
       "    <tr>\n",
       "      <th>66</th>\n",
       "      <td>2017</td>\n",
       "      <td>서울영등포경찰서</td>\n",
       "      <td>958</td>\n",
       "      <td>2017(상반기)</td>\n",
       "    </tr>\n",
       "    <tr>\n",
       "      <th>67</th>\n",
       "      <td>2017</td>\n",
       "      <td>서울용산경찰서</td>\n",
       "      <td>683</td>\n",
       "      <td>2017(상반기)</td>\n",
       "    </tr>\n",
       "    <tr>\n",
       "      <th>...</th>\n",
       "      <td>...</td>\n",
       "      <td>...</td>\n",
       "      <td>...</td>\n",
       "      <td>...</td>\n",
       "    </tr>\n",
       "    <tr>\n",
       "      <th>179</th>\n",
       "      <td>2020</td>\n",
       "      <td>서울마포경찰서</td>\n",
       "      <td>875</td>\n",
       "      <td>2020(하반기)</td>\n",
       "    </tr>\n",
       "    <tr>\n",
       "      <th>180</th>\n",
       "      <td>2020</td>\n",
       "      <td>서울방배경찰서</td>\n",
       "      <td>354</td>\n",
       "      <td>2020(하반기)</td>\n",
       "    </tr>\n",
       "    <tr>\n",
       "      <th>181</th>\n",
       "      <td>2020</td>\n",
       "      <td>서울서대문경찰서</td>\n",
       "      <td>670</td>\n",
       "      <td>2020(하반기)</td>\n",
       "    </tr>\n",
       "    <tr>\n",
       "      <th>173</th>\n",
       "      <td>2020</td>\n",
       "      <td>서울금천경찰서</td>\n",
       "      <td>558</td>\n",
       "      <td>2020(하반기)</td>\n",
       "    </tr>\n",
       "    <tr>\n",
       "      <th>204</th>\n",
       "      <td>2020</td>\n",
       "      <td>창원중부경찰서</td>\n",
       "      <td>439</td>\n",
       "      <td>2020(하반기)</td>\n",
       "    </tr>\n",
       "  </tbody>\n",
       "</table>\n",
       "<p>328 rows × 4 columns</p>\n",
       "</div>"
      ],
      "text/plain": [
       "     date   jur_stn  pol_num       year\n",
       "41   2017   마산동부경찰서      365  2017(상반기)\n",
       "64   2017   서울수서경찰서      621  2017(상반기)\n",
       "65   2017   서울양천경찰서      765  2017(상반기)\n",
       "66   2017  서울영등포경찰서      958  2017(상반기)\n",
       "67   2017   서울용산경찰서      683  2017(상반기)\n",
       "..    ...       ...      ...        ...\n",
       "179  2020   서울마포경찰서      875  2020(하반기)\n",
       "180  2020   서울방배경찰서      354  2020(하반기)\n",
       "181  2020  서울서대문경찰서      670  2020(하반기)\n",
       "173  2020   서울금천경찰서      558  2020(하반기)\n",
       "204  2020   창원중부경찰서      439  2020(하반기)\n",
       "\n",
       "[328 rows x 4 columns]"
      ]
     },
     "execution_count": 42,
     "metadata": {},
     "output_type": "execute_result"
    }
   ],
   "source": [
    "df = pd.concat([df12,df2])\n",
    "df.sort_values(by = 'year')"
   ]
  },
  {
   "cell_type": "code",
   "execution_count": 43,
   "id": "39f89107",
   "metadata": {
    "ExecuteTime": {
     "end_time": "2021-11-30T00:45:05.625444Z",
     "start_time": "2021-11-30T00:45:05.605098Z"
    }
   },
   "outputs": [
    {
     "data": {
      "text/plain": [
       "array(['2017(상반기)', '2018(상반기)', '2019(상반기)', '2020(상반기)', '2017(하반기)',\n",
       "       '2018(하반기)', '2019(하반기)', '2020(하반기)'], dtype=object)"
      ]
     },
     "execution_count": 43,
     "metadata": {},
     "output_type": "execute_result"
    }
   ],
   "source": [
    "df.year.unique()"
   ]
  },
  {
   "cell_type": "code",
   "execution_count": 45,
   "id": "81fecaad",
   "metadata": {
    "ExecuteTime": {
     "end_time": "2021-11-30T00:45:21.462609Z",
     "start_time": "2021-11-30T00:45:21.429597Z"
    }
   },
   "outputs": [
    {
     "data": {
      "text/html": [
       "<div>\n",
       "<style scoped>\n",
       "    .dataframe tbody tr th:only-of-type {\n",
       "        vertical-align: middle;\n",
       "    }\n",
       "\n",
       "    .dataframe tbody tr th {\n",
       "        vertical-align: top;\n",
       "    }\n",
       "\n",
       "    .dataframe thead th {\n",
       "        text-align: right;\n",
       "    }\n",
       "</style>\n",
       "<table border=\"1\" class=\"dataframe\">\n",
       "  <thead>\n",
       "    <tr style=\"text-align: right;\">\n",
       "      <th></th>\n",
       "      <th>year</th>\n",
       "      <th>jur_stn</th>\n",
       "      <th>pol_num</th>\n",
       "    </tr>\n",
       "  </thead>\n",
       "  <tbody>\n",
       "    <tr>\n",
       "      <th>0</th>\n",
       "      <td>2017(상반기)</td>\n",
       "      <td>마산동부경찰서</td>\n",
       "      <td>365</td>\n",
       "    </tr>\n",
       "    <tr>\n",
       "      <th>1</th>\n",
       "      <td>2017(상반기)</td>\n",
       "      <td>마산중부경찰서</td>\n",
       "      <td>286</td>\n",
       "    </tr>\n",
       "    <tr>\n",
       "      <th>2</th>\n",
       "      <td>2017(상반기)</td>\n",
       "      <td>서울강남경찰서</td>\n",
       "      <td>802</td>\n",
       "    </tr>\n",
       "    <tr>\n",
       "      <th>3</th>\n",
       "      <td>2017(상반기)</td>\n",
       "      <td>서울강동경찰서</td>\n",
       "      <td>733</td>\n",
       "    </tr>\n",
       "    <tr>\n",
       "      <th>4</th>\n",
       "      <td>2017(상반기)</td>\n",
       "      <td>서울강북경찰서</td>\n",
       "      <td>655</td>\n",
       "    </tr>\n",
       "    <tr>\n",
       "      <th>...</th>\n",
       "      <td>...</td>\n",
       "      <td>...</td>\n",
       "      <td>...</td>\n",
       "    </tr>\n",
       "    <tr>\n",
       "      <th>323</th>\n",
       "      <td>2020(하반기)</td>\n",
       "      <td>수원중부경찰서</td>\n",
       "      <td>636</td>\n",
       "    </tr>\n",
       "    <tr>\n",
       "      <th>324</th>\n",
       "      <td>2020(하반기)</td>\n",
       "      <td>진주경찰서</td>\n",
       "      <td>526</td>\n",
       "    </tr>\n",
       "    <tr>\n",
       "      <th>325</th>\n",
       "      <td>2020(하반기)</td>\n",
       "      <td>진해경찰서</td>\n",
       "      <td>276</td>\n",
       "    </tr>\n",
       "    <tr>\n",
       "      <th>326</th>\n",
       "      <td>2020(하반기)</td>\n",
       "      <td>창원서부경찰서</td>\n",
       "      <td>318</td>\n",
       "    </tr>\n",
       "    <tr>\n",
       "      <th>327</th>\n",
       "      <td>2020(하반기)</td>\n",
       "      <td>창원중부경찰서</td>\n",
       "      <td>439</td>\n",
       "    </tr>\n",
       "  </tbody>\n",
       "</table>\n",
       "<p>328 rows × 3 columns</p>\n",
       "</div>"
      ],
      "text/plain": [
       "          year  jur_stn  pol_num\n",
       "0    2017(상반기)  마산동부경찰서      365\n",
       "1    2017(상반기)  마산중부경찰서      286\n",
       "2    2017(상반기)  서울강남경찰서      802\n",
       "3    2017(상반기)  서울강동경찰서      733\n",
       "4    2017(상반기)  서울강북경찰서      655\n",
       "..         ...      ...      ...\n",
       "323  2020(하반기)  수원중부경찰서      636\n",
       "324  2020(하반기)    진주경찰서      526\n",
       "325  2020(하반기)    진해경찰서      276\n",
       "326  2020(하반기)  창원서부경찰서      318\n",
       "327  2020(하반기)  창원중부경찰서      439\n",
       "\n",
       "[328 rows x 3 columns]"
      ]
     },
     "execution_count": 45,
     "metadata": {},
     "output_type": "execute_result"
    }
   ],
   "source": [
    "df_pol = df.groupby(['year','jur_stn'],as_index = False).sum()\n",
    "df_pol"
   ]
  },
  {
   "cell_type": "code",
   "execution_count": 46,
   "id": "65310a64",
   "metadata": {
    "ExecuteTime": {
     "end_time": "2021-11-30T00:47:34.633887Z",
     "start_time": "2021-11-30T00:47:34.607370Z"
    }
   },
   "outputs": [],
   "source": [
    "df_pol.to_csv('./12번.경찰직원현황_total.csv')"
   ]
  },
  {
   "cell_type": "code",
   "execution_count": null,
   "id": "d40272bb",
   "metadata": {},
   "outputs": [],
   "source": []
  },
  {
   "cell_type": "code",
   "execution_count": null,
   "id": "b5c88c44",
   "metadata": {},
   "outputs": [],
   "source": []
  }
 ],
 "metadata": {
  "kernelspec": {
   "display_name": "Python 3",
   "language": "python",
   "name": "python3"
  },
  "language_info": {
   "codemirror_mode": {
    "name": "ipython",
    "version": 3
   },
   "file_extension": ".py",
   "mimetype": "text/x-python",
   "name": "python",
   "nbconvert_exporter": "python",
   "pygments_lexer": "ipython3",
   "version": "3.8.8"
  },
  "toc": {
   "base_numbering": 1,
   "nav_menu": {},
   "number_sections": true,
   "sideBar": true,
   "skip_h1_title": false,
   "title_cell": "Table of Contents",
   "title_sidebar": "Contents",
   "toc_cell": false,
   "toc_position": {},
   "toc_section_display": true,
   "toc_window_display": false
  },
  "varInspector": {
   "cols": {
    "lenName": 16,
    "lenType": 16,
    "lenVar": 40
   },
   "kernels_config": {
    "python": {
     "delete_cmd_postfix": "",
     "delete_cmd_prefix": "del ",
     "library": "var_list.py",
     "varRefreshCmd": "print(var_dic_list())"
    },
    "r": {
     "delete_cmd_postfix": ") ",
     "delete_cmd_prefix": "rm(",
     "library": "var_list.r",
     "varRefreshCmd": "cat(var_dic_list()) "
    }
   },
   "types_to_exclude": [
    "module",
    "function",
    "builtin_function_or_method",
    "instance",
    "_Feature"
   ],
   "window_display": false
  }
 },
 "nbformat": 4,
 "nbformat_minor": 5
}
