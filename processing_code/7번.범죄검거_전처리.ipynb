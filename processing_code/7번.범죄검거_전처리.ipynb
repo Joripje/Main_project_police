{
 "cells": [
  {
   "cell_type": "markdown",
   "id": "3da13355",
   "metadata": {},
   "source": [
    "# 7. 범죄검거"
   ]
  },
  {
   "cell_type": "code",
   "execution_count": 52,
   "id": "23c726ff",
   "metadata": {
    "ExecuteTime": {
     "end_time": "2021-11-29T08:37:34.005770Z",
     "start_time": "2021-11-29T08:37:33.991781Z"
    }
   },
   "outputs": [],
   "source": [
    "import pandas as pd\n",
    "import numpy as np\n",
    "import datetime"
   ]
  },
  {
   "cell_type": "code",
   "execution_count": 53,
   "id": "3b55e7d9",
   "metadata": {
    "ExecuteTime": {
     "end_time": "2021-11-29T08:37:35.331255Z",
     "start_time": "2021-11-29T08:37:34.494431Z"
    }
   },
   "outputs": [],
   "source": [
    "df7 = pd.read_csv(\"./data/7.범죄검거원표.csv\")\n",
    "base = pd.read_csv(\"./data/base_df.csv\")"
   ]
  },
  {
   "cell_type": "code",
   "execution_count": 54,
   "id": "4ba9c824",
   "metadata": {
    "ExecuteTime": {
     "end_time": "2021-11-29T08:37:35.471855Z",
     "start_time": "2021-11-29T08:37:35.365143Z"
    }
   },
   "outputs": [
    {
     "data": {
      "text/plain": [
       "array(['경남마산중부경찰서', '경남진해경찰서', '경남마산동부경찰서', '서울강서경찰서', '서울구로경찰서',\n",
       "       '서울금천경찰서', '서울종로경찰서', '서울광진경찰서', '서울성북경찰서', '서울성동경찰서', '서울영등포경찰서',\n",
       "       '서울송파경찰서', '서울양천경찰서', '서울동작경찰서', '서울동대문경찰서', '서울은평경찰서', '서울관악경찰서',\n",
       "       '서울중랑경찰서', '서울강남경찰서', '서울수서경찰서', '서울마포경찰서', '서울노원경찰서', '서울용산경찰서',\n",
       "       '서울서대문경찰서', '서울도봉경찰서', '서울서부경찰서', '서울남대문경찰서', '서울강동경찰서', '서울중부경찰서',\n",
       "       '서울혜화경찰서', '서울서초경찰서', '서울강북경찰서', '서울방배경찰서', '서울종암경찰서', '충남세종경찰서',\n",
       "       '경기수원남부경찰서', '경기수원서부경찰서', '경기수원중부경찰서', '경남진주경찰서', '경남창원중부경찰서',\n",
       "       '경남창원서부경찰서'], dtype=object)"
      ]
     },
     "execution_count": 54,
     "metadata": {},
     "output_type": "execute_result"
    }
   ],
   "source": [
    "df7[\"jur_stn\"].unique()"
   ]
  },
  {
   "cell_type": "code",
   "execution_count": 55,
   "id": "5deb2b72",
   "metadata": {
    "ExecuteTime": {
     "end_time": "2021-11-29T08:37:37.823536Z",
     "start_time": "2021-11-29T08:37:35.506764Z"
    }
   },
   "outputs": [],
   "source": [
    "df7[\"jur_stn\"] = df7[\"jur_stn\"].str.replace(\"경기\", \"\")\n",
    "df7[\"jur_stn\"] = df7[\"jur_stn\"].str.replace(\"충남\", \"\")\n",
    "df7[\"jur_stn\"] = df7[\"jur_stn\"].str.replace(\"경남\", \"\")"
   ]
  },
  {
   "cell_type": "code",
   "execution_count": 56,
   "id": "cb5019b2",
   "metadata": {
    "ExecuteTime": {
     "end_time": "2021-11-29T08:37:37.978136Z",
     "start_time": "2021-11-29T08:37:37.855450Z"
    }
   },
   "outputs": [],
   "source": [
    "df7_list = set(list(df7[\"jur_stn\"].unique()))"
   ]
  },
  {
   "cell_type": "code",
   "execution_count": 57,
   "id": "55684290",
   "metadata": {
    "ExecuteTime": {
     "end_time": "2021-11-29T08:37:38.037963Z",
     "start_time": "2021-11-29T08:37:38.025997Z"
    }
   },
   "outputs": [
    {
     "data": {
      "text/plain": [
       "set()"
      ]
     },
     "execution_count": 57,
     "metadata": {},
     "output_type": "execute_result"
    }
   ],
   "source": [
    "police_list = list(base[\"jur_stn\"].unique())\n",
    "plist_set = set(police_list)\n",
    "df7_list - plist_set"
   ]
  },
  {
   "cell_type": "code",
   "execution_count": 58,
   "id": "6770290d",
   "metadata": {
    "ExecuteTime": {
     "end_time": "2021-11-29T08:37:38.083840Z",
     "start_time": "2021-11-29T08:37:38.070876Z"
    }
   },
   "outputs": [
    {
     "data": {
      "text/plain": [
       "41"
      ]
     },
     "execution_count": 58,
     "metadata": {},
     "output_type": "execute_result"
    }
   ],
   "source": [
    "len(df7_list)"
   ]
  },
  {
   "cell_type": "code",
   "execution_count": 59,
   "id": "ef577ee9",
   "metadata": {
    "ExecuteTime": {
     "end_time": "2021-11-29T08:37:38.843810Z",
     "start_time": "2021-11-29T08:37:38.116751Z"
    }
   },
   "outputs": [],
   "source": [
    "df7[\"date\"] = df7[\"date\"].astype(\"str\")"
   ]
  },
  {
   "cell_type": "code",
   "execution_count": 60,
   "id": "b9b52b9a",
   "metadata": {
    "ExecuteTime": {
     "end_time": "2021-11-29T08:37:49.713804Z",
     "start_time": "2021-11-29T08:37:38.845816Z"
    }
   },
   "outputs": [],
   "source": [
    "def _str_to_date(x) :\n",
    "    try :\n",
    "        x = datetime.datetime.strptime(x, '%Y%m')\n",
    "    except ValueError :\n",
    "        x = datetime.datetime.strptime(x, '%m/%d/%Y')\n",
    "    return x \n",
    "\n",
    "df7['year'] = df7['date'].map( lambda x : _str_to_date(x))\n",
    "\n",
    "df7['year'] = pd.to_datetime(df7[\"year\"])"
   ]
  },
  {
   "cell_type": "code",
   "execution_count": 61,
   "id": "20d24303",
   "metadata": {
    "ExecuteTime": {
     "end_time": "2021-11-29T08:37:55.695777Z",
     "start_time": "2021-11-29T08:37:49.716754Z"
    }
   },
   "outputs": [],
   "source": [
    "def _date_to_year(x) :\n",
    "    if x < datetime.date(2017,1,1):\n",
    "        return '2016(이전)'\n",
    "    if x < datetime.date(2017, 7, 1) :\n",
    "        return \"2017(상반기)\"\n",
    "    if x < datetime.date(2018,1,1) :\n",
    "        return \"2017(하반기)\"\n",
    "    if x < datetime.date(2018,7,1) :\n",
    "        return \"2018(상반기)\"\n",
    "    if x < datetime.date(2019,1,1) :\n",
    "        return \"2018(하반기)\"\n",
    "    if x < datetime.date(2019,7,1) :\n",
    "        return \"2019(상반기)\"\n",
    "    return \"2019(하반기)\"\n",
    "\n",
    "df7[\"year\"] = df7[\"year\"].map(lambda x : _date_to_year(x))"
   ]
  },
  {
   "cell_type": "code",
   "execution_count": 62,
   "id": "0fe59dbc",
   "metadata": {
    "ExecuteTime": {
     "end_time": "2021-11-29T08:37:55.896242Z",
     "start_time": "2021-11-29T08:37:55.698771Z"
    }
   },
   "outputs": [],
   "source": [
    "df7.drop(\"date\", axis = 1, inplace=True)"
   ]
  },
  {
   "cell_type": "code",
   "execution_count": 63,
   "id": "8396fec1",
   "metadata": {
    "ExecuteTime": {
     "end_time": "2021-11-29T08:37:55.926161Z",
     "start_time": "2021-11-29T08:37:55.899234Z"
    }
   },
   "outputs": [
    {
     "data": {
      "text/html": [
       "<div>\n",
       "<style scoped>\n",
       "    .dataframe tbody tr th:only-of-type {\n",
       "        vertical-align: middle;\n",
       "    }\n",
       "\n",
       "    .dataframe tbody tr th {\n",
       "        vertical-align: top;\n",
       "    }\n",
       "\n",
       "    .dataframe thead th {\n",
       "        text-align: right;\n",
       "    }\n",
       "</style>\n",
       "<table border=\"1\" class=\"dataframe\">\n",
       "  <thead>\n",
       "    <tr style=\"text-align: right;\">\n",
       "      <th></th>\n",
       "      <th>jur_stn</th>\n",
       "      <th>crm</th>\n",
       "      <th>year</th>\n",
       "    </tr>\n",
       "  </thead>\n",
       "  <tbody>\n",
       "    <tr>\n",
       "      <th>0</th>\n",
       "      <td>마산중부경찰서</td>\n",
       "      <td>사기</td>\n",
       "      <td>2017(상반기)</td>\n",
       "    </tr>\n",
       "    <tr>\n",
       "      <th>1</th>\n",
       "      <td>마산중부경찰서</td>\n",
       "      <td>경범죄처벌법위반</td>\n",
       "      <td>2017(상반기)</td>\n",
       "    </tr>\n",
       "    <tr>\n",
       "      <th>2</th>\n",
       "      <td>마산중부경찰서</td>\n",
       "      <td>도로교통법위반(음주운전)</td>\n",
       "      <td>2016(이전)</td>\n",
       "    </tr>\n",
       "    <tr>\n",
       "      <th>3</th>\n",
       "      <td>마산중부경찰서</td>\n",
       "      <td>위계공무집행방해</td>\n",
       "      <td>2017(상반기)</td>\n",
       "    </tr>\n",
       "    <tr>\n",
       "      <th>4</th>\n",
       "      <td>마산중부경찰서</td>\n",
       "      <td>위계공무집행방해</td>\n",
       "      <td>2017(상반기)</td>\n",
       "    </tr>\n",
       "    <tr>\n",
       "      <th>...</th>\n",
       "      <td>...</td>\n",
       "      <td>...</td>\n",
       "      <td>...</td>\n",
       "    </tr>\n",
       "    <tr>\n",
       "      <th>928560</th>\n",
       "      <td>창원중부경찰서</td>\n",
       "      <td>교통사고처리특례법위반(치상)</td>\n",
       "      <td>2019(하반기)</td>\n",
       "    </tr>\n",
       "    <tr>\n",
       "      <th>928561</th>\n",
       "      <td>창원중부경찰서</td>\n",
       "      <td>사기</td>\n",
       "      <td>2019(하반기)</td>\n",
       "    </tr>\n",
       "    <tr>\n",
       "      <th>928562</th>\n",
       "      <td>창원중부경찰서</td>\n",
       "      <td>사기</td>\n",
       "      <td>2019(하반기)</td>\n",
       "    </tr>\n",
       "    <tr>\n",
       "      <th>928563</th>\n",
       "      <td>창원중부경찰서</td>\n",
       "      <td>사기</td>\n",
       "      <td>2019(하반기)</td>\n",
       "    </tr>\n",
       "    <tr>\n",
       "      <th>928564</th>\n",
       "      <td>창원서부경찰서</td>\n",
       "      <td>사기</td>\n",
       "      <td>2019(하반기)</td>\n",
       "    </tr>\n",
       "  </tbody>\n",
       "</table>\n",
       "<p>928565 rows × 3 columns</p>\n",
       "</div>"
      ],
      "text/plain": [
       "        jur_stn              crm       year\n",
       "0       마산중부경찰서               사기  2017(상반기)\n",
       "1       마산중부경찰서         경범죄처벌법위반  2017(상반기)\n",
       "2       마산중부경찰서    도로교통법위반(음주운전)   2016(이전)\n",
       "3       마산중부경찰서         위계공무집행방해  2017(상반기)\n",
       "4       마산중부경찰서         위계공무집행방해  2017(상반기)\n",
       "...         ...              ...        ...\n",
       "928560  창원중부경찰서  교통사고처리특례법위반(치상)  2019(하반기)\n",
       "928561  창원중부경찰서               사기  2019(하반기)\n",
       "928562  창원중부경찰서               사기  2019(하반기)\n",
       "928563  창원중부경찰서               사기  2019(하반기)\n",
       "928564  창원서부경찰서               사기  2019(하반기)\n",
       "\n",
       "[928565 rows x 3 columns]"
      ]
     },
     "execution_count": 63,
     "metadata": {},
     "output_type": "execute_result"
    }
   ],
   "source": [
    "df7"
   ]
  },
  {
   "cell_type": "code",
   "execution_count": 64,
   "id": "d0e2b798",
   "metadata": {
    "ExecuteTime": {
     "end_time": "2021-11-29T08:37:58.014179Z",
     "start_time": "2021-11-29T08:37:55.929155Z"
    }
   },
   "outputs": [],
   "source": [
    "df7.to_csv(\"./data/7번.범죄검거원표_proccessed.csv\", index = False)"
   ]
  },
  {
   "cell_type": "code",
   "execution_count": 65,
   "id": "feb19d19",
   "metadata": {
    "ExecuteTime": {
     "end_time": "2021-11-29T08:38:02.746219Z",
     "start_time": "2021-11-29T08:37:58.016813Z"
    }
   },
   "outputs": [],
   "source": [
    "df7.loc[df7['crm'].str.contains('절도'), ['theft_violence']] = 1\n",
    "df7.loc[df7['crm'].str.contains('폭력'), ['theft_violence']] = 1\n",
    "\n",
    "df7.loc[df7['crm'].str.contains('강도'), ['robber_murder']] = 1\n",
    "df7.loc[df7['crm'].str.contains('살인'), ['robber_murder']] = 1\n",
    "\n",
    "df7.loc[df7['crm'].str.contains('교통'), ['traffic']] = 1\n",
    "\n",
    "df7.loc[df7['crm'].str.contains('집회'), ['public']] = 1\n",
    "df7.loc[df7['crm'].str.contains('광고물'), ['public']] = 1\n",
    "df7.loc[df7['crm'].str.contains('국민기초'), ['public']] = 1"
   ]
  },
  {
   "cell_type": "code",
   "execution_count": 66,
   "id": "6e71b2ce",
   "metadata": {
    "ExecuteTime": {
     "end_time": "2021-11-29T08:38:03.255814Z",
     "start_time": "2021-11-29T08:38:03.039392Z"
    }
   },
   "outputs": [
    {
     "data": {
      "text/html": [
       "<div>\n",
       "<style scoped>\n",
       "    .dataframe tbody tr th:only-of-type {\n",
       "        vertical-align: middle;\n",
       "    }\n",
       "\n",
       "    .dataframe tbody tr th {\n",
       "        vertical-align: top;\n",
       "    }\n",
       "\n",
       "    .dataframe thead th {\n",
       "        text-align: right;\n",
       "    }\n",
       "</style>\n",
       "<table border=\"1\" class=\"dataframe\">\n",
       "  <thead>\n",
       "    <tr style=\"text-align: right;\">\n",
       "      <th></th>\n",
       "      <th>jur_stn</th>\n",
       "      <th>crm</th>\n",
       "      <th>year</th>\n",
       "      <th>theft_violence</th>\n",
       "      <th>robber_murder</th>\n",
       "      <th>traffic</th>\n",
       "      <th>public</th>\n",
       "    </tr>\n",
       "  </thead>\n",
       "  <tbody>\n",
       "    <tr>\n",
       "      <th>0</th>\n",
       "      <td>마산중부경찰서</td>\n",
       "      <td>사기</td>\n",
       "      <td>2017(상반기)</td>\n",
       "      <td>0.0</td>\n",
       "      <td>0.0</td>\n",
       "      <td>0.0</td>\n",
       "      <td>0.0</td>\n",
       "    </tr>\n",
       "    <tr>\n",
       "      <th>1</th>\n",
       "      <td>마산중부경찰서</td>\n",
       "      <td>경범죄처벌법위반</td>\n",
       "      <td>2017(상반기)</td>\n",
       "      <td>0.0</td>\n",
       "      <td>0.0</td>\n",
       "      <td>0.0</td>\n",
       "      <td>0.0</td>\n",
       "    </tr>\n",
       "    <tr>\n",
       "      <th>2</th>\n",
       "      <td>마산중부경찰서</td>\n",
       "      <td>도로교통법위반(음주운전)</td>\n",
       "      <td>2016(이전)</td>\n",
       "      <td>0.0</td>\n",
       "      <td>0.0</td>\n",
       "      <td>1.0</td>\n",
       "      <td>0.0</td>\n",
       "    </tr>\n",
       "    <tr>\n",
       "      <th>3</th>\n",
       "      <td>마산중부경찰서</td>\n",
       "      <td>위계공무집행방해</td>\n",
       "      <td>2017(상반기)</td>\n",
       "      <td>0.0</td>\n",
       "      <td>0.0</td>\n",
       "      <td>0.0</td>\n",
       "      <td>0.0</td>\n",
       "    </tr>\n",
       "    <tr>\n",
       "      <th>4</th>\n",
       "      <td>마산중부경찰서</td>\n",
       "      <td>위계공무집행방해</td>\n",
       "      <td>2017(상반기)</td>\n",
       "      <td>0.0</td>\n",
       "      <td>0.0</td>\n",
       "      <td>0.0</td>\n",
       "      <td>0.0</td>\n",
       "    </tr>\n",
       "    <tr>\n",
       "      <th>...</th>\n",
       "      <td>...</td>\n",
       "      <td>...</td>\n",
       "      <td>...</td>\n",
       "      <td>...</td>\n",
       "      <td>...</td>\n",
       "      <td>...</td>\n",
       "      <td>...</td>\n",
       "    </tr>\n",
       "    <tr>\n",
       "      <th>928560</th>\n",
       "      <td>창원중부경찰서</td>\n",
       "      <td>교통사고처리특례법위반(치상)</td>\n",
       "      <td>2019(하반기)</td>\n",
       "      <td>0.0</td>\n",
       "      <td>0.0</td>\n",
       "      <td>1.0</td>\n",
       "      <td>0.0</td>\n",
       "    </tr>\n",
       "    <tr>\n",
       "      <th>928561</th>\n",
       "      <td>창원중부경찰서</td>\n",
       "      <td>사기</td>\n",
       "      <td>2019(하반기)</td>\n",
       "      <td>0.0</td>\n",
       "      <td>0.0</td>\n",
       "      <td>0.0</td>\n",
       "      <td>0.0</td>\n",
       "    </tr>\n",
       "    <tr>\n",
       "      <th>928562</th>\n",
       "      <td>창원중부경찰서</td>\n",
       "      <td>사기</td>\n",
       "      <td>2019(하반기)</td>\n",
       "      <td>0.0</td>\n",
       "      <td>0.0</td>\n",
       "      <td>0.0</td>\n",
       "      <td>0.0</td>\n",
       "    </tr>\n",
       "    <tr>\n",
       "      <th>928563</th>\n",
       "      <td>창원중부경찰서</td>\n",
       "      <td>사기</td>\n",
       "      <td>2019(하반기)</td>\n",
       "      <td>0.0</td>\n",
       "      <td>0.0</td>\n",
       "      <td>0.0</td>\n",
       "      <td>0.0</td>\n",
       "    </tr>\n",
       "    <tr>\n",
       "      <th>928564</th>\n",
       "      <td>창원서부경찰서</td>\n",
       "      <td>사기</td>\n",
       "      <td>2019(하반기)</td>\n",
       "      <td>0.0</td>\n",
       "      <td>0.0</td>\n",
       "      <td>0.0</td>\n",
       "      <td>0.0</td>\n",
       "    </tr>\n",
       "  </tbody>\n",
       "</table>\n",
       "<p>928565 rows × 7 columns</p>\n",
       "</div>"
      ],
      "text/plain": [
       "        jur_stn              crm       year  theft_violence  robber_murder  \\\n",
       "0       마산중부경찰서               사기  2017(상반기)             0.0            0.0   \n",
       "1       마산중부경찰서         경범죄처벌법위반  2017(상반기)             0.0            0.0   \n",
       "2       마산중부경찰서    도로교통법위반(음주운전)   2016(이전)             0.0            0.0   \n",
       "3       마산중부경찰서         위계공무집행방해  2017(상반기)             0.0            0.0   \n",
       "4       마산중부경찰서         위계공무집행방해  2017(상반기)             0.0            0.0   \n",
       "...         ...              ...        ...             ...            ...   \n",
       "928560  창원중부경찰서  교통사고처리특례법위반(치상)  2019(하반기)             0.0            0.0   \n",
       "928561  창원중부경찰서               사기  2019(하반기)             0.0            0.0   \n",
       "928562  창원중부경찰서               사기  2019(하반기)             0.0            0.0   \n",
       "928563  창원중부경찰서               사기  2019(하반기)             0.0            0.0   \n",
       "928564  창원서부경찰서               사기  2019(하반기)             0.0            0.0   \n",
       "\n",
       "        traffic  public  \n",
       "0           0.0     0.0  \n",
       "1           0.0     0.0  \n",
       "2           1.0     0.0  \n",
       "3           0.0     0.0  \n",
       "4           0.0     0.0  \n",
       "...         ...     ...  \n",
       "928560      1.0     0.0  \n",
       "928561      0.0     0.0  \n",
       "928562      0.0     0.0  \n",
       "928563      0.0     0.0  \n",
       "928564      0.0     0.0  \n",
       "\n",
       "[928565 rows x 7 columns]"
      ]
     },
     "execution_count": 66,
     "metadata": {},
     "output_type": "execute_result"
    }
   ],
   "source": [
    "df7.fillna(0)"
   ]
  },
  {
   "cell_type": "code",
   "execution_count": 67,
   "id": "c78be24b",
   "metadata": {
    "ExecuteTime": {
     "end_time": "2021-11-29T08:38:03.655780Z",
     "start_time": "2021-11-29T08:38:03.304684Z"
    }
   },
   "outputs": [],
   "source": [
    "df_test = df7.groupby([\"jur_stn\", \"year\"], as_index=False).count()"
   ]
  },
  {
   "cell_type": "code",
   "execution_count": 68,
   "id": "6eaeb299",
   "metadata": {
    "ExecuteTime": {
     "end_time": "2021-11-29T08:38:03.733537Z",
     "start_time": "2021-11-29T08:38:03.705612Z"
    }
   },
   "outputs": [
    {
     "data": {
      "text/html": [
       "<div>\n",
       "<style scoped>\n",
       "    .dataframe tbody tr th:only-of-type {\n",
       "        vertical-align: middle;\n",
       "    }\n",
       "\n",
       "    .dataframe tbody tr th {\n",
       "        vertical-align: top;\n",
       "    }\n",
       "\n",
       "    .dataframe thead th {\n",
       "        text-align: right;\n",
       "    }\n",
       "</style>\n",
       "<table border=\"1\" class=\"dataframe\">\n",
       "  <thead>\n",
       "    <tr style=\"text-align: right;\">\n",
       "      <th></th>\n",
       "      <th>jur_stn</th>\n",
       "      <th>year</th>\n",
       "      <th>crm</th>\n",
       "      <th>theft_violence</th>\n",
       "      <th>robber_murder</th>\n",
       "      <th>traffic</th>\n",
       "      <th>public</th>\n",
       "    </tr>\n",
       "  </thead>\n",
       "  <tbody>\n",
       "    <tr>\n",
       "      <th>0</th>\n",
       "      <td>마산동부경찰서</td>\n",
       "      <td>2016(이전)</td>\n",
       "      <td>3</td>\n",
       "      <td>0</td>\n",
       "      <td>0</td>\n",
       "      <td>0</td>\n",
       "      <td>0</td>\n",
       "    </tr>\n",
       "    <tr>\n",
       "      <th>1</th>\n",
       "      <td>마산동부경찰서</td>\n",
       "      <td>2017(상반기)</td>\n",
       "      <td>2954</td>\n",
       "      <td>244</td>\n",
       "      <td>2</td>\n",
       "      <td>776</td>\n",
       "      <td>0</td>\n",
       "    </tr>\n",
       "    <tr>\n",
       "      <th>2</th>\n",
       "      <td>마산동부경찰서</td>\n",
       "      <td>2017(하반기)</td>\n",
       "      <td>2505</td>\n",
       "      <td>243</td>\n",
       "      <td>2</td>\n",
       "      <td>394</td>\n",
       "      <td>0</td>\n",
       "    </tr>\n",
       "    <tr>\n",
       "      <th>3</th>\n",
       "      <td>마산동부경찰서</td>\n",
       "      <td>2018(상반기)</td>\n",
       "      <td>2262</td>\n",
       "      <td>283</td>\n",
       "      <td>2</td>\n",
       "      <td>513</td>\n",
       "      <td>0</td>\n",
       "    </tr>\n",
       "    <tr>\n",
       "      <th>4</th>\n",
       "      <td>마산동부경찰서</td>\n",
       "      <td>2018(하반기)</td>\n",
       "      <td>2294</td>\n",
       "      <td>226</td>\n",
       "      <td>2</td>\n",
       "      <td>512</td>\n",
       "      <td>3</td>\n",
       "    </tr>\n",
       "    <tr>\n",
       "      <th>...</th>\n",
       "      <td>...</td>\n",
       "      <td>...</td>\n",
       "      <td>...</td>\n",
       "      <td>...</td>\n",
       "      <td>...</td>\n",
       "      <td>...</td>\n",
       "      <td>...</td>\n",
       "    </tr>\n",
       "    <tr>\n",
       "      <th>281</th>\n",
       "      <td>창원중부경찰서</td>\n",
       "      <td>2017(하반기)</td>\n",
       "      <td>3460</td>\n",
       "      <td>417</td>\n",
       "      <td>1</td>\n",
       "      <td>829</td>\n",
       "      <td>0</td>\n",
       "    </tr>\n",
       "    <tr>\n",
       "      <th>282</th>\n",
       "      <td>창원중부경찰서</td>\n",
       "      <td>2018(상반기)</td>\n",
       "      <td>3111</td>\n",
       "      <td>393</td>\n",
       "      <td>6</td>\n",
       "      <td>772</td>\n",
       "      <td>0</td>\n",
       "    </tr>\n",
       "    <tr>\n",
       "      <th>283</th>\n",
       "      <td>창원중부경찰서</td>\n",
       "      <td>2018(하반기)</td>\n",
       "      <td>3036</td>\n",
       "      <td>371</td>\n",
       "      <td>7</td>\n",
       "      <td>771</td>\n",
       "      <td>0</td>\n",
       "    </tr>\n",
       "    <tr>\n",
       "      <th>284</th>\n",
       "      <td>창원중부경찰서</td>\n",
       "      <td>2019(상반기)</td>\n",
       "      <td>3049</td>\n",
       "      <td>450</td>\n",
       "      <td>2</td>\n",
       "      <td>650</td>\n",
       "      <td>1</td>\n",
       "    </tr>\n",
       "    <tr>\n",
       "      <th>285</th>\n",
       "      <td>창원중부경찰서</td>\n",
       "      <td>2019(하반기)</td>\n",
       "      <td>3571</td>\n",
       "      <td>463</td>\n",
       "      <td>3</td>\n",
       "      <td>648</td>\n",
       "      <td>1</td>\n",
       "    </tr>\n",
       "  </tbody>\n",
       "</table>\n",
       "<p>286 rows × 7 columns</p>\n",
       "</div>"
      ],
      "text/plain": [
       "     jur_stn       year   crm  theft_violence  robber_murder  traffic  public\n",
       "0    마산동부경찰서   2016(이전)     3               0              0        0       0\n",
       "1    마산동부경찰서  2017(상반기)  2954             244              2      776       0\n",
       "2    마산동부경찰서  2017(하반기)  2505             243              2      394       0\n",
       "3    마산동부경찰서  2018(상반기)  2262             283              2      513       0\n",
       "4    마산동부경찰서  2018(하반기)  2294             226              2      512       3\n",
       "..       ...        ...   ...             ...            ...      ...     ...\n",
       "281  창원중부경찰서  2017(하반기)  3460             417              1      829       0\n",
       "282  창원중부경찰서  2018(상반기)  3111             393              6      772       0\n",
       "283  창원중부경찰서  2018(하반기)  3036             371              7      771       0\n",
       "284  창원중부경찰서  2019(상반기)  3049             450              2      650       1\n",
       "285  창원중부경찰서  2019(하반기)  3571             463              3      648       1\n",
       "\n",
       "[286 rows x 7 columns]"
      ]
     },
     "execution_count": 68,
     "metadata": {},
     "output_type": "execute_result"
    }
   ],
   "source": [
    "df_test"
   ]
  }
 ],
 "metadata": {
  "kernelspec": {
   "display_name": "Python 3",
   "language": "python",
   "name": "python3"
  },
  "language_info": {
   "codemirror_mode": {
    "name": "ipython",
    "version": 3
   },
   "file_extension": ".py",
   "mimetype": "text/x-python",
   "name": "python",
   "nbconvert_exporter": "python",
   "pygments_lexer": "ipython3",
   "version": "3.8.8"
  },
  "toc": {
   "base_numbering": 1,
   "nav_menu": {},
   "number_sections": true,
   "sideBar": true,
   "skip_h1_title": false,
   "title_cell": "Table of Contents",
   "title_sidebar": "Contents",
   "toc_cell": false,
   "toc_position": {},
   "toc_section_display": true,
   "toc_window_display": false
  },
  "varInspector": {
   "cols": {
    "lenName": 16,
    "lenType": 16,
    "lenVar": 40
   },
   "kernels_config": {
    "python": {
     "delete_cmd_postfix": "",
     "delete_cmd_prefix": "del ",
     "library": "var_list.py",
     "varRefreshCmd": "print(var_dic_list())"
    },
    "r": {
     "delete_cmd_postfix": ") ",
     "delete_cmd_prefix": "rm(",
     "library": "var_list.r",
     "varRefreshCmd": "cat(var_dic_list()) "
    }
   },
   "types_to_exclude": [
    "module",
    "function",
    "builtin_function_or_method",
    "instance",
    "_Feature"
   ],
   "window_display": false
  }
 },
 "nbformat": 4,
 "nbformat_minor": 5
}
